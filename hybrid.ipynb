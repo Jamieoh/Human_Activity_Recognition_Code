{
  "nbformat": 4,
  "nbformat_minor": 0,
  "metadata": {
    "colab": {
      "name": "hybrid.ipynb",
      "provenance": [],
      "collapsed_sections": []
    },
    "kernelspec": {
      "name": "python3",
      "display_name": "Python 3"
    },
    "accelerator": "GPU"
  },
  "cells": [
    {
      "cell_type": "code",
      "metadata": {
        "id": "EhEFfejJ3cpc",
        "colab_type": "code",
        "colab": {
          "resources": {
            "http://localhost:8080/nbextensions/google.colab/files.js": {
              "data": "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",
              "ok": true,
              "headers": [
                [
                  "content-type",
                  "application/javascript"
                ]
              ],
              "status": 200,
              "status_text": ""
            }
          },
          "base_uri": "https://localhost:8080/",
          "height": 74
        },
        "outputId": "25e4854f-ee4a-426f-a0a4-6ecc8ed344b8"
      },
      "source": [
        "# Import files from google drive\n",
        "from google.colab import files\n",
        "uploaded = files.upload()"
      ],
      "execution_count": null,
      "outputs": [
        {
          "output_type": "display_data",
          "data": {
            "text/html": [
              "\n",
              "     <input type=\"file\" id=\"files-77a33fbc-1369-4134-804c-7107e132c77f\" name=\"files[]\" multiple disabled />\n",
              "     <output id=\"result-77a33fbc-1369-4134-804c-7107e132c77f\">\n",
              "      Upload widget is only available when the cell has been executed in the\n",
              "      current browser session. Please rerun this cell to enable.\n",
              "      </output>\n",
              "      <script src=\"/nbextensions/google.colab/files.js\"></script> "
            ],
            "text/plain": [
              "<IPython.core.display.HTML object>"
            ]
          },
          "metadata": {
            "tags": []
          }
        },
        {
          "output_type": "stream",
          "text": [
            "Saving Dataset.zip to Dataset.zip\n"
          ],
          "name": "stdout"
        }
      ]
    },
    {
      "cell_type": "code",
      "metadata": {
        "id": "9UlCaCK13fbA",
        "colab_type": "code",
        "colab": {
          "base_uri": "https://localhost:8080/",
          "height": 212
        },
        "outputId": "4f40c1e0-a647-4653-9891-ff1f78347c54"
      },
      "source": [
        "# Unzip dataset\n",
        "!unzip Dataset"
      ],
      "execution_count": null,
      "outputs": [
        {
          "output_type": "stream",
          "text": [
            "Archive:  Dataset.zip\n",
            "  inflating: Dataset/mHealth_subject1.log  \n",
            "  inflating: Dataset/mHealth_subject10.log  \n",
            "  inflating: Dataset/mHealth_subject2.log  \n",
            "  inflating: Dataset/mHealth_subject3.log  \n",
            "  inflating: Dataset/mHealth_subject4.log  \n",
            "  inflating: Dataset/mHealth_subject5.log  \n",
            "  inflating: Dataset/mHealth_subject6.log  \n",
            "  inflating: Dataset/mHealth_subject7.log  \n",
            "  inflating: Dataset/mHealth_subject8.log  \n",
            "  inflating: Dataset/mHealth_subject9.log  \n"
          ],
          "name": "stdout"
        }
      ]
    },
    {
      "cell_type": "code",
      "metadata": {
        "id": "n_Cby3FH3gan",
        "colab_type": "code",
        "colab": {}
      },
      "source": [
        "# Import relevant libraries\n",
        "import numpy as np\n",
        "import pandas as pd\n",
        "from tqdm import tqdm\n",
        "import _pickle as cPickle\n",
        "from sklearn.preprocessing import LabelEncoder\n",
        "from sklearn.model_selection import train_test_split\n",
        "from sklearn import preprocessing\n",
        "import pickle\n",
        "import sys\n",
        "import os\n",
        "\n",
        "files=os.listdir(\"Dataset/\")\n",
        "folder=\"Dataset/\""
      ],
      "execution_count": null,
      "outputs": []
    },
    {
      "cell_type": "code",
      "metadata": {
        "id": "oaDL2ufO3jlm",
        "colab_type": "code",
        "colab": {
          "base_uri": "https://localhost:8080/",
          "height": 87
        },
        "outputId": "9aafe1ab-f15f-4a6f-cf74-36c4a4099ab7"
      },
      "source": [
        "features=[]\n",
        "labels=[]\n",
        "\n",
        "# loop over all files to get features and labels\n",
        "with tqdm(total=len(files)) as pbar:\n",
        "    for f1 in files:\n",
        "        name=folder+f1\n",
        "        f = open(name, 'r')\n",
        "        x=f.readline()\n",
        "        while(x):\n",
        "            x=x.split()\n",
        "            labels.append(int(x[-1]))\n",
        "            del x[-1]\n",
        "            sublist=[]\n",
        "            for val in x:\n",
        "                sublist.append(val)\n",
        "            features.append(np.array(sublist))\n",
        "            x=f.readline()\n",
        "        pbar.update(1)\n",
        "\n",
        "# Convert to an array\n",
        "features=np.array(features)\n",
        "labels=np.array(labels)\n",
        "\n",
        "# Print shape of features and labels\n",
        "print(features.shape)\n",
        "print(labels.shape)\n",
        "\n",
        "# Print unique labels\n",
        "print(np.unique(labels))\n",
        "\n",
        "#saving for future use\n",
        "with open(\"features\", 'wb') as fp:\n",
        "    pickle.dump(features, fp)\n",
        "\n",
        "with open(\"labels\", 'wb') as fp:\n",
        "    pickle.dump(labels, fp)"
      ],
      "execution_count": null,
      "outputs": [
        {
          "output_type": "stream",
          "text": [
            "100%|██████████| 10/10 [00:12<00:00,  1.25s/it]\n"
          ],
          "name": "stderr"
        },
        {
          "output_type": "stream",
          "text": [
            "(1215745, 23)\n",
            "(1215745,)\n",
            "[ 0  1  2  3  4  5  6  7  8  9 10 11 12]\n"
          ],
          "name": "stdout"
        }
      ]
    },
    {
      "cell_type": "code",
      "metadata": {
        "id": "xZOYxfDp3qa_",
        "colab_type": "code",
        "colab": {
          "base_uri": "https://localhost:8080/",
          "height": 34
        },
        "outputId": "2643e356-525c-4a23-c844-273da1da72fd"
      },
      "source": [
        "import numpy as np\n",
        "import matplotlib.pyplot as plt\n",
        "from tqdm import tqdm\n",
        "import csv\n",
        "from matplotlib import style\n",
        "import string\n",
        "from collections import Counter\n",
        "import sys\n",
        "import pickle\n",
        "import glob\n",
        "from keras.layers import Dense\n",
        "from keras.layers import SeparableConv1D,MaxPooling1D, LSTM\n",
        "from keras.models import Model\n",
        "from keras.layers import Input, Dense, Flatten, Dropout\n",
        "from keras.optimizers import Adam\n",
        "from keras.preprocessing.sequence import pad_sequences\n",
        "from sklearn.model_selection import train_test_split\n",
        "from sklearn.preprocessing import OneHotEncoder"
      ],
      "execution_count": null,
      "outputs": [
        {
          "output_type": "stream",
          "text": [
            "Using TensorFlow backend.\n"
          ],
          "name": "stderr"
        }
      ]
    },
    {
      "cell_type": "code",
      "metadata": {
        "id": "eZrrJnVC3r5v",
        "colab_type": "code",
        "colab": {}
      },
      "source": [
        "# getting data\n",
        "with open('features', 'rb') as fp:\n",
        "    X=pickle.load(fp)\n",
        "\n",
        "with open('labels', 'rb') as fp:\n",
        "    y=pickle.load(fp)"
      ],
      "execution_count": null,
      "outputs": []
    },
    {
      "cell_type": "code",
      "metadata": {
        "id": "P6g0L6PX3tgG",
        "colab_type": "code",
        "colab": {
          "base_uri": "https://localhost:8080/",
          "height": 107
        },
        "outputId": "d9349301-8a2b-4fc6-cca4-1305e317db07"
      },
      "source": [
        "# encoding labels to one hot form\n",
        "oh=OneHotEncoder()\n",
        "y=oh.fit_transform(np.reshape(y,(-1,1)))"
      ],
      "execution_count": null,
      "outputs": [
        {
          "output_type": "stream",
          "text": [
            "/usr/local/lib/python3.6/dist-packages/sklearn/preprocessing/_encoders.py:415: FutureWarning: The handling of integer data will change in version 0.22. Currently, the categories are determined based on the range [0, max(values)], while in the future they will be determined based on the unique values.\n",
            "If you want the future behaviour and silence this warning, you can specify \"categories='auto'\".\n",
            "In case you used a LabelEncoder before this OneHotEncoder to convert the categories to integers, then you can now use the OneHotEncoder directly.\n",
            "  warnings.warn(msg, FutureWarning)\n"
          ],
          "name": "stderr"
        }
      ]
    },
    {
      "cell_type": "code",
      "metadata": {
        "id": "r-JgWyaO3xov",
        "colab_type": "code",
        "colab": {}
      },
      "source": [
        "# splitting data in train and testing\n",
        "X_train, X_test, y_train, y_test=train_test_split(X,y,test_size=0.2, random_state=42, shuffle=True)\n",
        "\n",
        "X_train=np.expand_dims(X_train,axis=2)\n",
        "X_test=np.expand_dims(X_test,axis=2)"
      ],
      "execution_count": null,
      "outputs": []
    },
    {
      "cell_type": "code",
      "metadata": {
        "id": "GvGwqQk03kE-",
        "colab_type": "code",
        "colab": {
          "base_uri": "https://localhost:8080/",
          "height": 1000
        },
        "outputId": "74ea86ae-b478-444c-a769-aa6680983518"
      },
      "source": [
        "# Build CNN + LSTM Hybrid model\n",
        "\n",
        "input = Input(shape=(23,1))\n",
        "\n",
        "cnn=SeparableConv1D(64,3,activation='relu')(input)\n",
        "maxp=MaxPooling1D()(cnn)\n",
        "\n",
        "cnn=SeparableConv1D(128,3,activation='relu')(maxp)\n",
        "maxp=MaxPooling1D()(cnn)\n",
        "\n",
        "lstm=LSTM(16)(maxp)\n",
        "\n",
        "d=Dense(128, activation='relu')(lstm)\n",
        "d=Dropout(0.4)(d)\n",
        "\n",
        "d=Dense(256, activation='relu')(d)\n",
        "d=Dropout(0.4)(d)\n",
        "\n",
        "d=Dense(512, activation='relu')(d)\n",
        "\n",
        "# Dense layer that has a softmax activation function\n",
        "output = Dense(13, activation='softmax')(d)\n",
        "\n",
        "model = Model(inputs=input, outputs=output)\n",
        "\n",
        "# defining learning rate and optimizer\n",
        "adam=Adam(lr=0.001)\n",
        "\n",
        "# compiling model\n",
        "model.compile(optimizer=adam, loss='categorical_crossentropy', metrics=['accuracy'])\n",
        "\n",
        "history=model.fit(X_train,y_train,batch_size=32, epochs=20,validation_data=(X_test,y_test))\n",
        "\n",
        "# saving model\n",
        "model.save('cnn-lstm.h5')\n",
        "\n",
        "with open(\"OH\", 'wb') as fp:\n",
        "    pickle.dump(oh, fp)\n",
        "\n",
        "\n",
        "# plotting stats of model\n",
        "print(history.history.keys())\n",
        "\n",
        "# \"Loss\"\n",
        "plt.plot(history.history['loss'])\n",
        "plt.plot(history.history['val_loss'])\n",
        "plt.title('ConvLSTM loss')\n",
        "plt.ylabel('loss')\n",
        "plt.xlabel('epoch')\n",
        "plt.legend(['train', 'validation'], loc='upper left')\n",
        "plt.savefig(\"cnn-lstm-loss.png\")\n",
        "\n",
        "with open(\"X_test-cnn-lstm\", 'wb') as fp:\n",
        "    pickle.dump(X_test, fp)\n",
        "\n",
        "with open(\"y_test_cnn-lstm\", 'wb') as fp:\n",
        "    pickle.dump(y_test, fp)"
      ],
      "execution_count": null,
      "outputs": [
        {
          "output_type": "stream",
          "text": [
            "Train on 972596 samples, validate on 243149 samples\n",
            "Epoch 1/20\n",
            "972596/972596 [==============================] - 712s 732us/step - loss: 0.5844 - acc: 0.7697 - val_loss: 0.4829 - val_acc: 0.7978\n",
            "Epoch 2/20\n",
            "972596/972596 [==============================] - 738s 759us/step - loss: 0.4871 - acc: 0.7970 - val_loss: 0.4522 - val_acc: 0.8046\n",
            "Epoch 3/20\n",
            "972596/972596 [==============================] - 750s 771us/step - loss: 0.4631 - acc: 0.8062 - val_loss: 0.4426 - val_acc: 0.8110\n",
            "Epoch 4/20\n",
            "972596/972596 [==============================] - 740s 761us/step - loss: 0.4505 - acc: 0.8116 - val_loss: 0.4309 - val_acc: 0.8136\n",
            "Epoch 5/20\n",
            "972596/972596 [==============================] - 749s 770us/step - loss: 0.4424 - acc: 0.8153 - val_loss: 0.4201 - val_acc: 0.8190\n",
            "Epoch 6/20\n",
            "972596/972596 [==============================] - 693s 713us/step - loss: 0.4369 - acc: 0.8177 - val_loss: 0.4115 - val_acc: 0.8245\n",
            "Epoch 7/20\n",
            "972596/972596 [==============================] - 752s 773us/step - loss: 0.4338 - acc: 0.8196 - val_loss: 0.4043 - val_acc: 0.8279\n",
            "Epoch 8/20\n",
            "972596/972596 [==============================] - 748s 769us/step - loss: 0.4304 - acc: 0.8211 - val_loss: 0.4154 - val_acc: 0.8252\n",
            "Epoch 9/20\n",
            "972596/972596 [==============================] - 741s 762us/step - loss: 0.4282 - acc: 0.8220 - val_loss: 0.4304 - val_acc: 0.8155\n",
            "Epoch 10/20\n",
            "972596/972596 [==============================] - 752s 773us/step - loss: 0.4260 - acc: 0.8234 - val_loss: 0.4017 - val_acc: 0.8304\n",
            "Epoch 11/20\n",
            "972596/972596 [==============================] - 729s 749us/step - loss: 0.4238 - acc: 0.8245 - val_loss: 0.4002 - val_acc: 0.8303\n",
            "Epoch 12/20\n",
            "972596/972596 [==============================] - 690s 710us/step - loss: 0.4231 - acc: 0.8248 - val_loss: 0.3974 - val_acc: 0.8317\n",
            "Epoch 13/20\n",
            "972596/972596 [==============================] - 772s 794us/step - loss: 0.4225 - acc: 0.8245 - val_loss: 0.4035 - val_acc: 0.8291\n",
            "Epoch 14/20\n",
            "972596/972596 [==============================] - 725s 746us/step - loss: 0.4214 - acc: 0.8254 - val_loss: 0.4094 - val_acc: 0.8262\n",
            "Epoch 15/20\n",
            "972596/972596 [==============================] - 732s 753us/step - loss: 0.4228 - acc: 0.8254 - val_loss: 0.3927 - val_acc: 0.8324\n",
            "Epoch 16/20\n",
            "972596/972596 [==============================] - 715s 735us/step - loss: 0.4194 - acc: 0.8263 - val_loss: 0.4043 - val_acc: 0.8307\n",
            "Epoch 17/20\n",
            "972596/972596 [==============================] - 712s 732us/step - loss: 0.4199 - acc: 0.8263 - val_loss: 0.3955 - val_acc: 0.8324\n",
            "Epoch 18/20\n",
            "972596/972596 [==============================] - 711s 731us/step - loss: 0.4220 - acc: 0.8253 - val_loss: 0.4458 - val_acc: 0.8099\n",
            "Epoch 19/20\n",
            "972596/972596 [==============================] - 692s 711us/step - loss: 0.4204 - acc: 0.8261 - val_loss: 0.3948 - val_acc: 0.8327\n",
            "Epoch 20/20\n",
            "972596/972596 [==============================] - 685s 704us/step - loss: 0.4221 - acc: 0.8251 - val_loss: 0.4023 - val_acc: 0.8269\n",
            "dict_keys(['val_loss', 'val_acc', 'loss', 'acc'])\n"
          ],
          "name": "stdout"
        },
        {
          "output_type": "display_data",
          "data": {
            "image/png": "[encoded data removed]",
            "text/plain": [
              "<Figure size 432x288 with 1 Axes>"
            ]
          },
          "metadata": {
            "tags": []
          }
        }
      ]
    },
    {
      "cell_type": "code",
      "metadata": {
        "id": "P0uUNfl0aQKo",
        "colab_type": "code",
        "colab": {
          "base_uri": "https://localhost:8080/",
          "height": 294
        },
        "outputId": "29e3ec01-d88e-48d2-aaa4-76243fc693d1"
      },
      "source": [
        "#  \"Accuracy\"\n",
        "plt.plot(history.history['acc'])\n",
        "plt.plot(history.history['val_acc'])\n",
        "plt.title('ConvLSTM accuracy')\n",
        "plt.ylabel('accuracy')\n",
        "plt.xlabel('epoch')\n",
        "plt.legend(['train', 'validation'], loc='upper left')\n",
        "plt.savefig(\"cnn-lstm-acc.png\")"
      ],
      "execution_count": null,
      "outputs": [
        {
          "output_type": "display_data",
          "data": {
            "image/png": "[encoded data removed]",
            "text/plain": [
              "<Figure size 432x288 with 1 Axes>"
            ]
          },
          "metadata": {
            "tags": []
          }
        }
      ]
    },
    {
      "cell_type": "code",
      "metadata": {
        "id": "uSvkojNr4HKX",
        "colab_type": "code",
        "colab": {}
      },
      "source": [
        "import pickle\n",
        "import numpy as np\n",
        "\n",
        "import seaborn as sn\n",
        "import pandas as pd\n",
        "import matplotlib.pyplot as plt\n",
        "from keras.models import load_model\n",
        "from sklearn.metrics import confusion_matrix\n",
        "\n",
        "\n",
        "# getting data\n",
        "with open('X_test-cnn-lstm', 'rb') as fp:\n",
        "    X_test=pickle.load(fp)\n",
        "\n",
        "with open('y_test_cnn-lstm', 'rb') as fp:\n",
        "    y_test=pickle.load(fp)\n",
        "\n",
        "\n",
        "# load model whose conf matrix you want\n",
        "model=load_model('cnn-lstm.h5')\n",
        "\n",
        "# make predictions\n",
        "y_pred=model.predict(X_test)\n",
        "\n",
        "\n",
        "# 12 total classes\n",
        "labs=set()\n",
        "labs.add(0)\n",
        "labs.add(1)\n",
        "labs.add(2)\n",
        "labs.add(3)\n",
        "labs.add(4)\n",
        "labs.add(5)\n",
        "labs.add(6)\n",
        "labs.add(7)\n",
        "labs.add(8)\n",
        "labs.add(9)\n",
        "labs.add(10)\n",
        "labs.add(11)\n",
        "labs.add(12)\n",
        "\n",
        "preds=[]\n",
        "new_test=[]\n",
        "\n",
        "# converting one hot prediction and real label to single integer value\n",
        "for i,p in enumerate(y_pred):\n",
        "    preds.append(np.argmax(p))\n",
        "    new_test.append(np.argmax(y_test[i]))\n",
        "\n",
        "y_pred=preds\n",
        "y_test=new_test\n",
        "\n",
        "# making conf matrix\n",
        "array=confusion_matrix(y_test, y_pred)\n",
        "\n",
        "df_cm = pd.DataFrame(array, index = [i for i in list(labs)],\n",
        "                  columns = [i for i in list(labs)])\n",
        "plt.figure(figsize = (10,7))\n",
        "sn.heatmap(df_cm, annot=True,fmt='g')\n",
        "\n",
        "# saving matrix\n",
        "plt.title(\"Confusion Matrix: ConvLSTM\")\n",
        "plt.xlabel(\"Actual\")\n",
        "plt.ylabel(\"Predicted\")\n",
        "plt.savefig(\"CM-lstmCNN.png\")"
      ],
      "execution_count": null,
      "outputs": []
    },
    {
      "cell_type": "code",
      "metadata": {
        "id": "-DTlv5ev9IWN",
        "colab_type": "code",
        "colab": {
          "base_uri": "https://localhost:8080/",
          "height": 54
        },
        "outputId": "083f15e3-3968-404c-d8ce-b70eebe2a7cd"
      },
      "source": [
        "# print models layers\n",
        "print(model.layers)"
      ],
      "execution_count": null,
      "outputs": [
        {
          "output_type": "stream",
          "text": [
            "[<keras.engine.input_layer.InputLayer object at 0x7fbebac6ce80>, <keras.layers.convolutional.SeparableConv1D object at 0x7fbebac6cef0>, <keras.layers.pooling.MaxPooling1D object at 0x7fbebaca22e8>, <keras.layers.convolutional.SeparableConv1D object at 0x7fbebaca2400>, <keras.layers.pooling.MaxPooling1D object at 0x7fbebaca2748>, <keras.layers.recurrent.LSTM object at 0x7fbebaca2898>, <keras.layers.core.Dense object at 0x7fbebaca2b00>, <keras.layers.core.Dropout object at 0x7fbebaca2c50>, <keras.layers.core.Dense object at 0x7fbebaca2c88>, <keras.layers.core.Dropout object at 0x7fbebaca2dd8>, <keras.layers.core.Dense object at 0x7fbebaca2e10>, <keras.layers.core.Dense object at 0x7fbebaca2f60>]\n"
          ],
          "name": "stdout"
        }
      ]
    },
    {
      "cell_type": "code",
      "metadata": {
        "id": "rnQE1giO9Ltr",
        "colab_type": "code",
        "colab": {
          "base_uri": "https://localhost:8080/",
          "height": 34
        },
        "outputId": "27383714-22ca-4779-a892-0a7ee4f66197"
      },
      "source": [
        "# print models input layer\n",
        "print(model.input)"
      ],
      "execution_count": null,
      "outputs": [
        {
          "output_type": "stream",
          "text": [
            "Tensor(\"input_2_1:0\", shape=(?, 23, 1), dtype=float32)\n"
          ],
          "name": "stdout"
        }
      ]
    },
    {
      "cell_type": "code",
      "metadata": {
        "id": "Y5E6xZDy9NQE",
        "colab_type": "code",
        "colab": {
          "base_uri": "https://localhost:8080/",
          "height": 34
        },
        "outputId": "a0dec27b-a2e2-4cc8-e77a-8ed03aaf5db2"
      },
      "source": [
        "# print models output layer\n",
        "print(model.outputs)"
      ],
      "execution_count": null,
      "outputs": [
        {
          "output_type": "stream",
          "text": [
            "[<tf.Tensor 'dense_8_1/Softmax:0' shape=(?, 13) dtype=float32>]\n"
          ],
          "name": "stdout"
        }
      ]
    },
    {
      "cell_type": "code",
      "metadata": {
        "id": "4s0kviaS9Oxr",
        "colab_type": "code",
        "colab": {
          "base_uri": "https://localhost:8080/",
          "height": 585
        },
        "outputId": "e6c78683-672e-4b8d-f109-e772a60a5097"
      },
      "source": [
        "# summary of the model\n",
        "print(model.summary())"
      ],
      "execution_count": null,
      "outputs": [
        {
          "output_type": "stream",
          "text": [
            "_________________________________________________________________\n",
            "Layer (type)                 Output Shape              Param #   \n",
            "=================================================================\n",
            "input_2 (InputLayer)         (None, 23, 1)             0         \n",
            "_________________________________________________________________\n",
            "separable_conv1d_3 (Separabl (None, 21, 64)            131       \n",
            "_________________________________________________________________\n",
            "max_pooling1d_3 (MaxPooling1 (None, 10, 64)            0         \n",
            "_________________________________________________________________\n",
            "separable_conv1d_4 (Separabl (None, 8, 128)            8512      \n",
            "_________________________________________________________________\n",
            "max_pooling1d_4 (MaxPooling1 (None, 4, 128)            0         \n",
            "_________________________________________________________________\n",
            "lstm_2 (LSTM)                (None, 16)                9280      \n",
            "_________________________________________________________________\n",
            "dense_5 (Dense)              (None, 128)               2176      \n",
            "_________________________________________________________________\n",
            "dropout_3 (Dropout)          (None, 128)               0         \n",
            "_________________________________________________________________\n",
            "dense_6 (Dense)              (None, 256)               33024     \n",
            "_________________________________________________________________\n",
            "dropout_4 (Dropout)          (None, 256)               0         \n",
            "_________________________________________________________________\n",
            "dense_7 (Dense)              (None, 512)               131584    \n",
            "_________________________________________________________________\n",
            "dense_8 (Dense)              (None, 13)                6669      \n",
            "=================================================================\n",
            "Total params: 191,376\n",
            "Trainable params: 191,376\n",
            "Non-trainable params: 0\n",
            "_________________________________________________________________\n",
            "None\n"
          ],
          "name": "stdout"
        }
      ]
    },
    {
      "cell_type": "code",
      "metadata": {
        "id": "6zguezy0g6-x",
        "colab_type": "code",
        "colab": {
          "base_uri": "https://localhost:8080/",
          "height": 427
        },
        "outputId": "1f38e639-32af-4912-d48d-0e587e305563"
      },
      "source": [
        "from sklearn.metrics import classification_report\n",
        "\n",
        "classes = [\"Null class\", \"Standing still\", \"Sitting and relaxing\",\"Lying down\", \"Walking\",\"Climbing stairs\", \"Waist bends forward\",\"Frontal elevation of arms\", \"Knees bending (crouching)\",\"Cycling\", \"Jogging\",\"Running\", \"Jump front & back\"]\n",
        "\n",
        "print(classification_report(y_test, y_pred, target_names=classes))"
      ],
      "execution_count": null,
      "outputs": [
        {
          "output_type": "stream",
          "text": [
            "/usr/local/lib/python3.6/dist-packages/sklearn/metrics/classification.py:1437: UndefinedMetricWarning: Precision and F-score are ill-defined and being set to 0.0 in labels with no predicted samples.\n",
            "  'precision', 'predicted', average, warn_for)\n"
          ],
          "name": "stderr"
        },
        {
          "output_type": "stream",
          "text": [
            "                           precision    recall  f1-score   support\n",
            "\n",
            "               Null class       0.88      0.89      0.89    174577\n",
            "           Standing still       0.68      0.95      0.79      6131\n",
            "     Sitting and relaxing       0.71      1.00      0.83      6033\n",
            "               Lying down       0.75      1.00      0.86      6140\n",
            "                  Walking       0.78      0.25      0.37      6285\n",
            "          Climbing stairs       0.73      0.11      0.19      6198\n",
            "      Waist bends forward       0.65      0.73      0.69      5640\n",
            "Frontal elevation of arms       0.70      0.83      0.76      5859\n",
            "Knees bending (crouching)       0.68      0.58      0.62      5895\n",
            "                  Cycling       0.68      0.76      0.72      6080\n",
            "                  Jogging       0.66      0.52      0.58      6074\n",
            "                  Running       0.57      0.85      0.68      6173\n",
            "        Jump front & back       0.00      0.00      0.00      2064\n",
            "\n",
            "                 accuracy                           0.83    243149\n",
            "                macro avg       0.65      0.65      0.61    243149\n",
            "             weighted avg       0.82      0.83      0.81    243149\n",
            "\n"
          ],
          "name": "stdout"
        }
      ]
    },
    {
      "cell_type": "code",
      "metadata": {
        "id": "yirKd8hkE4_r",
        "colab_type": "code",
        "colab": {
          "base_uri": "https://localhost:8080/",
          "height": 666
        },
        "outputId": "45364e9c-3593-4270-d66d-0d0fe770e9c4"
      },
      "source": [
        "# Results\n",
        "from sklearn import metrics\n",
        "from numpy import argmax\n",
        "from sklearn.metrics import accuracy_score\n",
        "\n",
        "print(\"ConvLSTM - Accuracy:{}%\".format(100*accuracy_score(y_test, y_pred)))\n",
        "\n",
        "print(\"\")\n",
        "print(\"ConvLSTM - Precision: {}%\".format(100*metrics.precision_score(y_test, y_pred, average=\"weighted\")))\n",
        "print(\"ConvLSTM - Recall: {}%\".format(100*metrics.recall_score(y_test, y_pred, average=\"weighted\")))\n",
        "print(\"ConvLSTM - f1_score: {}%\".format(100*metrics.f1_score(y_test, y_pred, average=\"weighted\")))\n",
        "\n",
        "print(\"\")\n",
        "print(\"Confusion Matrix: ConvLSTM\")\n",
        "confusion_matrix = metrics.confusion_matrix(y_test, y_pred)\n",
        "print(confusion_matrix)"
      ],
      "execution_count": null,
      "outputs": [
        {
          "output_type": "stream",
          "text": [
            "ConvLSTM - Accuracy:84.61642860961797%\n",
            "\n"
          ],
          "name": "stdout"
        },
        {
          "output_type": "stream",
          "text": [
            "/usr/local/lib/python3.6/dist-packages/sklearn/metrics/classification.py:1437: UndefinedMetricWarning: Precision is ill-defined and being set to 0.0 in labels with no predicted samples.\n",
            "  'precision', 'predicted', average, warn_for)\n"
          ],
          "name": "stderr"
        },
        {
          "output_type": "stream",
          "text": [
            "ConvLSTM - Precision: 84.32357374326016%\n",
            "ConvLSTM - Recall: 84.61642860961797%\n"
          ],
          "name": "stdout"
        },
        {
          "output_type": "stream",
          "text": [
            "/usr/local/lib/python3.6/dist-packages/sklearn/metrics/classification.py:1437: UndefinedMetricWarning: F-score is ill-defined and being set to 0.0 in labels with no predicted samples.\n",
            "  'precision', 'predicted', average, warn_for)\n"
          ],
          "name": "stderr"
        },
        {
          "output_type": "stream",
          "text": [
            "ConvLSTM - f1_score: 84.14273256510552%\n",
            "\n",
            "Confusion Matrix: ConvLSTM\n",
            "[[154901   2516   2343   1909   1062   1735   1644   1610   1083   2094\n",
            "    1601   2111      0]\n",
            " [   291   6007      0      0      0      0      0      0      0      0\n",
            "       0      0      0]\n",
            " [    33      0   6071      0      0      0      0      0      0      0\n",
            "       0      0      0]\n",
            " [     7      0      0   6066      0      0      0      0      0      0\n",
            "       0      0      0]\n",
            " [  3131      0      0      0   3060     20      0      0      1      0\n",
            "       0      0      0]\n",
            " [  2919      0      0      0     28   3236      2      0     23      9\n",
            "       3      1      0]\n",
            " [  1635      9      0      0      0      0   3968      2     20      0\n",
            "       0      0      0]\n",
            " [  1288      3      0      0      0      0      0   4564      0      0\n",
            "       0      0      0]\n",
            " [  2645      1      0      1     11     86      7      1   3071      0\n",
            "       0      0      0]\n",
            " [  1008      0      4      0      0      8      0      0      5   5040\n",
            "       0      0      0]\n",
            " [  1098      0      0      2      0      3      0      0      0      0\n",
            "    4297    684      0]\n",
            " [   383      0      0      0      0      0      0      0      0      0\n",
            "     313   5463      0]\n",
            " [  1771      0      0      0      0      4      0      0      0      0\n",
            "      75    162      0]]\n"
          ],
          "name": "stdout"
        }
      ]
    },
    {
      "cell_type": "code",
      "metadata": {
        "id": "LC1H1oKfE9q-",
        "colab_type": "code",
        "colab": {
          "base_uri": "https://localhost:8080/",
          "height": 836
        },
        "outputId": "6f29af37-8caa-48e2-c1ef-6347ed93804c"
      },
      "source": [
        "# The following feature importance code is taken from this link. \n",
        "# Referenced in thesis\n",
        "# https://www.oipapio.com/question-3935333\n",
        "\n",
        "# Import libraries\n",
        "from mlxtend.plotting import plot_confusion_matrix\n",
        "import matplotlib.pyplot as plt\n",
        "import numpy as np\n",
        "\n",
        "confusion_matrix = metrics.confusion_matrix(y_test, y_pred)\n",
        "\n",
        "# Convert cm to array for multiclass cm\n",
        "normalised_confusion_matrix = np.array(confusion_matrix, dtype=np.float32)/np.sum(confusion_matrix)*100\n",
        "multiclass = normalised_confusion_matrix\n",
        "\n",
        "# labels (classes)\n",
        "classes = [\"Null class\", \"Standing still\", \"Sitting and relaxing\",\"Lying down\", \"Walking\",\"Climbing stairs\", \"Waist bends forward\",\"Frontal elevation of arms\", \"Knees bending (crouching)\",\"Cycling\", \"Jogging\",\"Running\", \"Jump front & back\"]\n",
        "\n",
        "# plot confusion matrix\n",
        "fig, ax = plot_confusion_matrix(conf_mat=multiclass,\n",
        "                                colorbar=True,\n",
        "                                show_absolute=False,\n",
        "                                show_normed=True,\n",
        "                               figsize = (12,12))\n",
        "\n",
        "# plot title, xaxis and yaxis, identify tickmarks, ensure tight layout\n",
        "plt.title('Confusion Matrix: ConvLSTM \\n(normalised to % of total test data)')\n",
        "plt.xlabel(\"Actual\")\n",
        "plt.ylabel(\"Predicted\")\n",
        "tick_marks = np.arange(13)\n",
        "plt.xticks(tick_marks, classes, rotation=90)\n",
        "plt.yticks(tick_marks, classes)\n",
        "plt.tight_layout()\n",
        "plt.show()"
      ],
      "execution_count": null,
      "outputs": [
        {
          "output_type": "display_data",
          "data": {
            "image/png": "[encoded data removed]",
            "text/plain": [
              "<Figure size 864x864 with 2 Axes>"
            ]
          },
          "metadata": {
            "tags": []
          }
        }
      ]
    },
    {
      "cell_type": "code",
      "metadata": {
        "id": "ISvdyxJaFDcP",
        "colab_type": "code",
        "colab": {
          "base_uri": "https://localhost:8080/",
          "height": 608
        },
        "outputId": "4dd86baf-d8bd-4d14-e0c3-c17a82c70320"
      },
      "source": [
        "# Bar chart feature importance\n",
        "\n",
        "from sklearn.metrics import confusion_matrix as cm\n",
        "import pandas as pd\n",
        "\n",
        "# confusion matrix\n",
        "confusion_matrix=cm(y_test, y_pred)\n",
        "\n",
        "# Create list containing labels for dataframe below\n",
        "list1 = [\"Null class\",\"Standing still\", \"Sitting and relaxing\",\"Lying down\", \"Walking\",\"Climbing stairs\", \"Waist bends forward\",\"Frontal elevation of arms\", \"Knees bending (crouching)\",\"Cycling\", \"Jogging\",\"Running\", \"Jump front & back\"]\n",
        "list2 = [\"Null class\",\"Standing still\", \"Sitting and relaxing\",\"Lying down\", \"Walking\",\"Climbing stairs\", \"Waist bends forward\",\"Frontal elevation of arms\", \"Knees bending (crouching)\",\"Cycling\", \"Jogging\",\"Running\", \"Jump front & back\"]\n",
        "\n",
        "# convert to pandas dataframe\n",
        "pd.DataFrame(confusion_matrix, list1,list2)\n",
        "\n",
        "df = pd.DataFrame(confusion_matrix, list1,list2)\n",
        "# Hard code in accuracy\n",
        "df['Accuracy'] = ['88%','96%','100%','99%','56%','41%','82%','82%','71%','78%','72%','79%','4%']\n",
        "df = df[1:14]\n",
        "df"
      ],
      "execution_count": null,
      "outputs": [
        {
          "output_type": "execute_result",
          "data": {
            "text/html": [
              "<div>\n",
              "<style scoped>\n",
              "    .dataframe tbody tr th:only-of-type {\n",
              "        vertical-align: middle;\n",
              "    }\n",
              "\n",
              "    .dataframe tbody tr th {\n",
              "        vertical-align: top;\n",
              "    }\n",
              "\n",
              "    .dataframe thead th {\n",
              "        text-align: right;\n",
              "    }\n",
              "</style>\n",
              "<table border=\"1\" class=\"dataframe\">\n",
              "  <thead>\n",
              "    <tr style=\"text-align: right;\">\n",
              "      <th></th>\n",
              "      <th>Unclassified</th>\n",
              "      <th>Standing still</th>\n",
              "      <th>Sitting and relaxing</th>\n",
              "      <th>Lying down</th>\n",
              "      <th>Walking</th>\n",
              "      <th>Climbing stairs</th>\n",
              "      <th>Waist bends forward</th>\n",
              "      <th>Frontal elevation of arms</th>\n",
              "      <th>Knees bending (crouching)</th>\n",
              "      <th>Cycling</th>\n",
              "      <th>Jogging</th>\n",
              "      <th>Running</th>\n",
              "      <th>Jump front &amp; back</th>\n",
              "      <th>Accuracy</th>\n",
              "    </tr>\n",
              "  </thead>\n",
              "  <tbody>\n",
              "    <tr>\n",
              "      <th>Standing still</th>\n",
              "      <td>652</td>\n",
              "      <td>5535</td>\n",
              "      <td>0</td>\n",
              "      <td>0</td>\n",
              "      <td>0</td>\n",
              "      <td>0</td>\n",
              "      <td>4</td>\n",
              "      <td>0</td>\n",
              "      <td>0</td>\n",
              "      <td>0</td>\n",
              "      <td>0</td>\n",
              "      <td>0</td>\n",
              "      <td>0</td>\n",
              "      <td>96%</td>\n",
              "    </tr>\n",
              "    <tr>\n",
              "      <th>Sitting and relaxing</th>\n",
              "      <td>46</td>\n",
              "      <td>0</td>\n",
              "      <td>6102</td>\n",
              "      <td>0</td>\n",
              "      <td>0</td>\n",
              "      <td>0</td>\n",
              "      <td>0</td>\n",
              "      <td>0</td>\n",
              "      <td>0</td>\n",
              "      <td>0</td>\n",
              "      <td>0</td>\n",
              "      <td>0</td>\n",
              "      <td>0</td>\n",
              "      <td>100%</td>\n",
              "    </tr>\n",
              "    <tr>\n",
              "      <th>Lying down</th>\n",
              "      <td>23</td>\n",
              "      <td>0</td>\n",
              "      <td>0</td>\n",
              "      <td>6078</td>\n",
              "      <td>0</td>\n",
              "      <td>0</td>\n",
              "      <td>0</td>\n",
              "      <td>0</td>\n",
              "      <td>0</td>\n",
              "      <td>0</td>\n",
              "      <td>0</td>\n",
              "      <td>0</td>\n",
              "      <td>0</td>\n",
              "      <td>99%</td>\n",
              "    </tr>\n",
              "    <tr>\n",
              "      <th>Walking</th>\n",
              "      <td>4371</td>\n",
              "      <td>0</td>\n",
              "      <td>0</td>\n",
              "      <td>0</td>\n",
              "      <td>1811</td>\n",
              "      <td>11</td>\n",
              "      <td>1</td>\n",
              "      <td>0</td>\n",
              "      <td>2</td>\n",
              "      <td>0</td>\n",
              "      <td>0</td>\n",
              "      <td>0</td>\n",
              "      <td>0</td>\n",
              "      <td>56%</td>\n",
              "    </tr>\n",
              "    <tr>\n",
              "      <th>Climbing stairs</th>\n",
              "      <td>3513</td>\n",
              "      <td>0</td>\n",
              "      <td>0</td>\n",
              "      <td>0</td>\n",
              "      <td>11</td>\n",
              "      <td>2495</td>\n",
              "      <td>9</td>\n",
              "      <td>0</td>\n",
              "      <td>50</td>\n",
              "      <td>2</td>\n",
              "      <td>4</td>\n",
              "      <td>0</td>\n",
              "      <td>0</td>\n",
              "      <td>41%</td>\n",
              "    </tr>\n",
              "    <tr>\n",
              "      <th>Waist bends forward</th>\n",
              "      <td>1286</td>\n",
              "      <td>2</td>\n",
              "      <td>0</td>\n",
              "      <td>0</td>\n",
              "      <td>0</td>\n",
              "      <td>0</td>\n",
              "      <td>4370</td>\n",
              "      <td>2</td>\n",
              "      <td>12</td>\n",
              "      <td>0</td>\n",
              "      <td>0</td>\n",
              "      <td>0</td>\n",
              "      <td>0</td>\n",
              "      <td>82%</td>\n",
              "    </tr>\n",
              "    <tr>\n",
              "      <th>Frontal elevation of arms</th>\n",
              "      <td>1153</td>\n",
              "      <td>1</td>\n",
              "      <td>0</td>\n",
              "      <td>0</td>\n",
              "      <td>0</td>\n",
              "      <td>0</td>\n",
              "      <td>13</td>\n",
              "      <td>4717</td>\n",
              "      <td>0</td>\n",
              "      <td>0</td>\n",
              "      <td>0</td>\n",
              "      <td>0</td>\n",
              "      <td>0</td>\n",
              "      <td>82%</td>\n",
              "    </tr>\n",
              "    <tr>\n",
              "      <th>Knees bending (crouching)</th>\n",
              "      <td>2139</td>\n",
              "      <td>0</td>\n",
              "      <td>0</td>\n",
              "      <td>0</td>\n",
              "      <td>17</td>\n",
              "      <td>33</td>\n",
              "      <td>50</td>\n",
              "      <td>0</td>\n",
              "      <td>3674</td>\n",
              "      <td>0</td>\n",
              "      <td>0</td>\n",
              "      <td>0</td>\n",
              "      <td>0</td>\n",
              "      <td>71%</td>\n",
              "    </tr>\n",
              "    <tr>\n",
              "      <th>Cycling</th>\n",
              "      <td>2121</td>\n",
              "      <td>0</td>\n",
              "      <td>0</td>\n",
              "      <td>0</td>\n",
              "      <td>0</td>\n",
              "      <td>1</td>\n",
              "      <td>0</td>\n",
              "      <td>0</td>\n",
              "      <td>11</td>\n",
              "      <td>3985</td>\n",
              "      <td>0</td>\n",
              "      <td>0</td>\n",
              "      <td>0</td>\n",
              "      <td>78%</td>\n",
              "    </tr>\n",
              "    <tr>\n",
              "      <th>Jogging</th>\n",
              "      <td>1216</td>\n",
              "      <td>0</td>\n",
              "      <td>0</td>\n",
              "      <td>0</td>\n",
              "      <td>0</td>\n",
              "      <td>1</td>\n",
              "      <td>0</td>\n",
              "      <td>0</td>\n",
              "      <td>0</td>\n",
              "      <td>0</td>\n",
              "      <td>4432</td>\n",
              "      <td>556</td>\n",
              "      <td>2</td>\n",
              "      <td>72%</td>\n",
              "    </tr>\n",
              "    <tr>\n",
              "      <th>Running</th>\n",
              "      <td>626</td>\n",
              "      <td>0</td>\n",
              "      <td>0</td>\n",
              "      <td>0</td>\n",
              "      <td>0</td>\n",
              "      <td>0</td>\n",
              "      <td>0</td>\n",
              "      <td>0</td>\n",
              "      <td>0</td>\n",
              "      <td>0</td>\n",
              "      <td>725</td>\n",
              "      <td>4866</td>\n",
              "      <td>0</td>\n",
              "      <td>79%</td>\n",
              "    </tr>\n",
              "    <tr>\n",
              "      <th>Jump front &amp; back</th>\n",
              "      <td>1659</td>\n",
              "      <td>0</td>\n",
              "      <td>0</td>\n",
              "      <td>0</td>\n",
              "      <td>0</td>\n",
              "      <td>1</td>\n",
              "      <td>0</td>\n",
              "      <td>0</td>\n",
              "      <td>0</td>\n",
              "      <td>0</td>\n",
              "      <td>104</td>\n",
              "      <td>119</td>\n",
              "      <td>148</td>\n",
              "      <td>4%</td>\n",
              "    </tr>\n",
              "  </tbody>\n",
              "</table>\n",
              "</div>"
            ],
            "text/plain": [
              "                           Unclassified  ...  Accuracy\n",
              "Standing still                      652  ...       96%\n",
              "Sitting and relaxing                 46  ...      100%\n",
              "Lying down                           23  ...       99%\n",
              "Walking                            4371  ...       56%\n",
              "Climbing stairs                    3513  ...       41%\n",
              "Waist bends forward                1286  ...       82%\n",
              "Frontal elevation of arms          1153  ...       82%\n",
              "Knees bending (crouching)          2139  ...       71%\n",
              "Cycling                            2121  ...       78%\n",
              "Jogging                            1216  ...       72%\n",
              "Running                             626  ...       79%\n",
              "Jump front & back                  1659  ...        4%\n",
              "\n",
              "[12 rows x 14 columns]"
            ]
          },
          "metadata": {
            "tags": []
          },
          "execution_count": 14
        }
      ]
    },
    {
      "cell_type": "code",
      "metadata": {
        "id": "f8K26DB8hiOg",
        "colab_type": "code",
        "colab": {
          "base_uri": "https://localhost:8080/",
          "height": 1000
        },
        "outputId": "d5729e9c-883f-425d-854c-92a88b6cb072"
      },
      "source": [
        "# The following feature importance code is taken from this link. \n",
        "# Referenced in thesis\n",
        "# https://www.oipapio.com/question-3935333\n",
        "\n",
        "# import libraries\n",
        "from xgboost import plot_importance,XGBClassifier\n",
        "from sklearn.model_selection import train_test_split\n",
        "from sklearn import model_selection\n",
        "\n",
        "# import libraries\n",
        "import numpy as np \n",
        "from xgboost import XGBClassifier \n",
        "\n",
        "# Set number of estimators\n",
        "xgb = XGBClassifier(n_estimators=100) \n",
        "\n",
        "# feature importance train test split\n",
        "X_train,X_test,y_train,y_test=model_selection.train_test_split(features,labels,test_size=0.2)\n",
        "\n",
        "# fit the model, set evaluation set and early stopping rounds\n",
        "xgb = xgb.fit(X_train,y_train,early_stopping_rounds=5,eval_set=[(X_test,y_test)])"
      ],
      "execution_count": null,
      "outputs": [
        {
          "output_type": "stream",
          "text": [
            "[0]\tvalidation_0-merror:0.251183\n",
            "Will train until validation_0-merror hasn't improved in 5 rounds.\n",
            "[1]\tvalidation_0-merror:0.250435\n",
            "[2]\tvalidation_0-merror:0.250501\n",
            "[3]\tvalidation_0-merror:0.250233\n",
            "[4]\tvalidation_0-merror:0.249818\n",
            "[5]\tvalidation_0-merror:0.249119\n",
            "[6]\tvalidation_0-merror:0.249341\n",
            "[7]\tvalidation_0-merror:0.249526\n",
            "[8]\tvalidation_0-merror:0.249485\n",
            "[9]\tvalidation_0-merror:0.249156\n",
            "[10]\tvalidation_0-merror:0.248272\n",
            "[11]\tvalidation_0-merror:0.248288\n",
            "[12]\tvalidation_0-merror:0.247507\n",
            "[13]\tvalidation_0-merror:0.245977\n",
            "[14]\tvalidation_0-merror:0.244916\n",
            "[15]\tvalidation_0-merror:0.244833\n",
            "[16]\tvalidation_0-merror:0.24179\n",
            "[17]\tvalidation_0-merror:0.240532\n",
            "[18]\tvalidation_0-merror:0.23961\n",
            "[19]\tvalidation_0-merror:0.238681\n",
            "[20]\tvalidation_0-merror:0.238019\n",
            "[21]\tvalidation_0-merror:0.237159\n",
            "[22]\tvalidation_0-merror:0.237188\n",
            "[23]\tvalidation_0-merror:0.235197\n",
            "[24]\tvalidation_0-merror:0.234741\n",
            "[25]\tvalidation_0-merror:0.234182\n",
            "[26]\tvalidation_0-merror:0.233285\n",
            "[27]\tvalidation_0-merror:0.232993\n",
            "[28]\tvalidation_0-merror:0.232483\n",
            "[29]\tvalidation_0-merror:0.23187\n",
            "[30]\tvalidation_0-merror:0.231126\n",
            "[31]\tvalidation_0-merror:0.230542\n",
            "[32]\tvalidation_0-merror:0.230172\n",
            "[33]\tvalidation_0-merror:0.229349\n",
            "[34]\tvalidation_0-merror:0.228506\n",
            "[35]\tvalidation_0-merror:0.228021\n",
            "[36]\tvalidation_0-merror:0.227856\n",
            "[37]\tvalidation_0-merror:0.227601\n",
            "[38]\tvalidation_0-merror:0.227494\n",
            "[39]\tvalidation_0-merror:0.225055\n",
            "[40]\tvalidation_0-merror:0.2239\n",
            "[41]\tvalidation_0-merror:0.221708\n",
            "[42]\tvalidation_0-merror:0.219573\n",
            "[43]\tvalidation_0-merror:0.218356\n",
            "[44]\tvalidation_0-merror:0.216744\n",
            "[45]\tvalidation_0-merror:0.215995\n",
            "[46]\tvalidation_0-merror:0.21428\n",
            "[47]\tvalidation_0-merror:0.212557\n",
            "[48]\tvalidation_0-merror:0.211504\n",
            "[49]\tvalidation_0-merror:0.210965\n",
            "[50]\tvalidation_0-merror:0.209361\n",
            "[51]\tvalidation_0-merror:0.208876\n",
            "[52]\tvalidation_0-merror:0.208276\n",
            "[53]\tvalidation_0-merror:0.207358\n",
            "[54]\tvalidation_0-merror:0.20663\n",
            "[55]\tvalidation_0-merror:0.205907\n",
            "[56]\tvalidation_0-merror:0.205397\n",
            "[57]\tvalidation_0-merror:0.203673\n",
            "[58]\tvalidation_0-merror:0.202612\n",
            "[59]\tvalidation_0-merror:0.200449\n",
            "[60]\tvalidation_0-merror:0.199799\n",
            "[61]\tvalidation_0-merror:0.198936\n",
            "[62]\tvalidation_0-merror:0.198294\n",
            "[63]\tvalidation_0-merror:0.19734\n",
            "[64]\tvalidation_0-merror:0.196813\n",
            "[65]\tvalidation_0-merror:0.195979\n",
            "[66]\tvalidation_0-merror:0.195205\n",
            "[67]\tvalidation_0-merror:0.194354\n",
            "[68]\tvalidation_0-merror:0.193511\n",
            "[69]\tvalidation_0-merror:0.192635\n",
            "[70]\tvalidation_0-merror:0.191886\n",
            "[71]\tvalidation_0-merror:0.190698\n",
            "[72]\tvalidation_0-merror:0.190073\n",
            "[73]\tvalidation_0-merror:0.188095\n",
            "[74]\tvalidation_0-merror:0.187675\n",
            "[75]\tvalidation_0-merror:0.187288\n",
            "[76]\tvalidation_0-merror:0.186684\n",
            "[77]\tvalidation_0-merror:0.185709\n",
            "[78]\tvalidation_0-merror:0.184907\n",
            "[79]\tvalidation_0-merror:0.183439\n",
            "[80]\tvalidation_0-merror:0.181769\n",
            "[81]\tvalidation_0-merror:0.180922\n",
            "[82]\tvalidation_0-merror:0.180577\n",
            "[83]\tvalidation_0-merror:0.179955\n",
            "[84]\tvalidation_0-merror:0.179446\n",
            "[85]\tvalidation_0-merror:0.178837\n",
            "[86]\tvalidation_0-merror:0.177879\n",
            "[87]\tvalidation_0-merror:0.177373\n",
            "[88]\tvalidation_0-merror:0.176945\n",
            "[89]\tvalidation_0-merror:0.176456\n",
            "[90]\tvalidation_0-merror:0.175855\n",
            "[91]\tvalidation_0-merror:0.175575\n",
            "[92]\tvalidation_0-merror:0.174848\n",
            "[93]\tvalidation_0-merror:0.174395\n",
            "[94]\tvalidation_0-merror:0.173819\n",
            "[95]\tvalidation_0-merror:0.173367\n",
            "[96]\tvalidation_0-merror:0.172721\n",
            "[97]\tvalidation_0-merror:0.172236\n",
            "[98]\tvalidation_0-merror:0.171759\n",
            "[99]\tvalidation_0-merror:0.171167\n"
          ],
          "name": "stdout"
        }
      ]
    },
    {
      "cell_type": "code",
      "metadata": {
        "id": "wfENzgQfhzVW",
        "colab_type": "code",
        "colab": {
          "base_uri": "https://localhost:8080/",
          "height": 720
        },
        "outputId": "0e14a931-ec49-4ee9-b560-4e8b9ac3c3c2"
      },
      "source": [
        "# import library\n",
        "import pandas as pd\n",
        "\n",
        "# fit model\n",
        "xgb_model=xgb.fit(X_train,y_train)\n",
        "\n",
        "# convert to pandas dataframe. assign 'feature' and 'importance columns'\n",
        "xgb_fea_imp=pd.DataFrame(list(xgb_model.get_booster().get_fscore().items()),\n",
        "                                           \n",
        "columns=['feature','importance']).sort_values('importance', ascending=False)\n",
        "\n",
        "# print feature importance for each attribute\n",
        "print('',xgb_fea_imp)\n",
        "\n",
        "# plot importance\n",
        "from xgboost import plot_importance\n",
        "plot_importance(xgb_model, )"
      ],
      "execution_count": null,
      "outputs": [
        {
          "output_type": "stream",
          "text": [
            "    feature  importance\n",
            "3       f8         730\n",
            "4      f18         708\n",
            "5      f15         690\n",
            "1      f17         614\n",
            "10      f2         596\n",
            "8      f19         561\n",
            "9      f11         506\n",
            "2      f14         472\n",
            "0       f0         456\n",
            "6      f10         439\n",
            "7       f7         438\n",
            "11      f9         402\n",
            "13     f16         369\n",
            "15     f22         336\n",
            "12     f20         283\n",
            "17      f6         257\n",
            "19     f13         248\n",
            "20     f12         198\n",
            "14      f1         167\n",
            "18     f21         162\n",
            "16      f5         137\n",
            "21      f4          94\n",
            "22      f3          44\n"
          ],
          "name": "stdout"
        },
        {
          "output_type": "execute_result",
          "data": {
            "text/plain": [
              "<matplotlib.axes._subplots.AxesSubplot at 0x7f853a6cf7b8>"
            ]
          },
          "metadata": {
            "tags": []
          },
          "execution_count": 17
        },
        {
          "output_type": "display_data",
          "data": {
            "image/png": "[encoded data removed]",
            "text/plain": [
              "<Figure size 432x288 with 1 Axes>"
            ]
          },
          "metadata": {
            "tags": []
          }
        }
      ]
    }
  ]
}