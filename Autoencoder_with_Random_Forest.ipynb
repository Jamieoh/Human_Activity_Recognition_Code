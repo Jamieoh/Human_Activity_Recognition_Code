{
  "nbformat": 4,
  "nbformat_minor": 0,
  "metadata": {
    "colab": {
      "name": "ae_Copy.ipynb",
      "provenance": []
    },
    "kernelspec": {
      "name": "python3",
      "display_name": "Python 3"
    },
    "accelerator": "GPU"
  },
  "cells": [
    {
      "cell_type": "code",
      "metadata": {
        "id": "Rf-iVFBBAmsH",
        "colab_type": "code",
        "colab": {
          "base_uri": "https://localhost:8080/",
          "height": 34
        },
        "outputId": "039ff7f5-9b84-404e-9f89-714441ca4264"
      },
      "source": [
        "import numpy as np\n",
        "import matplotlib.pyplot as plt\n",
        "from tqdm import tqdm\n",
        "import csv\n",
        "from matplotlib import style\n",
        "import string\n",
        "from collections import Counter\n",
        "import sys\n",
        "import pickle\n",
        "import glob\n",
        "from keras.layers import Dense\n",
        "from keras.layers import SeparableConv1D,MaxPooling1D, LSTM\n",
        "from keras.models import Model\n",
        "from keras.layers import Input, Dense, Flatten, Dropout\n",
        "from keras.optimizers import Adam\n",
        "from keras.preprocessing.sequence import pad_sequences\n",
        "from sklearn.model_selection import train_test_split\n",
        "from sklearn.preprocessing import OneHotEncoder"
      ],
      "execution_count": null,
      "outputs": [
        {
          "output_type": "stream",
          "text": [
            "Using TensorFlow backend.\n"
          ],
          "name": "stderr"
        }
      ]
    },
    {
      "cell_type": "code",
      "metadata": {
        "id": "qCLioY5aiYds",
        "colab_type": "code",
        "colab": {
          "resources": {
            "http://localhost:8080/nbextensions/google.colab/files.js": {
              "data": "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",
              "ok": true,
              "headers": [
                [
                  "content-type",
                  "application/javascript"
                ]
              ],
              "status": 200,
              "status_text": ""
            }
          },
          "base_uri": "https://localhost:8080/",
          "height": 74
        },
        "outputId": "e49119c6-01db-42d1-90ff-87d28b0e5267"
      },
      "source": [
        "# Import files from google drive\n",
        "from google.colab import files\n",
        "uploaded = files.upload()"
      ],
      "execution_count": null,
      "outputs": [
        {
          "output_type": "display_data",
          "data": {
            "text/html": [
              "\n",
              "     <input type=\"file\" id=\"files-b44b36da-05e7-43c4-b357-9f1adc011342\" name=\"files[]\" multiple disabled />\n",
              "     <output id=\"result-b44b36da-05e7-43c4-b357-9f1adc011342\">\n",
              "      Upload widget is only available when the cell has been executed in the\n",
              "      current browser session. Please rerun this cell to enable.\n",
              "      </output>\n",
              "      <script src=\"/nbextensions/google.colab/files.js\"></script> "
            ],
            "text/plain": [
              "<IPython.core.display.HTML object>"
            ]
          },
          "metadata": {
            "tags": []
          }
        },
        {
          "output_type": "stream",
          "text": [
            "Saving Dataset.zip to Dataset.zip\n"
          ],
          "name": "stdout"
        }
      ]
    },
    {
      "cell_type": "code",
      "metadata": {
        "id": "_GRapMg3TbMd",
        "colab_type": "code",
        "colab": {
          "base_uri": "https://localhost:8080/",
          "height": 204
        },
        "outputId": "27e5e299-6f65-445a-996c-598ac4af8d59"
      },
      "source": [
        "# Unzip dataset\n",
        "!unzip Dataset"
      ],
      "execution_count": null,
      "outputs": [
        {
          "output_type": "stream",
          "text": [
            "Archive:  Dataset.zip\n",
            "  inflating: Dataset/mHealth_subject1.log  \n",
            "  inflating: Dataset/mHealth_subject10.log  \n",
            "  inflating: Dataset/mHealth_subject2.log  \n",
            "  inflating: Dataset/mHealth_subject3.log  \n",
            "  inflating: Dataset/mHealth_subject4.log  \n",
            "  inflating: Dataset/mHealth_subject5.log  \n",
            "  inflating: Dataset/mHealth_subject6.log  \n",
            "  inflating: Dataset/mHealth_subject7.log  \n",
            "  inflating: Dataset/mHealth_subject8.log  \n",
            "  inflating: Dataset/mHealth_subject9.log  \n"
          ],
          "name": "stdout"
        }
      ]
    },
    {
      "cell_type": "code",
      "metadata": {
        "id": "JrhlNJ1zb3EL",
        "colab_type": "code",
        "colab": {}
      },
      "source": [
        "# Import relevant libraries\n",
        "import numpy as np\n",
        "import pandas as pd\n",
        "from tqdm import tqdm\n",
        "import _pickle as cPickle\n",
        "from sklearn.preprocessing import LabelEncoder\n",
        "from sklearn.model_selection import train_test_split\n",
        "from sklearn import preprocessing\n",
        "import pickle\n",
        "import sys\n",
        "import os\n",
        "\n",
        "files=os.listdir(\"Dataset/\")\n",
        "folder=\"Dataset/\""
      ],
      "execution_count": null,
      "outputs": []
    },
    {
      "cell_type": "code",
      "metadata": {
        "id": "eE_3sNrEb9Cw",
        "colab_type": "code",
        "colab": {
          "base_uri": "https://localhost:8080/",
          "height": 85
        },
        "outputId": "be259bc3-a7a0-48aa-c3d2-6f24af16e48c"
      },
      "source": [
        "features=[]\n",
        "labels=[]\n",
        "\n",
        "# loop over all files to get features and labels\n",
        "with tqdm(total=len(files)) as pbar:\n",
        "    for f1 in files:\n",
        "        name=folder+f1\n",
        "        f = open(name, 'r')\n",
        "        x=f.readline()\n",
        "        while(x):\n",
        "            x=x.split()\n",
        "            labels.append(int(x[-1]))\n",
        "            del x[-1]\n",
        "            sublist=[]\n",
        "            for val in x:\n",
        "                sublist.append(val)\n",
        "            features.append(np.array(sublist))\n",
        "            x=f.readline()\n",
        "        pbar.update(1)\n",
        "\n",
        "# Convert to an array\n",
        "features=np.array(features)\n",
        "labels=np.array(labels)\n",
        "\n",
        "# Print shape of features and labels\n",
        "print(features.shape)\n",
        "print(labels.shape)\n",
        "\n",
        "# Print unique labels\n",
        "print(np.unique(labels))\n",
        "\n",
        "# saving for future use\n",
        "with open(\"features\", 'wb') as fp:\n",
        "    pickle.dump(features, fp)\n",
        "\n",
        "with open(\"labels\", 'wb') as fp:\n",
        "    pickle.dump(labels, fp)"
      ],
      "execution_count": null,
      "outputs": [
        {
          "output_type": "stream",
          "text": [
            "100%|██████████| 10/10 [00:11<00:00,  1.12s/it]\n"
          ],
          "name": "stderr"
        },
        {
          "output_type": "stream",
          "text": [
            "(1215745, 23)\n",
            "(1215745,)\n",
            "[ 0  1  2  3  4  5  6  7  8  9 10 11 12]\n"
          ],
          "name": "stdout"
        }
      ]
    },
    {
      "cell_type": "code",
      "metadata": {
        "id": "1QYiESkVBNPL",
        "colab_type": "code",
        "colab": {}
      },
      "source": [
        "# getting data\n",
        "with open('features', 'rb') as fp:\n",
        "    X=pickle.load(fp)\n",
        "\n",
        "with open('labels', 'rb') as fp:\n",
        "    y=pickle.load(fp)"
      ],
      "execution_count": null,
      "outputs": []
    },
    {
      "cell_type": "code",
      "metadata": {
        "id": "AiU9jZauBPgR",
        "colab_type": "code",
        "colab": {
          "base_uri": "https://localhost:8080/",
          "height": 105
        },
        "outputId": "ff6dd149-4a97-44c8-dd99-b34d3ef9643f"
      },
      "source": [
        "# encoding labels to one hot form\n",
        "oh=OneHotEncoder()\n",
        "y=oh.fit_transform(np.reshape(y,(-1,1)))"
      ],
      "execution_count": null,
      "outputs": [
        {
          "output_type": "stream",
          "text": [
            "/usr/local/lib/python3.6/dist-packages/sklearn/preprocessing/_encoders.py:415: FutureWarning: The handling of integer data will change in version 0.22. Currently, the categories are determined based on the range [0, max(values)], while in the future they will be determined based on the unique values.\n",
            "If you want the future behaviour and silence this warning, you can specify \"categories='auto'\".\n",
            "In case you used a LabelEncoder before this OneHotEncoder to convert the categories to integers, then you can now use the OneHotEncoder directly.\n",
            "  warnings.warn(msg, FutureWarning)\n"
          ],
          "name": "stderr"
        }
      ]
    },
    {
      "cell_type": "code",
      "metadata": {
        "id": "y1YLRGPTBSFp",
        "colab_type": "code",
        "colab": {}
      },
      "source": [
        "# splitting data into training and testing\n",
        "X_train, X_test, y_train, y_test=train_test_split(X,y,test_size=0.2, random_state=42, shuffle=True)\n",
        "\n",
        "# X_train=np.expand_dims(X_train,axis=2)\n",
        "# X_test=np.expand_dims(X_test,axis=2)"
      ],
      "execution_count": null,
      "outputs": []
    },
    {
      "cell_type": "code",
      "metadata": {
        "id": "joBHBukOAxmi",
        "colab_type": "code",
        "colab": {
          "base_uri": "https://localhost:8080/",
          "height": 1000
        },
        "outputId": "404fbf15-7e77-4364-ee29-73092e67db32"
      },
      "source": [
        "# Autoencoder\n",
        "input = Input(shape=(23,))\n",
        "\n",
        "d=Dense(128, activation='relu')(input)\n",
        "d=Dense(64, activation='relu')(d)\n",
        "\n",
        "# learn a representation (encoding) for a set of data\n",
        "d=Dense(8, activation='relu',name='encoding')(d)\n",
        "\n",
        "d=Dense(64, activation='relu')(d)\n",
        "d=Dense(128, activation='relu')(d)\n",
        "\n",
        "# Linear (i.e. identity) activation function\n",
        "d=Dense(23, activation='linear')(d)\n",
        "\n",
        "model = Model(inputs=input, outputs=d)\n",
        "\n",
        "# defining learning rate and optimizer\n",
        "adam=Adam(lr=0.0005)\n",
        "\n",
        "# compiling model\n",
        "model.compile(optimizer=adam, loss='mse')\n",
        "\n",
        "# fit model, define batch size and number of epochs\n",
        "history=model.fit(X_train,X_train,batch_size=32, epochs=20,validation_data=(X_test,X_test))\n",
        "\n",
        "# saving model\n",
        "model.save('ae.h5')\n",
        "\n",
        "with open(\"OH\", 'wb') as fp:\n",
        "    pickle.dump(oh, fp)\n",
        "\n",
        "# plotting stats of model\n",
        "print(history.history.keys())\n",
        "\n",
        "# \"Loss\"\n",
        "plt.plot(history.history['loss'])\n",
        "plt.plot(history.history['val_loss'])\n",
        "plt.title('Autoencoder loss')\n",
        "plt.ylabel('loss')\n",
        "plt.xlabel('epoch')\n",
        "plt.legend(['train', 'validation'], loc='upper left')\n",
        "plt.savefig(\"ae-loss.png\")\n",
        "\n",
        "with open(\"X_test-AE\", 'wb') as fp:\n",
        "    pickle.dump(X_test, fp)\n",
        "\n",
        "with open(\"y_test-AE\", 'wb') as fp:\n",
        "    pickle.dump(y_test, fp)"
      ],
      "execution_count": null,
      "outputs": [
        {
          "output_type": "stream",
          "text": [
            "WARNING: Logging before flag parsing goes to stderr.\n",
            "W0821 10:29:39.661973 140433378301824 deprecation_wrapper.py:119] From /usr/local/lib/python3.6/dist-packages/keras/backend/tensorflow_backend.py:74: The name tf.get_default_graph is deprecated. Please use tf.compat.v1.get_default_graph instead.\n",
            "\n",
            "W0821 10:29:39.702390 140433378301824 deprecation_wrapper.py:119] From /usr/local/lib/python3.6/dist-packages/keras/backend/tensorflow_backend.py:517: The name tf.placeholder is deprecated. Please use tf.compat.v1.placeholder instead.\n",
            "\n",
            "W0821 10:29:39.709736 140433378301824 deprecation_wrapper.py:119] From /usr/local/lib/python3.6/dist-packages/keras/backend/tensorflow_backend.py:4138: The name tf.random_uniform is deprecated. Please use tf.random.uniform instead.\n",
            "\n",
            "W0821 10:29:39.798866 140433378301824 deprecation_wrapper.py:119] From /usr/local/lib/python3.6/dist-packages/keras/optimizers.py:790: The name tf.train.Optimizer is deprecated. Please use tf.compat.v1.train.Optimizer instead.\n",
            "\n",
            "W0821 10:29:39.942115 140433378301824 deprecation_wrapper.py:119] From /usr/local/lib/python3.6/dist-packages/keras/backend/tensorflow_backend.py:986: The name tf.assign_add is deprecated. Please use tf.compat.v1.assign_add instead.\n",
            "\n",
            "W0821 10:29:40.095341 140433378301824 deprecation_wrapper.py:119] From /usr/local/lib/python3.6/dist-packages/keras/backend/tensorflow_backend.py:973: The name tf.assign is deprecated. Please use tf.compat.v1.assign instead.\n",
            "\n"
          ],
          "name": "stderr"
        },
        {
          "output_type": "stream",
          "text": [
            "Train on 972596 samples, validate on 243149 samples\n",
            "Epoch 1/20\n",
            "972596/972596 [==============================] - 155s 160us/step - loss: 6.3460 - val_loss: 3.8006\n",
            "Epoch 2/20\n",
            "972596/972596 [==============================] - 150s 154us/step - loss: 3.3630 - val_loss: 3.1941\n",
            "Epoch 3/20\n",
            "972596/972596 [==============================] - 148s 152us/step - loss: 3.1056 - val_loss: 3.0011\n",
            "Epoch 4/20\n",
            "972596/972596 [==============================] - 145s 149us/step - loss: 2.9377 - val_loss: 2.7768\n",
            "Epoch 5/20\n",
            "972596/972596 [==============================] - 146s 151us/step - loss: 2.8067 - val_loss: 2.7344\n",
            "Epoch 6/20\n",
            "972596/972596 [==============================] - 146s 150us/step - loss: 2.7238 - val_loss: 2.8169\n",
            "Epoch 7/20\n",
            "972596/972596 [==============================] - 147s 151us/step - loss: 2.6512 - val_loss: 2.7049\n",
            "Epoch 8/20\n",
            "972596/972596 [==============================] - 146s 150us/step - loss: 2.5786 - val_loss: 2.5186\n",
            "Epoch 9/20\n",
            "972596/972596 [==============================] - 149s 153us/step - loss: 2.5141 - val_loss: 2.7239\n",
            "Epoch 10/20\n",
            "972596/972596 [==============================] - 150s 155us/step - loss: 2.4581 - val_loss: 2.3374\n",
            "Epoch 11/20\n",
            "972596/972596 [==============================] - 150s 154us/step - loss: 2.4113 - val_loss: 2.8030\n",
            "Epoch 12/20\n",
            "972596/972596 [==============================] - 147s 151us/step - loss: 2.3632 - val_loss: 2.3420\n",
            "Epoch 13/20\n",
            "972596/972596 [==============================] - 144s 148us/step - loss: 2.3239 - val_loss: 2.5158\n",
            "Epoch 14/20\n",
            "972596/972596 [==============================] - 142s 146us/step - loss: 2.2901 - val_loss: 2.1928\n",
            "Epoch 15/20\n",
            "972596/972596 [==============================] - 142s 146us/step - loss: 2.2562 - val_loss: 2.2295\n",
            "Epoch 16/20\n",
            "972596/972596 [==============================] - 141s 145us/step - loss: 2.2282 - val_loss: 2.1824\n",
            "Epoch 17/20\n",
            "972596/972596 [==============================] - 142s 146us/step - loss: 2.2062 - val_loss: 2.0896\n",
            "Epoch 18/20\n",
            "972596/972596 [==============================] - 143s 147us/step - loss: 2.1755 - val_loss: 2.1126\n",
            "Epoch 19/20\n",
            "972596/972596 [==============================] - 143s 147us/step - loss: 2.1550 - val_loss: 2.1176\n",
            "Epoch 20/20\n",
            "972596/972596 [==============================] - 143s 147us/step - loss: 2.1354 - val_loss: 2.1270\n",
            "dict_keys(['val_loss', 'loss'])\n"
          ],
          "name": "stdout"
        },
        {
          "output_type": "display_data",
          "data": {
            "image/png": "[encoded data removed]",
            "text/plain": [
              "<Figure size 432x288 with 1 Axes>"
            ]
          },
          "metadata": {
            "tags": []
          }
        }
      ]
    },
    {
      "cell_type": "code",
      "metadata": {
        "id": "CgdwZKD6RPM0",
        "colab_type": "code",
        "colab": {
          "base_uri": "https://localhost:8080/",
          "height": 34
        },
        "outputId": "7271a15f-28ca-4c02-f4f7-782d2937966c"
      },
      "source": [
        "print(model.input)"
      ],
      "execution_count": null,
      "outputs": [
        {
          "output_type": "stream",
          "text": [
            "Tensor(\"input_1:0\", shape=(?, 23), dtype=float32)\n"
          ],
          "name": "stdout"
        }
      ]
    },
    {
      "cell_type": "code",
      "metadata": {
        "id": "t0Yi3A_aRPlh",
        "colab_type": "code",
        "colab": {
          "base_uri": "https://localhost:8080/",
          "height": 34
        },
        "outputId": "1cd74ab3-0fca-49d1-dfa6-afb0e71e1b05"
      },
      "source": [
        "print(model.outputs)"
      ],
      "execution_count": null,
      "outputs": [
        {
          "output_type": "stream",
          "text": [
            "[<tf.Tensor 'dense_5/BiasAdd:0' shape=(?, 23) dtype=float32>]\n"
          ],
          "name": "stdout"
        }
      ]
    },
    {
      "cell_type": "code",
      "metadata": {
        "id": "fQuh8DEsRP25",
        "colab_type": "code",
        "colab": {
          "base_uri": "https://localhost:8080/",
          "height": 391
        },
        "outputId": "0dda55df-974b-4ef1-8aa5-c3dfd972cc25"
      },
      "source": [
        "print(model.summary())"
      ],
      "execution_count": null,
      "outputs": [
        {
          "output_type": "stream",
          "text": [
            "_________________________________________________________________\n",
            "Layer (type)                 Output Shape              Param #   \n",
            "=================================================================\n",
            "input_1 (InputLayer)         (None, 23)                0         \n",
            "_________________________________________________________________\n",
            "dense_1 (Dense)              (None, 128)               3072      \n",
            "_________________________________________________________________\n",
            "dense_2 (Dense)              (None, 64)                8256      \n",
            "_________________________________________________________________\n",
            "encoding (Dense)             (None, 8)                 520       \n",
            "_________________________________________________________________\n",
            "dense_3 (Dense)              (None, 64)                576       \n",
            "_________________________________________________________________\n",
            "dense_4 (Dense)              (None, 128)               8320      \n",
            "_________________________________________________________________\n",
            "dense_5 (Dense)              (None, 23)                2967      \n",
            "=================================================================\n",
            "Total params: 23,711\n",
            "Trainable params: 23,711\n",
            "Non-trainable params: 0\n",
            "_________________________________________________________________\n",
            "None\n"
          ],
          "name": "stdout"
        }
      ]
    },
    {
      "cell_type": "code",
      "metadata": {
        "id": "P7k4p-mXmAsy",
        "colab_type": "code",
        "colab": {}
      },
      "source": [
        "#  \"Accuracy\"\n",
        "plt.plot(history.history['acc'])\n",
        "plt.plot(history.history['val_acc'])\n",
        "plt.title('Autoencoder Accuracy')\n",
        "plt.ylabel('accuracy')\n",
        "plt.xlabel('epoch')\n",
        "plt.legend(['train', 'validation'], loc='upper left')\n",
        "plt.savefig(\"ae-acc.png\")"
      ],
      "execution_count": null,
      "outputs": []
    },
    {
      "cell_type": "code",
      "metadata": {
        "id": "Hg2Gf55_lqDL",
        "colab_type": "code",
        "colab": {}
      },
      "source": [
        "#getting data\n",
        "with open('features', 'rb') as fp:\n",
        "    X=pickle.load(fp)\n",
        "\n",
        "with open('labels', 'rb') as fp:\n",
        "    y=pickle.load(fp)\n",
        "    "
      ],
      "execution_count": null,
      "outputs": []
    },
    {
      "cell_type": "code",
      "metadata": {
        "id": "WPrrxlSKlsXy",
        "colab_type": "code",
        "colab": {
          "base_uri": "https://localhost:8080/",
          "height": 70
        },
        "outputId": "8f52abe0-29d7-4ba8-8d77-b54a108ce638"
      },
      "source": [
        "# Get features from the AutoEncoder model\n",
        "\n",
        "# call previous model\n",
        "#model=load_model('ae.h5')\n",
        "layer_name = 'encoding'\n",
        "intermediate_layer_model = Model(inputs=model.input,\n",
        "                            outputs=model.get_layer(layer_name).output)\n",
        "\n",
        "# convert predicted model to an array to identify features\n",
        "newfeatures=np.array(intermediate_layer_model.predict(X))\n",
        "\n",
        "# print shape of predicted new features\n",
        "print(newfeatures.shape)\n",
        "\n",
        "# splitting predicted new features into training and testing\n",
        "X_train, X_test, y_train, y_test=train_test_split(newfeatures,y,test_size=0.2, random_state=42, shuffle=True)\n",
        "\n",
        "print(y_train.shape)\n",
        "\n",
        "# Write a pickled representation of new features to ae_features.\n",
        "with open(\"ae_features\", 'wb') as fp:\n",
        "    pickle.dump(newfeatures, fp)\n",
        "\n",
        "# Import\n",
        "from sklearn.ensemble import RandomForestClassifier\n",
        "\n",
        "# Random Forest Classifier - identify number of trees (40) + no. of processors (4) allowed to use\n",
        "clf=RandomForestClassifier(n_estimators=40,n_jobs=4)\n",
        "\n",
        "# fit the training data\n",
        "clf.fit(X_train,y_train)\n",
        "\n",
        "# Print Accuracy\n",
        "print(\"Testing Accuracy after AutoEncoder and Random Forest: {}%\".format(100*clf.score(X_test,y_test)))"
      ],
      "execution_count": null,
      "outputs": [
        {
          "output_type": "stream",
          "text": [
            "(1215745, 8)\n",
            "(972596,)\n",
            "Testing Accuracy after AutoEncoder and Random Forest: 83.24648672213334%\n"
          ],
          "name": "stdout"
        }
      ]
    },
    {
      "cell_type": "code",
      "metadata": {
        "id": "ei5EF1er93_o",
        "colab_type": "code",
        "colab": {
          "base_uri": "https://localhost:8080/",
          "height": 105
        },
        "outputId": "22a34dd4-4432-4a46-84b0-7bd7a9d50c33"
      },
      "source": [
        "from sklearn.metrics import accuracy_score,recall_score,confusion_matrix\n",
        "\n",
        "y_pred = clf.predict(X_test)\n",
        "\n",
        "from sklearn import metrics\n",
        "from numpy import argmax\n",
        "from sklearn.metrics import accuracy_score\n",
        "\n",
        "print(\"Autoencoder by Random Forest - Accuracy:{}%\".format(100*accuracy_score(y_test, y_pred)))\n",
        "\n",
        "print(\"\")\n",
        "print(\"Autoencoder by Random Forest - Precision: {}%\".format(100*metrics.precision_score(y_test, y_pred, average=\"weighted\")))\n",
        "print(\"Autoencoder by Random Forest - Recall: {}%\".format(100*metrics.recall_score(y_test, y_pred, average=\"weighted\")))\n",
        "print(\"Autoencoder by Random Forest - f1_score: {}%\".format(100*metrics.f1_score(y_test, y_pred, average=\"weighted\")))\n"
      ],
      "execution_count": null,
      "outputs": [
        {
          "output_type": "stream",
          "text": [
            "Autoencoder by Random Forest - Accuracy:83.24648672213334%\n",
            "\n",
            "Autoencoder by Random Forest - Precision: 82.59696741057171%\n",
            "Autoencoder by Random Forest - Recall: 83.24648672213334%\n",
            "Autoencoder by Random Forest - f1_score: 81.54167890125586%\n"
          ],
          "name": "stdout"
        }
      ]
    },
    {
      "cell_type": "code",
      "metadata": {
        "id": "WsyBlBJA_Goq",
        "colab_type": "code",
        "colab": {
          "base_uri": "https://localhost:8080/",
          "height": 835
        },
        "outputId": "371268a6-d572-408c-e7e3-879708cf29cc"
      },
      "source": [
        "# Import libraries\n",
        "from mlxtend.plotting import plot_confusion_matrix\n",
        "import matplotlib.pyplot as plt\n",
        "import numpy as np\n",
        "\n",
        "confusion_matrix = metrics.confusion_matrix(y_test, y_pred)\n",
        "\n",
        "# Convert cm to array for multiclass cm\n",
        "normalised_confusion_matrix = np.array(confusion_matrix, dtype=np.float32)/np.sum(confusion_matrix)*100\n",
        "multiclass = normalised_confusion_matrix\n",
        "\n",
        "# labels (classes)\n",
        "classes = [\"Null class\", \"Standing still\", \"Sitting and relaxing\",\"Lying down\", \"Walking\",\"Climbing stairs\", \"Waist bends forward\",\"Frontal elevation of arms\", \"Knees bending (crouching)\",\"Cycling\", \"Jogging\",\"Running\", \"Jump front & back\"]\n",
        "\n",
        "# plot confusion matrix\n",
        "fig, ax = plot_confusion_matrix(conf_mat=multiclass,\n",
        "                                colorbar=True,\n",
        "                                show_absolute=False,\n",
        "                                show_normed=True,\n",
        "                               figsize = (12,12))\n",
        "\n",
        "# plot title, xaxis and yaxis, identify tickmarks, ensure tight layout\n",
        "plt.title('Confusion Matrix: Autoencoder by Random Forest \\n(normalised to % of total test data)')\n",
        "plt.xlabel(\"Actual\")\n",
        "plt.ylabel(\"Predicted\")\n",
        "tick_marks = np.arange(13)\n",
        "plt.xticks(tick_marks, classes, rotation=90)\n",
        "plt.yticks(tick_marks, classes)\n",
        "plt.tight_layout()\n",
        "plt.show()"
      ],
      "execution_count": null,
      "outputs": [
        {
          "output_type": "display_data",
          "data": {
            "image/png": "[encoded data removed]",
            "text/plain": [
              "<Figure size 864x864 with 2 Axes>"
            ]
          },
          "metadata": {
            "tags": []
          }
        }
      ]
    },
    {
      "cell_type": "code",
      "metadata": {
        "id": "rfQ8eCDwJKkO",
        "colab_type": "code",
        "colab": {
          "base_uri": "https://localhost:8080/",
          "height": 372
        },
        "outputId": "0392fa41-de00-4d02-e2d8-51e1828f9319"
      },
      "source": [
        "from sklearn.metrics import classification_report\n",
        "\n",
        "classes = [\"Null class\", \"Standing still\", \"Sitting and relaxing\",\"Lying down\", \"Walking\",\"Climbing stairs\", \"Waist bends forward\",\"Frontal elevation of arms\", \"Knees bending (crouching)\",\"Cycling\", \"Jogging\",\"Running\", \"Jump front & back\"]\n",
        "\n",
        "print(classification_report(y_test, y_pred, target_names=classes))"
      ],
      "execution_count": null,
      "outputs": [
        {
          "output_type": "stream",
          "text": [
            "                           precision    recall  f1-score   support\n",
            "\n",
            "               Null class       0.85      0.94      0.89    174531\n",
            "           Standing still       0.73      0.61      0.67      6081\n",
            "     Sitting and relaxing       0.77      0.91      0.83      6116\n",
            "               Lying down       0.81      0.95      0.87      6195\n",
            "                  Walking       0.77      0.27      0.40      6081\n",
            "          Climbing stairs       0.80      0.22      0.35      6168\n",
            "      Waist bends forward       0.79      0.42      0.55      5699\n",
            "Frontal elevation of arms       0.78      0.64      0.70      5829\n",
            "Knees bending (crouching)       0.80      0.46      0.58      5871\n",
            "                  Cycling       0.68      0.47      0.56      6109\n",
            "                  Jogging       0.73      0.67      0.70      6265\n",
            "                  Running       0.76      0.74      0.75      6116\n",
            "        Jump front & back       0.69      0.13      0.22      2088\n",
            "\n",
            "                 accuracy                           0.83    243149\n",
            "                macro avg       0.77      0.57      0.62    243149\n",
            "             weighted avg       0.83      0.83      0.82    243149\n",
            "\n"
          ],
          "name": "stdout"
        }
      ]
    },
    {
      "cell_type": "code",
      "metadata": {
        "id": "xOh8COwq_VWV",
        "colab_type": "code",
        "colab": {
          "base_uri": "https://localhost:8080/",
          "height": 1000
        },
        "outputId": "4328aeb8-71a2-4b01-982a-d474bd36cc13"
      },
      "source": [
        "# The following feature importance code is taken from this link. \n",
        "# https://www.oipapio.com/question-3935333\n",
        "\n",
        "# import libraries\n",
        "from xgboost import plot_importance,XGBClassifier\n",
        "from sklearn.model_selection import train_test_split\n",
        "from sklearn import model_selection\n",
        "\n",
        "# feature importance function\n",
        "def get_xgb_imp(xgb, feat_names): \n",
        "    from numpy import array \n",
        "    from pandas import pd\n",
        "    imp_vals = pd.Series(xgb.get_booster().get_score(importance_type='weight')).sort_values(ascending=False)\n",
        "    imp_dict = {feat_names[i]:float(imp_vals.get('f'+str(i),0.)) for i in range(len(feat_names))} \n",
        "    total = array(imp_dict.values()).sum() \n",
        "    return {k:v/total for k,v in imp_dict.feat_names()} \n",
        "\n",
        "# import libraries\n",
        "import numpy as np \n",
        "from xgboost import XGBClassifier \n",
        "\n",
        "# Set number of estimators\n",
        "xgb = XGBClassifier(n_estimators=100) \n",
        "\n",
        "# feature importance train test split\n",
        "X_train,X_test,y_train,y_test=model_selection.train_test_split(features,labels,test_size=0.2)\n",
        "\n",
        "# fit the model, set evaluation set and early stopping rounds\n",
        "xgb = xgb.fit(X_train,y_train,early_stopping_rounds=5,eval_set=[(X_test,y_test)])"
      ],
      "execution_count": null,
      "outputs": [
        {
          "output_type": "stream",
          "text": [
            "[0]\tvalidation_0-merror:0.25201\n",
            "Will train until validation_0-merror hasn't improved in 5 rounds.\n",
            "[1]\tvalidation_0-merror:0.251685\n",
            "[2]\tvalidation_0-merror:0.250336\n",
            "[3]\tvalidation_0-merror:0.250558\n",
            "[4]\tvalidation_0-merror:0.250365\n",
            "[5]\tvalidation_0-merror:0.249575\n",
            "[6]\tvalidation_0-merror:0.249814\n",
            "[7]\tvalidation_0-merror:0.249929\n",
            "[8]\tvalidation_0-merror:0.249612\n",
            "[9]\tvalidation_0-merror:0.249246\n",
            "[10]\tvalidation_0-merror:0.249271\n",
            "[11]\tvalidation_0-merror:0.249222\n",
            "[12]\tvalidation_0-merror:0.24865\n",
            "[13]\tvalidation_0-merror:0.248272\n",
            "[14]\tvalidation_0-merror:0.245767\n",
            "[15]\tvalidation_0-merror:0.243579\n",
            "[16]\tvalidation_0-merror:0.240754\n",
            "[17]\tvalidation_0-merror:0.239836\n",
            "[18]\tvalidation_0-merror:0.239347\n",
            "[19]\tvalidation_0-merror:0.238722\n",
            "[20]\tvalidation_0-merror:0.237998\n",
            "[21]\tvalidation_0-merror:0.237718\n",
            "[22]\tvalidation_0-merror:0.235354\n",
            "[23]\tvalidation_0-merror:0.235049\n",
            "[24]\tvalidation_0-merror:0.234617\n",
            "[25]\tvalidation_0-merror:0.234005\n",
            "[26]\tvalidation_0-merror:0.233421\n",
            "[27]\tvalidation_0-merror:0.2328\n",
            "[28]\tvalidation_0-merror:0.232133\n",
            "[29]\tvalidation_0-merror:0.231516\n",
            "[30]\tvalidation_0-merror:0.23085\n",
            "[31]\tvalidation_0-merror:0.230451\n",
            "[32]\tvalidation_0-merror:0.229752\n",
            "[33]\tvalidation_0-merror:0.229119\n",
            "[34]\tvalidation_0-merror:0.228925\n",
            "[35]\tvalidation_0-merror:0.227889\n",
            "[36]\tvalidation_0-merror:0.227593\n",
            "[37]\tvalidation_0-merror:0.226791\n",
            "[38]\tvalidation_0-merror:0.225993\n",
            "[39]\tvalidation_0-merror:0.224114\n",
            "[40]\tvalidation_0-merror:0.223316\n",
            "[41]\tvalidation_0-merror:0.221819\n",
            "[42]\tvalidation_0-merror:0.220211\n",
            "[43]\tvalidation_0-merror:0.218257\n",
            "[44]\tvalidation_0-merror:0.217607\n",
            "[45]\tvalidation_0-merror:0.215086\n",
            "[46]\tvalidation_0-merror:0.214005\n",
            "[47]\tvalidation_0-merror:0.213367\n",
            "[48]\tvalidation_0-merror:0.211307\n",
            "[49]\tvalidation_0-merror:0.210583\n",
            "[50]\tvalidation_0-merror:0.209271\n",
            "[51]\tvalidation_0-merror:0.208703\n",
            "[52]\tvalidation_0-merror:0.208354\n",
            "[53]\tvalidation_0-merror:0.207597\n",
            "[54]\tvalidation_0-merror:0.206931\n",
            "[55]\tvalidation_0-merror:0.206079\n",
            "[56]\tvalidation_0-merror:0.205434\n",
            "[57]\tvalidation_0-merror:0.204998\n",
            "[58]\tvalidation_0-merror:0.20276\n",
            "[59]\tvalidation_0-merror:0.200803\n",
            "[60]\tvalidation_0-merror:0.199359\n",
            "[61]\tvalidation_0-merror:0.19857\n",
            "[62]\tvalidation_0-merror:0.197899\n",
            "[63]\tvalidation_0-merror:0.197031\n",
            "[64]\tvalidation_0-merror:0.196192\n",
            "[65]\tvalidation_0-merror:0.195588\n",
            "[66]\tvalidation_0-merror:0.194926\n",
            "[67]\tvalidation_0-merror:0.19449\n",
            "[68]\tvalidation_0-merror:0.193585\n",
            "[69]\tvalidation_0-merror:0.193063\n",
            "[70]\tvalidation_0-merror:0.192392\n",
            "[71]\tvalidation_0-merror:0.19171\n",
            "[72]\tvalidation_0-merror:0.191191\n",
            "[73]\tvalidation_0-merror:0.189736\n",
            "[74]\tvalidation_0-merror:0.18888\n",
            "[75]\tvalidation_0-merror:0.187601\n",
            "[76]\tvalidation_0-merror:0.187691\n",
            "[77]\tvalidation_0-merror:0.18545\n",
            "[78]\tvalidation_0-merror:0.184418\n",
            "[79]\tvalidation_0-merror:0.18376\n",
            "[80]\tvalidation_0-merror:0.182209\n",
            "[81]\tvalidation_0-merror:0.181362\n",
            "[82]\tvalidation_0-merror:0.181058\n",
            "[83]\tvalidation_0-merror:0.17975\n",
            "[84]\tvalidation_0-merror:0.179203\n",
            "[85]\tvalidation_0-merror:0.178487\n",
            "[86]\tvalidation_0-merror:0.177858\n",
            "[87]\tvalidation_0-merror:0.177188\n",
            "[88]\tvalidation_0-merror:0.17678\n",
            "[89]\tvalidation_0-merror:0.176266\n",
            "[90]\tvalidation_0-merror:0.175728\n",
            "[91]\tvalidation_0-merror:0.174963\n",
            "[92]\tvalidation_0-merror:0.174391\n",
            "[93]\tvalidation_0-merror:0.173992\n",
            "[94]\tvalidation_0-merror:0.172742\n",
            "[95]\tvalidation_0-merror:0.172261\n",
            "[96]\tvalidation_0-merror:0.171689\n",
            "[97]\tvalidation_0-merror:0.171257\n",
            "[98]\tvalidation_0-merror:0.170903\n",
            "[99]\tvalidation_0-merror:0.170488\n"
          ],
          "name": "stdout"
        }
      ]
    },
    {
      "cell_type": "code",
      "metadata": {
        "id": "Py41HcsDmQfh",
        "colab_type": "code",
        "colab": {
          "base_uri": "https://localhost:8080/",
          "height": 720
        },
        "outputId": "1ae924ac-2fb6-45d5-e883-0e6a82bce7e4"
      },
      "source": [
        "# import library\n",
        "import pandas as pd\n",
        "\n",
        "# fit model\n",
        "xgb_model=xgb.fit(X_train,y_train)\n",
        "\n",
        "# convert to pandas dataframe. assign 'feature' and 'importance columns'\n",
        "xgb_fea_imp=pd.DataFrame(list(xgb_model.get_booster().get_fscore().items()),\n",
        "                                           \n",
        "columns=['feature','importance']).sort_values('importance', ascending=False)\n",
        "\n",
        "# print feature importance for each attribute\n",
        "print('',xgb_fea_imp)\n",
        "\n",
        "# convert to csv\n",
        "#xgb_fea_imp.to_csv('xgb_fea_imp.csv')\n",
        "\n",
        "# plot importance\n",
        "from xgboost import plot_importance\n",
        "plot_importance(xgb_model, )"
      ],
      "execution_count": null,
      "outputs": [
        {
          "output_type": "stream",
          "text": [
            "    feature  importance\n",
            "3       f8         780\n",
            "4      f18         720\n",
            "5      f15         682\n",
            "10      f2         594\n",
            "1      f17         585\n",
            "8      f19         560\n",
            "9      f11         510\n",
            "2      f14         472\n",
            "0       f0         454\n",
            "7       f7         449\n",
            "6      f10         433\n",
            "11      f9         397\n",
            "13     f16         373\n",
            "15     f22         336\n",
            "12     f20         274\n",
            "16      f6         253\n",
            "18     f13         236\n",
            "20     f12         199\n",
            "14      f1         163\n",
            "17     f21         155\n",
            "19      f5         149\n",
            "21      f4          96\n",
            "22      f3          40\n"
          ],
          "name": "stdout"
        },
        {
          "output_type": "execute_result",
          "data": {
            "text/plain": [
              "<matplotlib.axes._subplots.AxesSubplot at 0x7f8d74c9ae48>"
            ]
          },
          "metadata": {
            "tags": []
          },
          "execution_count": 21
        },
        {
          "output_type": "display_data",
          "data": {
            "image/png": "[encoded data removed]",
            "text/plain": [
              "<Figure size 432x288 with 1 Axes>"
            ]
          },
          "metadata": {
            "tags": []
          }
        }
      ]
    }
  ]
}
