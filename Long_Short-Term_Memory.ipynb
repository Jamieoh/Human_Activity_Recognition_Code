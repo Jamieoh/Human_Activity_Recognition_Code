{
  "nbformat": 4,
  "nbformat_minor": 0,
  "metadata": {
    "colab": {
      "name": "lstm_(1).ipynb",
      "provenance": [],
      "collapsed_sections": []
    },
    "kernelspec": {
      "name": "python3",
      "display_name": "Python 3"
    },
    "accelerator": "GPU"
  },
  "cells": [
    {
      "cell_type": "code",
      "metadata": {
        "id": "mafJxHKx20Np",
        "colab_type": "code",
        "colab": {
          "resources": {
            "http://localhost:8080/nbextensions/google.colab/files.js": {
              "data": "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",
              "ok": true,
              "headers": [
                [
                  "content-type",
                  "application/javascript"
                ]
              ],
              "status": 200,
              "status_text": ""
            }
          },
          "base_uri": "https://localhost:8080/",
          "height": 40
        },
        "outputId": "4e835c33-ace1-4723-cb6b-76b98b88f9f7"
      },
      "source": [
        "# Import files from google drive\n",
        "from google.colab import files\n",
        "uploaded = files.upload()"
      ],
      "execution_count": null,
      "outputs": [
        {
          "output_type": "display_data",
          "data": {
            "text/html": [
              "\n",
              "     <input type=\"file\" id=\"files-bb5bedff-f838-470e-97ee-a615325f1a60\" name=\"files[]\" multiple disabled />\n",
              "     <output id=\"result-bb5bedff-f838-470e-97ee-a615325f1a60\">\n",
              "      Upload widget is only available when the cell has been executed in the\n",
              "      current browser session. Please rerun this cell to enable.\n",
              "      </output>\n",
              "      <script src=\"/nbextensions/google.colab/files.js\"></script> "
            ],
            "text/plain": [
              "<IPython.core.display.HTML object>"
            ]
          },
          "metadata": {
            "tags": []
          }
        }
      ]
    },
    {
      "cell_type": "code",
      "metadata": {
        "id": "V22W1WBt22hg",
        "colab_type": "code",
        "colab": {
          "base_uri": "https://localhost:8080/",
          "height": 51
        },
        "outputId": "6e0de461-3b61-407c-e363-182417300d87"
      },
      "source": [
        "# Unzip dataset\n",
        "!unzip Dataset"
      ],
      "execution_count": null,
      "outputs": [
        {
          "output_type": "stream",
          "text": [
            "Archive:  Dataset.zip\n",
            "replace Dataset/mHealth_subject1.log? [y]es, [n]o, [A]ll, [N]one, [r]ename: "
          ],
          "name": "stdout"
        }
      ]
    },
    {
      "cell_type": "code",
      "metadata": {
        "id": "nF8KlS8C23ou",
        "colab_type": "code",
        "colab": {}
      },
      "source": [
        "# Import relevant libraries\n",
        "import numpy as np\n",
        "import pandas as pd\n",
        "from tqdm import tqdm\n",
        "import _pickle as cPickle\n",
        "from sklearn.preprocessing import LabelEncoder\n",
        "from sklearn.model_selection import train_test_split\n",
        "from sklearn import preprocessing\n",
        "import pickle\n",
        "import sys\n",
        "import os\n",
        "\n",
        "files=os.listdir(\"Dataset/\")\n",
        "folder=\"Dataset/\""
      ],
      "execution_count": null,
      "outputs": []
    },
    {
      "cell_type": "code",
      "metadata": {
        "id": "-gSMnoow243-",
        "colab_type": "code",
        "colab": {
          "base_uri": "https://localhost:8080/",
          "height": 85
        },
        "outputId": "7b1c80ab-8a12-4e74-87ae-77d6a5325b02"
      },
      "source": [
        "features=[]\n",
        "labels=[]\n",
        "\n",
        "#loop over all files to get features and labels\n",
        "with tqdm(total=len(files)) as pbar:\n",
        "    for f1 in files:\n",
        "        name=folder+f1\n",
        "        f = open(name, 'r')\n",
        "        x=f.readline()\n",
        "        while(x):\n",
        "            x=x.split()\n",
        "            labels.append(int(x[-1]))\n",
        "            del x[-1]\n",
        "            sublist=[]\n",
        "            for val in x:\n",
        "                sublist.append(val)\n",
        "            features.append(np.array(sublist))\n",
        "            x=f.readline()\n",
        "        pbar.update(1)\n",
        "\n",
        "# Convert to an array\n",
        "features=np.array(features)\n",
        "labels=np.array(labels)\n",
        "\n",
        "# Print shape of features and labels\n",
        "print(features.shape)\n",
        "print(labels.shape)\n",
        "\n",
        "# Print unique labels\n",
        "print(np.unique(labels))\n",
        "\n",
        "#saving for future use\n",
        "with open(\"features\", 'wb') as fp:\n",
        "    pickle.dump(features, fp)\n",
        "\n",
        "with open(\"labels\", 'wb') as fp:\n",
        "    pickle.dump(labels, fp)"
      ],
      "execution_count": null,
      "outputs": [
        {
          "output_type": "stream",
          "text": [
            "100%|██████████| 10/10 [00:13<00:00,  1.26s/it]\n"
          ],
          "name": "stderr"
        },
        {
          "output_type": "stream",
          "text": [
            "(1215745, 23)\n",
            "(1215745,)\n",
            "[ 0  1  2  3  4  5  6  7  8  9 10 11 12]\n"
          ],
          "name": "stdout"
        }
      ]
    },
    {
      "cell_type": "code",
      "metadata": {
        "id": "Zb75hs_23AjY",
        "colab_type": "code",
        "colab": {
          "base_uri": "https://localhost:8080/",
          "height": 34
        },
        "outputId": "1e3a9b6c-44fc-4d8d-e76a-6de9a5f129d7"
      },
      "source": [
        "# Import relevant libraries\n",
        "import numpy as np\n",
        "import matplotlib.pyplot as plt\n",
        "from tqdm import tqdm\n",
        "import csv\n",
        "from matplotlib import style\n",
        "import string\n",
        "from collections import Counter\n",
        "import sys\n",
        "import pickle\n",
        "import glob\n",
        "from keras.layers import Dense\n",
        "from keras.layers import LSTM\n",
        "from keras.models import Model\n",
        "from keras.layers import Input, Dense, Flatten, Dropout\n",
        "from keras.optimizers import Adam\n",
        "from keras.preprocessing.sequence import pad_sequences\n",
        "from sklearn.model_selection import train_test_split\n",
        "from sklearn.preprocessing import OneHotEncoder"
      ],
      "execution_count": null,
      "outputs": [
        {
          "output_type": "stream",
          "text": [
            "Using TensorFlow backend.\n"
          ],
          "name": "stderr"
        }
      ]
    },
    {
      "cell_type": "code",
      "metadata": {
        "id": "toJctyVW3C4v",
        "colab_type": "code",
        "colab": {}
      },
      "source": [
        "# getting data\n",
        "with open('features', 'rb') as fp:\n",
        "    X=pickle.load(fp)\n",
        "\n",
        "with open('labels', 'rb') as fp:\n",
        "    y=pickle.load(fp)"
      ],
      "execution_count": null,
      "outputs": []
    },
    {
      "cell_type": "code",
      "metadata": {
        "id": "QSmGL1wq3Egv",
        "colab_type": "code",
        "colab": {
          "base_uri": "https://localhost:8080/",
          "height": 105
        },
        "outputId": "f5529d52-2717-4434-b591-921afc454ce2"
      },
      "source": [
        "# One Hot Encode\n",
        "oh=OneHotEncoder()\n",
        "y=oh.fit_transform(np.reshape(y,(-1,1)))"
      ],
      "execution_count": null,
      "outputs": [
        {
          "output_type": "stream",
          "text": [
            "/usr/local/lib/python3.6/dist-packages/sklearn/preprocessing/_encoders.py:415: FutureWarning: The handling of integer data will change in version 0.22. Currently, the categories are determined based on the range [0, max(values)], while in the future they will be determined based on the unique values.\n",
            "If you want the future behaviour and silence this warning, you can specify \"categories='auto'\".\n",
            "In case you used a LabelEncoder before this OneHotEncoder to convert the categories to integers, then you can now use the OneHotEncoder directly.\n",
            "  warnings.warn(msg, FutureWarning)\n"
          ],
          "name": "stderr"
        }
      ]
    },
    {
      "cell_type": "code",
      "metadata": {
        "id": "6H928Wod3HHH",
        "colab_type": "code",
        "colab": {}
      },
      "source": [
        "# Train / Test \n",
        "X_train, X_test, y_train, y_test=train_test_split(X,y,test_size=0.2, random_state=42, shuffle=True)\n",
        "\n",
        "X_train=np.expand_dims(X_train,axis=2)\n",
        "X_test=np.expand_dims(X_test,axis=2)"
      ],
      "execution_count": null,
      "outputs": []
    },
    {
      "cell_type": "code",
      "metadata": {
        "id": "Z7n_zAgV26Uu",
        "colab_type": "code",
        "colab": {
          "base_uri": "https://localhost:8080/",
          "height": 465
        },
        "outputId": "852892e7-16c9-4204-e9e5-8a12a703a33f"
      },
      "source": [
        "# LSTM network\n",
        "input = Input(shape=(23,1))\n",
        "\n",
        "cnn=LSTM(8,return_sequences=True)(input)\n",
        "cnn=LSTM(16)(cnn)\n",
        "\n",
        "d=Dense(128, activation='relu')(cnn)\n",
        "d=Dropout(0.4)(d)\n",
        "\n",
        "d=Dense(256, activation='relu')(d)\n",
        "d=Dropout(0.4)(d)\n",
        "\n",
        "d=Dense(512, activation='relu')(d)\n",
        "\n",
        "# Dense layer that has a softmax activation function\n",
        "output = Dense(13, activation='softmax')(d)\n",
        "\n",
        "model = Model(inputs=input, outputs=output)\n",
        "\n",
        "# defining learning rate and optimizer\n",
        "adam=Adam(lr=0.0001)\n",
        "\n",
        "# Compile the model\n",
        "model.compile(optimizer=adam, loss='categorical_crossentropy', metrics=['accuracy'])\n",
        "\n",
        "history=model.fit(X_train,y_train,batch_size=32, epochs=4,validation_data=(X_test,y_test))\n",
        "\n",
        "model.save('lstm.h5')\n",
        "\n",
        "with open(\"OH\", 'wb') as fp:\n",
        "    pickle.dump(oh, fp)\n",
        "\n",
        "# plotting stats of model\n",
        "print(history.history.keys())\n",
        "\n",
        "# \"Loss\"\n",
        "plt.plot(history.history['loss'])\n",
        "plt.plot(history.history['val_loss'])\n",
        "plt.title('LSTM loss')\n",
        "plt.ylabel('loss')\n",
        "plt.xlabel('epoch')\n",
        "plt.legend(['train', 'validation'], loc='upper left')\n",
        "plt.savefig(\"LSTM-loss.png\")\n",
        "\n",
        "with open(\"X_test-LSTM\", 'wb') as fp:\n",
        "    pickle.dump(X_test, fp)\n",
        "\n",
        "with open(\"y_test_LSTM\", 'wb') as fp:\n",
        "    pickle.dump(y_test, fp)"
      ],
      "execution_count": null,
      "outputs": [
        {
          "output_type": "stream",
          "text": [
            "Train on 972596 samples, validate on 243149 samples\n",
            "Epoch 1/4\n",
            "972596/972596 [==============================] - 3236s 3ms/step - loss: 0.8099 - acc: 0.7383 - val_loss: 0.6747 - val_acc: 0.7487\n",
            "Epoch 2/4\n",
            "972596/972596 [==============================] - 3242s 3ms/step - loss: 0.6522 - acc: 0.7553 - val_loss: 0.6024 - val_acc: 0.7686\n",
            "Epoch 3/4\n",
            "972596/972596 [==============================] - 3233s 3ms/step - loss: 0.6087 - acc: 0.7647 - val_loss: 0.5727 - val_acc: 0.7765\n",
            "Epoch 4/4\n",
            "972596/972596 [==============================] - 3217s 3ms/step - loss: 0.5868 - acc: 0.7698 - val_loss: 0.5580 - val_acc: 0.7775\n",
            "dict_keys(['val_loss', 'val_acc', 'loss', 'acc'])\n"
          ],
          "name": "stdout"
        },
        {
          "output_type": "display_data",
          "data": {
            "image/png": "[encoded data removed]",
            "text/plain": [
              "<Figure size 432x288 with 1 Axes>"
            ]
          },
          "metadata": {
            "tags": []
          }
        }
      ]
    },
    {
      "cell_type": "code",
      "metadata": {
        "id": "AcoK_PXMUagB",
        "colab_type": "code",
        "colab": {
          "base_uri": "https://localhost:8080/",
          "height": 54
        },
        "outputId": "305c20e4-19c2-433d-df44-b1ce18d9a9a5"
      },
      "source": [
        "# print models layers\n",
        "print(model.layers)"
      ],
      "execution_count": null,
      "outputs": [
        {
          "output_type": "stream",
          "text": [
            "[<keras.engine.input_layer.InputLayer object at 0x7f63f51ae518>, <keras.layers.recurrent.LSTM object at 0x7f63f51ae4e0>, <keras.layers.recurrent.LSTM object at 0x7f63f51ae588>, <keras.layers.core.Dense object at 0x7f63f51aea20>, <keras.layers.core.Dropout object at 0x7f63f5045128>, <keras.layers.core.Dense object at 0x7f63d18165c0>, <keras.layers.core.Dropout object at 0x7f63d1816ef0>, <keras.layers.core.Dense object at 0x7f63d172ea20>, <keras.layers.core.Dense object at 0x7f63d1715f98>]\n"
          ],
          "name": "stdout"
        }
      ]
    },
    {
      "cell_type": "code",
      "metadata": {
        "id": "IPZ9t7foUbLX",
        "colab_type": "code",
        "colab": {
          "base_uri": "https://localhost:8080/",
          "height": 34
        },
        "outputId": "2ec0cc09-9f58-40c0-d48d-704cb0ad5697"
      },
      "source": [
        "# print models input layer\n",
        "print(model.input)"
      ],
      "execution_count": null,
      "outputs": [
        {
          "output_type": "stream",
          "text": [
            "Tensor(\"input_2:0\", shape=(?, 23, 1), dtype=float32)\n"
          ],
          "name": "stdout"
        }
      ]
    },
    {
      "cell_type": "code",
      "metadata": {
        "id": "5aMkygrWUcfH",
        "colab_type": "code",
        "colab": {
          "base_uri": "https://localhost:8080/",
          "height": 34
        },
        "outputId": "eda54068-fb29-401e-b974-d952b0ab4ee9"
      },
      "source": [
        "# print models output layer\n",
        "print(model.outputs)"
      ],
      "execution_count": null,
      "outputs": [
        {
          "output_type": "stream",
          "text": [
            "[<tf.Tensor 'dense_8/Softmax:0' shape=(?, 13) dtype=float32>]\n"
          ],
          "name": "stdout"
        }
      ]
    },
    {
      "cell_type": "code",
      "metadata": {
        "id": "XtuzME7TUd0X",
        "colab_type": "code",
        "colab": {
          "base_uri": "https://localhost:8080/",
          "height": 459
        },
        "outputId": "0c1bd21f-2dca-4313-b7b4-00d98d75b850"
      },
      "source": [
        "# summary of the model\n",
        "print(model.summary())"
      ],
      "execution_count": null,
      "outputs": [
        {
          "output_type": "stream",
          "text": [
            "_________________________________________________________________\n",
            "Layer (type)                 Output Shape              Param #   \n",
            "=================================================================\n",
            "input_2 (InputLayer)         (None, 23, 1)             0         \n",
            "_________________________________________________________________\n",
            "lstm_3 (LSTM)                (None, 23, 8)             320       \n",
            "_________________________________________________________________\n",
            "lstm_4 (LSTM)                (None, 16)                1600      \n",
            "_________________________________________________________________\n",
            "dense_5 (Dense)              (None, 128)               2176      \n",
            "_________________________________________________________________\n",
            "dropout_3 (Dropout)          (None, 128)               0         \n",
            "_________________________________________________________________\n",
            "dense_6 (Dense)              (None, 256)               33024     \n",
            "_________________________________________________________________\n",
            "dropout_4 (Dropout)          (None, 256)               0         \n",
            "_________________________________________________________________\n",
            "dense_7 (Dense)              (None, 512)               131584    \n",
            "_________________________________________________________________\n",
            "dense_8 (Dense)              (None, 13)                6669      \n",
            "=================================================================\n",
            "Total params: 175,373\n",
            "Trainable params: 175,373\n",
            "Non-trainable params: 0\n",
            "_________________________________________________________________\n",
            "None\n"
          ],
          "name": "stdout"
        }
      ]
    },
    {
      "cell_type": "code",
      "metadata": {
        "id": "_v2MsFDYfZzl",
        "colab_type": "code",
        "colab": {
          "base_uri": "https://localhost:8080/",
          "height": 295
        },
        "outputId": "ff62ef96-1832-4cf3-e69e-ba141c4366e4"
      },
      "source": [
        "#  \"Accuracy\"\n",
        "plt.plot(history.history['acc'])\n",
        "plt.plot(history.history['val_acc'])\n",
        "plt.title('LSTM accuracy')\n",
        "plt.ylabel('accuracy')\n",
        "plt.xlabel('epoch')\n",
        "plt.legend(['train', 'validation'], loc='upper left')\n",
        "plt.savefig(\"LSTM-acc.png\")"
      ],
      "execution_count": null,
      "outputs": [
        {
          "output_type": "display_data",
          "data": {
            "image/png": "[encoded data removed]",
            "text/plain": [
              "<Figure size 432x288 with 1 Axes>"
            ]
          },
          "metadata": {
            "tags": []
          }
        }
      ]
    },
    {
      "cell_type": "code",
      "metadata": {
        "id": "KuDlrjRI36K7",
        "colab_type": "code",
        "colab": {
          "base_uri": "https://localhost:8080/",
          "height": 458
        },
        "outputId": "a6a6fbe1-a570-428a-857a-53dfe16e456f"
      },
      "source": [
        "import pickle\n",
        "import numpy as np\n",
        "\n",
        "import seaborn as sn\n",
        "import pandas as pd\n",
        "import matplotlib.pyplot as plt\n",
        "from keras.models import load_model\n",
        "from sklearn.metrics import confusion_matrix\n",
        "\n",
        "\n",
        "# getting data\n",
        "with open('X_test-LSTM', 'rb') as fp:\n",
        "    X_test=pickle.load(fp)\n",
        "\n",
        "with open('y_test_LSTM', 'rb') as fp:\n",
        "    y_test=pickle.load(fp)\n",
        "\n",
        "\n",
        "# load model whose conf matrix you want\n",
        "model=load_model('lstm.h5')\n",
        "\n",
        "# make predictions\n",
        "y_pred=model.predict(X_test)\n",
        "\n",
        "\n",
        "# 12 total classes\n",
        "labs=set()\n",
        "labs.add(0)\n",
        "labs.add(1)\n",
        "labs.add(2)\n",
        "labs.add(3)\n",
        "labs.add(4)\n",
        "labs.add(5)\n",
        "labs.add(6)\n",
        "labs.add(7)\n",
        "labs.add(8)\n",
        "labs.add(9)\n",
        "labs.add(10)\n",
        "labs.add(11)\n",
        "labs.add(12)\n",
        "\n",
        "preds=[]\n",
        "new_test=[]\n",
        "\n",
        "# converting one hot prediction and real label to single integer value\n",
        "for i,p in enumerate(y_pred):\n",
        "    preds.append(np.argmax(p))\n",
        "    new_test.append(np.argmax(y_test[i]))\n",
        "\n",
        "y_pred=preds\n",
        "y_test=new_test\n",
        "\n",
        "# making conf matrix\n",
        "array=confusion_matrix(y_test, y_pred)\n",
        "\n",
        "df_cm = pd.DataFrame(array, index = [i for i in list(labs)],\n",
        "                  columns = [i for i in list(labs)])\n",
        "plt.figure(figsize = (10,7))\n",
        "sn.heatmap(df_cm, annot=True,fmt='g')\n",
        "\n",
        "# saving matrix\n",
        "plt.title(\"Confusion Matrix- LSTM\")\n",
        "plt.xlabel(\"Actual\")\n",
        "plt.ylabel(\"Predicted\")\n",
        "plt.savefig(\"CM-lstm.png\")"
      ],
      "execution_count": null,
      "outputs": [
        {
          "output_type": "display_data",
          "data": {
            "image/png": "[encoded data removed]",
            "text/plain": [
              "<Figure size 720x504 with 2 Axes>"
            ]
          },
          "metadata": {
            "tags": []
          }
        }
      ]
    },
    {
      "cell_type": "code",
      "metadata": {
        "id": "Lx789CXTg9kv",
        "colab_type": "code",
        "colab": {
          "base_uri": "https://localhost:8080/",
          "height": 357
        },
        "outputId": "95627cad-4e76-4d1b-9c42-fc203d11878c"
      },
      "source": [
        "from sklearn.metrics import classification_report\n",
        "\n",
        "# Classification report\n",
        "\n",
        "classes = [\"Null class\", \"Standing still\", \"Sitting and relaxing\",\"Lying down\", \"Walking\",\"Climbing stairs\", \"Waist bends forward\",\"Frontal elevation of arms\", \"Knees bending (crouching)\",\"Cycling\", \"Jogging\",\"Running\", \"Jump front & back\"]\n",
        "\n",
        "print(classification_report(y_test, y_pred, target_names=classes))"
      ],
      "execution_count": null,
      "outputs": [
        {
          "output_type": "stream",
          "text": [
            "                           precision    recall  f1-score   support\n",
            "\n",
            "               Null class       0.84      0.88      0.86    174531\n",
            "           Standing still       0.54      0.70      0.61      6081\n",
            "     Sitting and relaxing       0.68      0.98      0.80      6116\n",
            "               Lying down       0.74      1.00      0.85      6195\n",
            "                  Walking       0.69      0.00      0.01      6081\n",
            "          Climbing stairs       0.58      0.00      0.01      6168\n",
            "      Waist bends forward       0.57      0.58      0.58      5699\n",
            "Frontal elevation of arms       0.64      0.65      0.65      5829\n",
            "Knees bending (crouching)       0.60      0.32      0.42      5871\n",
            "                  Cycling       0.60      0.54      0.57      6109\n",
            "                  Jogging       0.41      0.25      0.31      6265\n",
            "                  Running       0.43      0.86      0.58      6116\n",
            "        Jump front & back       0.47      0.01      0.02      2088\n",
            "\n",
            "                 accuracy                           0.78    243149\n",
            "                macro avg       0.60      0.52      0.48    243149\n",
            "             weighted avg       0.77      0.78      0.75    243149\n",
            "\n"
          ],
          "name": "stdout"
        }
      ]
    },
    {
      "cell_type": "code",
      "metadata": {
        "id": "2hoiRD_K8p1a",
        "colab_type": "code",
        "colab": {
          "base_uri": "https://localhost:8080/",
          "height": 578
        },
        "outputId": "77361e07-6510-4277-d95d-e8e7d2977180"
      },
      "source": [
        "# Results: Precision, Recall, f1 score, Accuracy\n",
        "\n",
        "from numpy import argmax\n",
        "from sklearn import metrics\n",
        "from sklearn.metrics import accuracy_score\n",
        "\n",
        "print(\"LSTM - Accuracy:{}%\".format(100*accuracy_score(y_test, y_pred)))\n",
        "\n",
        "print(\"\")\n",
        "print(\"LSTM - Precision: {}%\".format(100*metrics.precision_score(y_test, y_pred, average=\"weighted\")))\n",
        "print(\"LSTM - Recall: {}%\".format(100*metrics.recall_score(y_test, y_pred, average=\"weighted\")))\n",
        "print(\"LSTM - f1_score: {}%\".format(100*metrics.f1_score(y_test, y_pred, average=\"weighted\")))\n",
        "\n",
        "print(\"\")\n",
        "print(\"Confusion Matrix:\")\n",
        "confusion_matrix = metrics.confusion_matrix(y_test, y_pred)\n",
        "print(confusion_matrix)"
      ],
      "execution_count": null,
      "outputs": [
        {
          "output_type": "stream",
          "text": [
            "LSTM - Accuracy:77.75314724716121%\n",
            "\n",
            "LSTM - Precision: 77.1898621162097%\n",
            "LSTM - Recall: 77.75314724716121%\n",
            "LSTM - f1_score: 75.19836372333245%\n",
            "\n",
            "Confusion Matrix:\n",
            "[[153346   3579   2848   2165     11     13   2255   2170   1077   2234\n",
            "    1428   3387     18]\n",
            " [  1828   4253      0      0      0      0      0      0      0      0\n",
            "       0      0      0]\n",
            " [   115      0   6001      0      0      0      0      0      0      0\n",
            "       0      0      0]\n",
            " [     4      0      0   6191      0      0      0      0      0      0\n",
            "       0      0      0]\n",
            " [  6041      0      0      0     27      0      6      0      7      0\n",
            "       0      0      0]\n",
            " [  6050      0      0      0      1     18      1      0     94      3\n",
            "       1      0      0]\n",
            " [  2349      0      0      0      0      0   3332      1     16      0\n",
            "       1      0      0]\n",
            " [  2011      2      0      0      0      0      0   3816      0      0\n",
            "       0      0      0]\n",
            " [  3779      2      0      0      0      0    200      0   1880     10\n",
            "       0      0      0]\n",
            " [  2766      0      0      0      0      0      4      0     33   3305\n",
            "       0      1      0]\n",
            " [  1832      0      0      0      0      0      1      0      1      0\n",
            "    1587   2842      2]\n",
            " [   455      0      0      0      0      0      0      0      0      0\n",
            "     379   5282      0]\n",
            " [   924      0      0      1      0      0      3      0      0      0\n",
            "     445    697     18]]\n"
          ],
          "name": "stdout"
        }
      ]
    },
    {
      "cell_type": "code",
      "metadata": {
        "id": "wgeppapQGmIe",
        "colab_type": "code",
        "colab": {
          "base_uri": "https://localhost:8080/",
          "height": 836
        },
        "outputId": "2e1d3058-15dd-4848-e0af-7b316d4d8ae6"
      },
      "source": [
        "# The following feature importance code is taken from this link. \n",
        "# Referenced in thesis\n",
        "# https://www.oipapio.com/question-3935333\n",
        "\n",
        "# Import libraries\n",
        "from mlxtend.plotting import plot_confusion_matrix\n",
        "import matplotlib.pyplot as plt\n",
        "import numpy as np\n",
        "\n",
        "confusion_matrix = metrics.confusion_matrix(y_test, y_pred)\n",
        "\n",
        "# Convert cm to array for multiclass cm\n",
        "normalised_confusion_matrix = np.array(confusion_matrix, dtype=np.float32)/np.sum(confusion_matrix)*100\n",
        "multiclass = normalised_confusion_matrix\n",
        "\n",
        "# labels (classes)\n",
        "classes = [\"Null class\", \"Standing still\", \"Sitting and relaxing\",\"Lying down\", \"Walking\",\"Climbing stairs\", \"Waist bends forward\",\"Frontal elevation of arms\", \"Knees bending (crouching)\",\"Cycling\", \"Jogging\",\"Running\", \"Jump front & back\"]\n",
        "\n",
        "# plot confusion matrix\n",
        "fig, ax = plot_confusion_matrix(conf_mat=multiclass,\n",
        "                                colorbar=True,\n",
        "                                show_absolute=False,\n",
        "                                show_normed=True,\n",
        "                               figsize = (12,12))\n",
        "\n",
        "# plot title, xaxis and yaxis, identify tickmarks, ensure tight layout\n",
        "plt.title('Confusion matrix: LSTM \\n(normalised to % of total test data')\n",
        "plt.xlabel(\"Actual\")\n",
        "plt.ylabel(\"Predicted\")\n",
        "tick_marks = np.arange(13)\n",
        "plt.xticks(tick_marks, classes, rotation=90)\n",
        "plt.yticks(tick_marks, classes)\n",
        "plt.tight_layout()\n",
        "plt.show()"
      ],
      "execution_count": null,
      "outputs": [
        {
          "output_type": "display_data",
          "data": {
            "image/png": "[encoded data removed]",
            "text/plain": [
              "<Figure size 864x864 with 2 Axes>"
            ]
          },
          "metadata": {
            "tags": []
          }
        }
      ]
    },
    {
      "cell_type": "code",
      "metadata": {
        "id": "ZRdO3VznGm-a",
        "colab_type": "code",
        "colab": {
          "base_uri": "https://localhost:8080/",
          "height": 639
        },
        "outputId": "03946478-4ee2-46bd-d308-f64b890b480c"
      },
      "source": [
        "# Fix accuracy\n",
        "\n",
        "# Bar chart feature importance\n",
        "\n",
        "from sklearn.metrics import confusion_matrix as cm\n",
        "import pandas as pd\n",
        "\n",
        "# confusion matrix\n",
        "confusion_matrix=cm(y_test, y_pred)\n",
        "\n",
        "# Create list containing labels for dataframe below\n",
        "list1 = [\"Null class\",\"Standing still\", \"Sitting and relaxing\",\"Lying down\", \"Walking\",\"Climbing stairs\", \"Waist bends forward\",\"Frontal elevation of arms\", \"Knees bending (crouching)\",\"Cycling\", \"Jogging\",\"Running\", \"Jump front & back\"]\n",
        "list2 = [\"Null class\",\"Standing still\", \"Sitting and relaxing\",\"Lying down\", \"Walking\",\"Climbing stairs\", \"Waist bends forward\",\"Frontal elevation of arms\", \"Knees bending (crouching)\",\"Cycling\", \"Jogging\",\"Running\", \"Jump front & back\"]\n",
        "\n",
        "# convert to pandas dataframe\n",
        "pd.DataFrame(confusion_matrix, list1,list2)\n",
        "\n",
        "df = pd.DataFrame(confusion_matrix, list1,list2)\n",
        "# Hard code in accuracy\n",
        "df['Accuracy'] = ['89%','63%','97%','100%','0%','0%','53%','70%','38%','42%','47%','68%','0.09%']\n",
        "df"
      ],
      "execution_count": null,
      "outputs": [
        {
          "output_type": "execute_result",
          "data": {
            "text/html": [
              "<div>\n",
              "<style scoped>\n",
              "    .dataframe tbody tr th:only-of-type {\n",
              "        vertical-align: middle;\n",
              "    }\n",
              "\n",
              "    .dataframe tbody tr th {\n",
              "        vertical-align: top;\n",
              "    }\n",
              "\n",
              "    .dataframe thead th {\n",
              "        text-align: right;\n",
              "    }\n",
              "</style>\n",
              "<table border=\"1\" class=\"dataframe\">\n",
              "  <thead>\n",
              "    <tr style=\"text-align: right;\">\n",
              "      <th></th>\n",
              "      <th>Unclassified</th>\n",
              "      <th>Standing still</th>\n",
              "      <th>Sitting and relaxing</th>\n",
              "      <th>Lying down</th>\n",
              "      <th>Walking</th>\n",
              "      <th>Climbing stairs</th>\n",
              "      <th>Waist bends forward</th>\n",
              "      <th>Frontal elevation of arms</th>\n",
              "      <th>Knees bending (crouching)</th>\n",
              "      <th>Cycling</th>\n",
              "      <th>Jogging</th>\n",
              "      <th>Running</th>\n",
              "      <th>Jump front &amp; back</th>\n",
              "      <th>Accuracy</th>\n",
              "    </tr>\n",
              "  </thead>\n",
              "  <tbody>\n",
              "    <tr>\n",
              "      <th>Unclassified</th>\n",
              "      <td>154569</td>\n",
              "      <td>2516</td>\n",
              "      <td>2845</td>\n",
              "      <td>2159</td>\n",
              "      <td>0</td>\n",
              "      <td>45</td>\n",
              "      <td>1877</td>\n",
              "      <td>2890</td>\n",
              "      <td>1485</td>\n",
              "      <td>1588</td>\n",
              "      <td>2240</td>\n",
              "      <td>1905</td>\n",
              "      <td>209</td>\n",
              "      <td>91%</td>\n",
              "    </tr>\n",
              "    <tr>\n",
              "      <th>Standing still</th>\n",
              "      <td>2191</td>\n",
              "      <td>3769</td>\n",
              "      <td>0</td>\n",
              "      <td>0</td>\n",
              "      <td>0</td>\n",
              "      <td>0</td>\n",
              "      <td>0</td>\n",
              "      <td>0</td>\n",
              "      <td>0</td>\n",
              "      <td>0</td>\n",
              "      <td>0</td>\n",
              "      <td>0</td>\n",
              "      <td>0</td>\n",
              "      <td>89%</td>\n",
              "    </tr>\n",
              "    <tr>\n",
              "      <th>Sitting and relaxing</th>\n",
              "      <td>165</td>\n",
              "      <td>0</td>\n",
              "      <td>6026</td>\n",
              "      <td>0</td>\n",
              "      <td>0</td>\n",
              "      <td>0</td>\n",
              "      <td>0</td>\n",
              "      <td>0</td>\n",
              "      <td>0</td>\n",
              "      <td>0</td>\n",
              "      <td>0</td>\n",
              "      <td>0</td>\n",
              "      <td>0</td>\n",
              "      <td>99%</td>\n",
              "    </tr>\n",
              "    <tr>\n",
              "      <th>Lying down</th>\n",
              "      <td>0</td>\n",
              "      <td>0</td>\n",
              "      <td>0</td>\n",
              "      <td>6105</td>\n",
              "      <td>0</td>\n",
              "      <td>0</td>\n",
              "      <td>0</td>\n",
              "      <td>0</td>\n",
              "      <td>0</td>\n",
              "      <td>0</td>\n",
              "      <td>0</td>\n",
              "      <td>0</td>\n",
              "      <td>0</td>\n",
              "      <td>99%</td>\n",
              "    </tr>\n",
              "    <tr>\n",
              "      <th>Walking</th>\n",
              "      <td>6148</td>\n",
              "      <td>0</td>\n",
              "      <td>0</td>\n",
              "      <td>0</td>\n",
              "      <td>0</td>\n",
              "      <td>0</td>\n",
              "      <td>1</td>\n",
              "      <td>0</td>\n",
              "      <td>5</td>\n",
              "      <td>0</td>\n",
              "      <td>0</td>\n",
              "      <td>0</td>\n",
              "      <td>0</td>\n",
              "      <td>52%</td>\n",
              "    </tr>\n",
              "    <tr>\n",
              "      <th>Climbing stairs</th>\n",
              "      <td>5954</td>\n",
              "      <td>0</td>\n",
              "      <td>0</td>\n",
              "      <td>0</td>\n",
              "      <td>0</td>\n",
              "      <td>30</td>\n",
              "      <td>18</td>\n",
              "      <td>0</td>\n",
              "      <td>169</td>\n",
              "      <td>1</td>\n",
              "      <td>2</td>\n",
              "      <td>0</td>\n",
              "      <td>0</td>\n",
              "      <td>14%</td>\n",
              "    </tr>\n",
              "    <tr>\n",
              "      <th>Waist bends forward</th>\n",
              "      <td>2597</td>\n",
              "      <td>3</td>\n",
              "      <td>0</td>\n",
              "      <td>0</td>\n",
              "      <td>0</td>\n",
              "      <td>0</td>\n",
              "      <td>3009</td>\n",
              "      <td>2</td>\n",
              "      <td>95</td>\n",
              "      <td>0</td>\n",
              "      <td>0</td>\n",
              "      <td>0</td>\n",
              "      <td>0</td>\n",
              "      <td>69%</td>\n",
              "    </tr>\n",
              "    <tr>\n",
              "      <th>Frontal elevation of arms</th>\n",
              "      <td>1760</td>\n",
              "      <td>2</td>\n",
              "      <td>0</td>\n",
              "      <td>0</td>\n",
              "      <td>0</td>\n",
              "      <td>0</td>\n",
              "      <td>0</td>\n",
              "      <td>4143</td>\n",
              "      <td>0</td>\n",
              "      <td>0</td>\n",
              "      <td>0</td>\n",
              "      <td>0</td>\n",
              "      <td>0</td>\n",
              "      <td>80%</td>\n",
              "    </tr>\n",
              "    <tr>\n",
              "      <th>Knees bending (crouching)</th>\n",
              "      <td>3507</td>\n",
              "      <td>2</td>\n",
              "      <td>0</td>\n",
              "      <td>0</td>\n",
              "      <td>0</td>\n",
              "      <td>0</td>\n",
              "      <td>192</td>\n",
              "      <td>0</td>\n",
              "      <td>2250</td>\n",
              "      <td>8</td>\n",
              "      <td>0</td>\n",
              "      <td>0</td>\n",
              "      <td>0</td>\n",
              "      <td>39%</td>\n",
              "    </tr>\n",
              "    <tr>\n",
              "      <th>Cycling</th>\n",
              "      <td>3563</td>\n",
              "      <td>0</td>\n",
              "      <td>0</td>\n",
              "      <td>0</td>\n",
              "      <td>0</td>\n",
              "      <td>0</td>\n",
              "      <td>0</td>\n",
              "      <td>0</td>\n",
              "      <td>17</td>\n",
              "      <td>2620</td>\n",
              "      <td>0</td>\n",
              "      <td>0</td>\n",
              "      <td>0</td>\n",
              "      <td>45%</td>\n",
              "    </tr>\n",
              "    <tr>\n",
              "      <th>Jogging</th>\n",
              "      <td>2071</td>\n",
              "      <td>0</td>\n",
              "      <td>0</td>\n",
              "      <td>0</td>\n",
              "      <td>0</td>\n",
              "      <td>0</td>\n",
              "      <td>0</td>\n",
              "      <td>0</td>\n",
              "      <td>1</td>\n",
              "      <td>0</td>\n",
              "      <td>2915</td>\n",
              "      <td>1204</td>\n",
              "      <td>32</td>\n",
              "      <td>63%</td>\n",
              "    </tr>\n",
              "    <tr>\n",
              "      <th>Running</th>\n",
              "      <td>784</td>\n",
              "      <td>0</td>\n",
              "      <td>0</td>\n",
              "      <td>0</td>\n",
              "      <td>0</td>\n",
              "      <td>0</td>\n",
              "      <td>0</td>\n",
              "      <td>0</td>\n",
              "      <td>0</td>\n",
              "      <td>0</td>\n",
              "      <td>1181</td>\n",
              "      <td>4274</td>\n",
              "      <td>7</td>\n",
              "      <td>77%</td>\n",
              "    </tr>\n",
              "    <tr>\n",
              "      <th>Jump front &amp; back</th>\n",
              "      <td>735</td>\n",
              "      <td>0</td>\n",
              "      <td>0</td>\n",
              "      <td>1</td>\n",
              "      <td>0</td>\n",
              "      <td>0</td>\n",
              "      <td>0</td>\n",
              "      <td>0</td>\n",
              "      <td>0</td>\n",
              "      <td>0</td>\n",
              "      <td>790</td>\n",
              "      <td>301</td>\n",
              "      <td>171</td>\n",
              "      <td>0.05%</td>\n",
              "    </tr>\n",
              "  </tbody>\n",
              "</table>\n",
              "</div>"
            ],
            "text/plain": [
              "                           Unclassified  ...  Accuracy\n",
              "Unclassified                     154569  ...       91%\n",
              "Standing still                     2191  ...       89%\n",
              "Sitting and relaxing                165  ...       99%\n",
              "Lying down                            0  ...       99%\n",
              "Walking                            6148  ...       52%\n",
              "Climbing stairs                    5954  ...       14%\n",
              "Waist bends forward                2597  ...       69%\n",
              "Frontal elevation of arms          1760  ...       80%\n",
              "Knees bending (crouching)          3507  ...       39%\n",
              "Cycling                            3563  ...       45%\n",
              "Jogging                            2071  ...       63%\n",
              "Running                             784  ...       77%\n",
              "Jump front & back                   735  ...     0.05%\n",
              "\n",
              "[13 rows x 14 columns]"
            ]
          },
          "metadata": {
            "tags": []
          },
          "execution_count": 26
        }
      ]
    },
    {
      "cell_type": "code",
      "metadata": {
        "id": "O9t-UNdIWdJc",
        "colab_type": "code",
        "colab": {
          "base_uri": "https://localhost:8080/",
          "height": 1000
        },
        "outputId": "719af87c-66a8-4fc7-fa78-20ac3f173100"
      },
      "source": [
        "# The following feature importance code is taken from this link. \n",
        "# https://www.oipapio.com/question-3935333\n",
        "\n",
        "# import libraries\n",
        "from xgboost import plot_importance,XGBClassifier\n",
        "from sklearn.model_selection import train_test_split\n",
        "from sklearn import model_selection\n",
        "\n",
        "# import libraries\n",
        "import numpy as np \n",
        "from xgboost import XGBClassifier \n",
        "\n",
        "# Set number of estimators\n",
        "xgb = XGBClassifier(n_estimators=100) \n",
        "\n",
        "# feature importance train test split\n",
        "X_train,X_test,y_train,y_test=model_selection.train_test_split(features,labels,test_size=0.2)\n",
        "\n",
        "# fit the model, set evaluation set and early stopping rounds\n",
        "xgb = xgb.fit(X_train,y_train,early_stopping_rounds=5,eval_set=[(X_test,y_test)])"
      ],
      "execution_count": null,
      "outputs": [
        {
          "output_type": "stream",
          "text": [
            "[0]\tvalidation_0-merror:0.253651\n",
            "Will train until validation_0-merror hasn't improved in 5 rounds.\n",
            "[1]\tvalidation_0-merror:0.253877\n",
            "[2]\tvalidation_0-merror:0.252606\n",
            "[3]\tvalidation_0-merror:0.252253\n",
            "[4]\tvalidation_0-merror:0.252228\n",
            "[5]\tvalidation_0-merror:0.251163\n",
            "[6]\tvalidation_0-merror:0.251056\n",
            "[7]\tvalidation_0-merror:0.250842\n",
            "[8]\tvalidation_0-merror:0.250739\n",
            "[9]\tvalidation_0-merror:0.250423\n",
            "[10]\tvalidation_0-merror:0.250205\n",
            "[11]\tvalidation_0-merror:0.249876\n",
            "[12]\tvalidation_0-merror:0.247733\n",
            "[13]\tvalidation_0-merror:0.244295\n",
            "[14]\tvalidation_0-merror:0.243957\n",
            "[15]\tvalidation_0-merror:0.243756\n",
            "[16]\tvalidation_0-merror:0.24346\n",
            "[17]\tvalidation_0-merror:0.24274\n",
            "[18]\tvalidation_0-merror:0.240762\n",
            "[19]\tvalidation_0-merror:0.240207\n",
            "[20]\tvalidation_0-merror:0.239199\n",
            "[21]\tvalidation_0-merror:0.239022\n",
            "[22]\tvalidation_0-merror:0.238743\n",
            "[23]\tvalidation_0-merror:0.2382\n",
            "[24]\tvalidation_0-merror:0.23574\n",
            "[25]\tvalidation_0-merror:0.235374\n",
            "[26]\tvalidation_0-merror:0.234815\n",
            "[27]\tvalidation_0-merror:0.234136\n",
            "[28]\tvalidation_0-merror:0.233359\n",
            "[29]\tvalidation_0-merror:0.232886\n",
            "[30]\tvalidation_0-merror:0.232388\n",
            "[31]\tvalidation_0-merror:0.231697\n",
            "[32]\tvalidation_0-merror:0.231245\n",
            "[33]\tvalidation_0-merror:0.230846\n",
            "[34]\tvalidation_0-merror:0.230348\n",
            "[35]\tvalidation_0-merror:0.229682\n",
            "[36]\tvalidation_0-merror:0.228576\n",
            "[37]\tvalidation_0-merror:0.228259\n",
            "[38]\tvalidation_0-merror:0.227955\n",
            "[39]\tvalidation_0-merror:0.227519\n",
            "[40]\tvalidation_0-merror:0.224731\n",
            "[41]\tvalidation_0-merror:0.222152\n",
            "[42]\tvalidation_0-merror:0.221301\n",
            "[43]\tvalidation_0-merror:0.218775\n",
            "[44]\tvalidation_0-merror:0.218138\n",
            "[45]\tvalidation_0-merror:0.217389\n",
            "[46]\tvalidation_0-merror:0.215489\n",
            "[47]\tvalidation_0-merror:0.213277\n",
            "[48]\tvalidation_0-merror:0.212697\n",
            "[49]\tvalidation_0-merror:0.212401\n",
            "[50]\tvalidation_0-merror:0.211582\n",
            "[51]\tvalidation_0-merror:0.210402\n",
            "[52]\tvalidation_0-merror:0.209801\n",
            "[53]\tvalidation_0-merror:0.208638\n",
            "[54]\tvalidation_0-merror:0.208535\n",
            "[55]\tvalidation_0-merror:0.207519\n",
            "[56]\tvalidation_0-merror:0.206865\n",
            "[57]\tvalidation_0-merror:0.20631\n",
            "[58]\tvalidation_0-merror:0.204064\n",
            "[59]\tvalidation_0-merror:0.203131\n",
            "[60]\tvalidation_0-merror:0.202567\n",
            "[61]\tvalidation_0-merror:0.201432\n",
            "[62]\tvalidation_0-merror:0.200227\n",
            "[63]\tvalidation_0-merror:0.198594\n",
            "[64]\tvalidation_0-merror:0.19792\n",
            "[65]\tvalidation_0-merror:0.197023\n",
            "[66]\tvalidation_0-merror:0.196086\n",
            "[67]\tvalidation_0-merror:0.195633\n",
            "[68]\tvalidation_0-merror:0.194967\n",
            "[69]\tvalidation_0-merror:0.194021\n",
            "[70]\tvalidation_0-merror:0.193503\n",
            "[71]\tvalidation_0-merror:0.191932\n",
            "[72]\tvalidation_0-merror:0.191261\n",
            "[73]\tvalidation_0-merror:0.190772\n",
            "[74]\tvalidation_0-merror:0.189945\n",
            "[75]\tvalidation_0-merror:0.189263\n",
            "[76]\tvalidation_0-merror:0.187831\n",
            "[77]\tvalidation_0-merror:0.187383\n",
            "[78]\tvalidation_0-merror:0.186589\n",
            "[79]\tvalidation_0-merror:0.185109\n",
            "[80]\tvalidation_0-merror:0.184599\n",
            "[81]\tvalidation_0-merror:0.18348\n",
            "[82]\tvalidation_0-merror:0.182736\n",
            "[83]\tvalidation_0-merror:0.18179\n",
            "[84]\tvalidation_0-merror:0.180507\n",
            "[85]\tvalidation_0-merror:0.179898\n",
            "[86]\tvalidation_0-merror:0.179203\n",
            "[87]\tvalidation_0-merror:0.178598\n",
            "[88]\tvalidation_0-merror:0.177907\n",
            "[89]\tvalidation_0-merror:0.177348\n",
            "[90]\tvalidation_0-merror:0.176678\n",
            "[91]\tvalidation_0-merror:0.176106\n",
            "[92]\tvalidation_0-merror:0.175596\n",
            "[93]\tvalidation_0-merror:0.175107\n",
            "[94]\tvalidation_0-merror:0.174358\n",
            "[95]\tvalidation_0-merror:0.173688\n",
            "[96]\tvalidation_0-merror:0.173182\n",
            "[97]\tvalidation_0-merror:0.17247\n",
            "[98]\tvalidation_0-merror:0.172055\n",
            "[99]\tvalidation_0-merror:0.171524\n"
          ],
          "name": "stdout"
        }
      ]
    },
    {
      "cell_type": "code",
      "metadata": {
        "id": "OQY3-mOnWfFV",
        "colab_type": "code",
        "colab": {
          "base_uri": "https://localhost:8080/",
          "height": 720
        },
        "outputId": "a615200e-2ccc-43cc-a2d3-e43d07c6babb"
      },
      "source": [
        "# import library\n",
        "import pandas as pd\n",
        "\n",
        "# fit model\n",
        "xgb_model=xgb.fit(X_train,y_train)\n",
        "\n",
        "# convert to pandas dataframe. assign 'feature' and 'importance columns'\n",
        "xgb_fea_imp=pd.DataFrame(list(xgb_model.get_booster().get_fscore().items()),\n",
        "                                           \n",
        "columns=['feature','importance']).sort_values('importance', ascending=False)\n",
        "\n",
        "# print feature importance for each attribute\n",
        "print('',xgb_fea_imp)\n",
        "\n",
        "# plot importance\n",
        "from xgboost import plot_importance\n",
        "plot_importance(xgb_model, )"
      ],
      "execution_count": null,
      "outputs": [
        {
          "output_type": "stream",
          "text": [
            "    feature  importance\n",
            "3       f8         762\n",
            "4      f18         742\n",
            "5      f15         670\n",
            "1      f17         598\n",
            "10      f2         591\n",
            "8      f19         538\n",
            "9      f11         512\n",
            "0       f0         479\n",
            "2      f14         467\n",
            "7       f7         456\n",
            "6      f10         447\n",
            "11      f9         376\n",
            "13     f16         358\n",
            "15     f22         329\n",
            "12     f20         264\n",
            "17      f6         258\n",
            "19     f13         233\n",
            "20     f12         205\n",
            "14      f1         161\n",
            "18     f21         161\n",
            "16      f5         142\n",
            "21      f4          91\n",
            "22      f3          49\n"
          ],
          "name": "stdout"
        },
        {
          "output_type": "execute_result",
          "data": {
            "text/plain": [
              "<matplotlib.axes._subplots.AxesSubplot at 0x7f66e70852b0>"
            ]
          },
          "metadata": {
            "tags": []
          },
          "execution_count": 28
        },
        {
          "output_type": "display_data",
          "data": {
            "image/png": "[encoded data removed]",
            "text/plain": [
              "<Figure size 432x288 with 1 Axes>"
            ]
          },
          "metadata": {
            "tags": []
          }
        }
      ]
    }
  ]
}
