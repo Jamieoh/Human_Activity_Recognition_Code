{
  "nbformat": 4,
  "nbformat_minor": 0,
  "metadata": {
    "colab": {
      "name": "CNN_(2).ipynb",
      "provenance": [],
      "collapsed_sections": []
    },
    "kernelspec": {
      "name": "python3",
      "display_name": "Python 3"
    },
    "accelerator": "GPU"
  },
  "cells": [
    {
      "cell_type": "code",
      "metadata": {
        "id": "p7LE5zbuwS8o",
        "colab_type": "code",
        "colab": {
          "resources": {
            "http://localhost:8080/nbextensions/google.colab/files.js": {
              "data": "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",
              "ok": true,
              "headers": [
                [
                  "content-type",
                  "application/javascript"
                ]
              ],
              "status": 200,
              "status_text": ""
            }
          },
          "base_uri": "https://localhost:8080/",
          "height": 74
        },
        "outputId": "9e945b63-2611-4f9f-b262-7e890b74be02"
      },
      "source": [
        "# Import files from google drive\n",
        "from google.colab import files\n",
        "uploaded = files.upload()"
      ],
      "execution_count": null,
      "outputs": [
        {
          "output_type": "display_data",
          "data": {
            "text/html": [
              "\n",
              "     <input type=\"file\" id=\"files-ec6d8d2b-65a8-4b6c-bca7-26f1c7e3e76b\" name=\"files[]\" multiple disabled />\n",
              "     <output id=\"result-ec6d8d2b-65a8-4b6c-bca7-26f1c7e3e76b\">\n",
              "      Upload widget is only available when the cell has been executed in the\n",
              "      current browser session. Please rerun this cell to enable.\n",
              "      </output>\n",
              "      <script src=\"/nbextensions/google.colab/files.js\"></script> "
            ],
            "text/plain": [
              "<IPython.core.display.HTML object>"
            ]
          },
          "metadata": {
            "tags": []
          }
        },
        {
          "output_type": "stream",
          "text": [
            "Saving Dataset.zip to Dataset.zip\n"
          ],
          "name": "stdout"
        }
      ]
    },
    {
      "cell_type": "code",
      "metadata": {
        "id": "PPKKwo7kzwyR",
        "colab_type": "code",
        "colab": {
          "base_uri": "https://localhost:8080/",
          "height": 204
        },
        "outputId": "d99accaf-83f1-4a16-f69c-4507f3e84e50"
      },
      "source": [
        "# Unzip dataset\n",
        "!unzip Dataset"
      ],
      "execution_count": null,
      "outputs": [
        {
          "output_type": "stream",
          "text": [
            "Archive:  Dataset.zip\n",
            "  inflating: Dataset/mHealth_subject1.log  \n",
            "  inflating: Dataset/mHealth_subject10.log  \n",
            "  inflating: Dataset/mHealth_subject2.log  \n",
            "  inflating: Dataset/mHealth_subject3.log  \n",
            "  inflating: Dataset/mHealth_subject4.log  \n",
            "  inflating: Dataset/mHealth_subject5.log  \n",
            "  inflating: Dataset/mHealth_subject6.log  \n",
            "  inflating: Dataset/mHealth_subject7.log  \n",
            "  inflating: Dataset/mHealth_subject8.log  \n",
            "  inflating: Dataset/mHealth_subject9.log  \n"
          ],
          "name": "stdout"
        }
      ]
    },
    {
      "cell_type": "code",
      "metadata": {
        "id": "9z7pf00fyWii",
        "colab_type": "code",
        "colab": {}
      },
      "source": [
        "# Import relevant libraries\n",
        "import numpy as np\n",
        "import pandas as pd\n",
        "from tqdm import tqdm\n",
        "import _pickle as cPickle\n",
        "from sklearn.preprocessing import LabelEncoder\n",
        "from sklearn.model_selection import train_test_split\n",
        "from sklearn import preprocessing\n",
        "import pickle\n",
        "import sys\n",
        "import os\n",
        "\n",
        "files=os.listdir(\"Dataset/\")\n",
        "folder=\"Dataset/\""
      ],
      "execution_count": null,
      "outputs": []
    },
    {
      "cell_type": "code",
      "metadata": {
        "id": "R6XAXohlyaBN",
        "colab_type": "code",
        "colab": {
          "base_uri": "https://localhost:8080/",
          "height": 85
        },
        "outputId": "b2cc6ddb-4298-4a03-9422-b319ae699897"
      },
      "source": [
        "features=[]\n",
        "labels=[]\n",
        "\n",
        "#loop over all files to get features and labels\n",
        "with tqdm(total=len(files)) as pbar:\n",
        "    for f1 in files:\n",
        "        name=folder+f1\n",
        "        f = open(name, 'r')\n",
        "        x=f.readline()\n",
        "        while(x):\n",
        "            x=x.split()\n",
        "            labels.append(int(x[-1]))\n",
        "            del x[-1]\n",
        "            sublist=[]\n",
        "            for val in x:\n",
        "                sublist.append(val)\n",
        "            features.append(np.array(sublist))\n",
        "            x=f.readline()\n",
        "        pbar.update(1)\n",
        "\n",
        "# Convert to an array\n",
        "features=np.array(features)\n",
        "labels=np.array(labels)\n",
        "\n",
        "# Print shape of features and labels\n",
        "print(features.shape)\n",
        "print(labels.shape)\n",
        "\n",
        "# Print unique labels\n",
        "print(np.unique(labels))\n",
        "\n",
        "#saving for future use\n",
        "with open(\"features\", 'wb') as fp:\n",
        "    pickle.dump(features, fp)\n",
        "\n",
        "with open(\"labels\", 'wb') as fp:\n",
        "    pickle.dump(labels, fp)"
      ],
      "execution_count": null,
      "outputs": [
        {
          "output_type": "stream",
          "text": [
            "100%|██████████| 10/10 [00:12<00:00,  1.20s/it]\n"
          ],
          "name": "stderr"
        },
        {
          "output_type": "stream",
          "text": [
            "(1215745, 23)\n",
            "(1215745,)\n",
            "[ 0  1  2  3  4  5  6  7  8  9 10 11 12]\n"
          ],
          "name": "stdout"
        }
      ]
    },
    {
      "cell_type": "code",
      "metadata": {
        "id": "qPWjPB9XykYX",
        "colab_type": "code",
        "colab": {
          "base_uri": "https://localhost:8080/",
          "height": 34
        },
        "outputId": "0e93687b-1439-4ec4-d7b6-907898e108f1"
      },
      "source": [
        "# Define libraries\n",
        "import numpy as np\n",
        "import matplotlib.pyplot as plt\n",
        "from tqdm import tqdm\n",
        "import csv\n",
        "from matplotlib import style\n",
        "import string\n",
        "from collections import Counter\n",
        "import sys\n",
        "import pickle\n",
        "import glob\n",
        "from keras.layers import Dense\n",
        "from keras.layers import SeparableConv1D,MaxPooling1D\n",
        "from keras.models import Model\n",
        "from keras.layers import Input, Dense, Flatten, Dropout\n",
        "from keras.optimizers import Adam\n",
        "from keras.preprocessing.sequence import pad_sequences\n",
        "from sklearn.model_selection import train_test_split\n",
        "from sklearn.preprocessing import OneHotEncoder"
      ],
      "execution_count": null,
      "outputs": [
        {
          "output_type": "stream",
          "text": [
            "Using TensorFlow backend.\n"
          ],
          "name": "stderr"
        }
      ]
    },
    {
      "cell_type": "code",
      "metadata": {
        "id": "sOYdJm72ynpd",
        "colab_type": "code",
        "colab": {}
      },
      "source": [
        "#getting data\n",
        "with open('features', 'rb') as fp:\n",
        "    X=pickle.load(fp)\n",
        "\n",
        "with open('labels', 'rb') as fp:\n",
        "    y=pickle.load(fp)"
      ],
      "execution_count": null,
      "outputs": []
    },
    {
      "cell_type": "code",
      "metadata": {
        "id": "iX8Pq97Eypp-",
        "colab_type": "code",
        "colab": {
          "base_uri": "https://localhost:8080/",
          "height": 105
        },
        "outputId": "94744159-8026-4ff2-a90f-b9f002be36f6"
      },
      "source": [
        "# One Hot Encode\n",
        "oh=OneHotEncoder()\n",
        "y=oh.fit_transform(np.reshape(y,(-1,1)))"
      ],
      "execution_count": null,
      "outputs": [
        {
          "output_type": "stream",
          "text": [
            "/usr/local/lib/python3.6/dist-packages/sklearn/preprocessing/_encoders.py:415: FutureWarning: The handling of integer data will change in version 0.22. Currently, the categories are determined based on the range [0, max(values)], while in the future they will be determined based on the unique values.\n",
            "If you want the future behaviour and silence this warning, you can specify \"categories='auto'\".\n",
            "In case you used a LabelEncoder before this OneHotEncoder to convert the categories to integers, then you can now use the OneHotEncoder directly.\n",
            "  warnings.warn(msg, FutureWarning)\n"
          ],
          "name": "stderr"
        }
      ]
    },
    {
      "cell_type": "code",
      "metadata": {
        "id": "ZQ2-Jhe3ytZO",
        "colab_type": "code",
        "colab": {}
      },
      "source": [
        "# Train / Test\n",
        "X_train, X_test, y_train, y_test=train_test_split(X,y,test_size=0.2, random_state=42, shuffle=True)\n",
        "\n",
        "X_train=np.expand_dims(X_train,axis=2)\n",
        "X_test=np.expand_dims(X_test,axis=2)"
      ],
      "execution_count": null,
      "outputs": []
    },
    {
      "cell_type": "code",
      "metadata": {
        "id": "foW9XxcCyg7l",
        "colab_type": "code",
        "colab": {
          "base_uri": "https://localhost:8080/",
          "height": 785
        },
        "outputId": "c5d46bf1-f392-4cad-b5fa-b4bd2a5f9b7e"
      },
      "source": [
        "#cnn network\n",
        "input = Input(shape=(23,1))\n",
        "\n",
        "# Build the convolutional layers\n",
        "# Add max pooling layers\n",
        "cnn=SeparableConv1D(64,3,activation='relu')(input)\n",
        "maxp=MaxPooling1D()(cnn)\n",
        "\n",
        "cnn=SeparableConv1D(128,3,activation='relu')(maxp)\n",
        "maxp=MaxPooling1D()(cnn)\n",
        "\n",
        "# Flatten and pass to the classifier\n",
        "flat=Flatten()(maxp)\n",
        "\n",
        "d=Dense(128, activation='relu')(flat)\n",
        "d=Dropout(0.4)(d)\n",
        "\n",
        "d=Dense(256, activation='relu')(d)\n",
        "d=Dropout(0.4)(d)\n",
        "\n",
        "d=Dense(512, activation='relu')(d)\n",
        "\n",
        "# Dense layer that has a softmax activation function\n",
        "output = Dense(13, activation='softmax')(d)\n",
        "\n",
        "# input equals input and output equals output\n",
        "model = Model(inputs=input, outputs=output)\n",
        "\n",
        "# defining learning rate and optimizer\n",
        "adam=Adam(lr=0.0005)\n",
        "\n",
        "# configure the model for training\n",
        "model.compile(optimizer=adam, loss='categorical_crossentropy', metrics=['accuracy'])\n",
        "\n",
        "history=model.fit(X_train,y_train,batch_size=32, epochs=20,validation_data=(X_test,y_test))\n",
        "\n",
        "# Save model\n",
        "model.save('cnn.h5')\n",
        "\n",
        "with open(\"OH\", 'wb') as fp:\n",
        "    pickle.dump(oh, fp)\n",
        "\n",
        "# plotting stats of model\n",
        "print(history.history.keys())"
      ],
      "execution_count": null,
      "outputs": [
        {
          "output_type": "stream",
          "text": [
            "WARNING: Logging before flag parsing goes to stderr.\n",
            "W0821 10:06:36.430141 139937529837440 deprecation_wrapper.py:119] From /usr/local/lib/python3.6/dist-packages/keras/backend/tensorflow_backend.py:74: The name tf.get_default_graph is deprecated. Please use tf.compat.v1.get_default_graph instead.\n",
            "\n",
            "W0821 10:06:36.474035 139937529837440 deprecation_wrapper.py:119] From /usr/local/lib/python3.6/dist-packages/keras/backend/tensorflow_backend.py:517: The name tf.placeholder is deprecated. Please use tf.compat.v1.placeholder instead.\n",
            "\n",
            "W0821 10:06:36.484628 139937529837440 deprecation_wrapper.py:119] From /usr/local/lib/python3.6/dist-packages/keras/backend/tensorflow_backend.py:4138: The name tf.random_uniform is deprecated. Please use tf.random.uniform instead.\n",
            "\n",
            "W0821 10:06:36.542347 139937529837440 deprecation_wrapper.py:119] From /usr/local/lib/python3.6/dist-packages/keras/backend/tensorflow_backend.py:3976: The name tf.nn.max_pool is deprecated. Please use tf.nn.max_pool2d instead.\n",
            "\n",
            "W0821 10:06:36.617055 139937529837440 deprecation_wrapper.py:119] From /usr/local/lib/python3.6/dist-packages/keras/backend/tensorflow_backend.py:133: The name tf.placeholder_with_default is deprecated. Please use tf.compat.v1.placeholder_with_default instead.\n",
            "\n",
            "W0821 10:06:36.630512 139937529837440 deprecation.py:506] From /usr/local/lib/python3.6/dist-packages/keras/backend/tensorflow_backend.py:3445: calling dropout (from tensorflow.python.ops.nn_ops) with keep_prob is deprecated and will be removed in a future version.\n",
            "Instructions for updating:\n",
            "Please use `rate` instead of `keep_prob`. Rate should be set to `rate = 1 - keep_prob`.\n",
            "W0821 10:06:36.731172 139937529837440 deprecation_wrapper.py:119] From /usr/local/lib/python3.6/dist-packages/keras/optimizers.py:790: The name tf.train.Optimizer is deprecated. Please use tf.compat.v1.train.Optimizer instead.\n",
            "\n",
            "W0821 10:06:36.744813 139937529837440 deprecation_wrapper.py:119] From /usr/local/lib/python3.6/dist-packages/keras/backend/tensorflow_backend.py:3295: The name tf.log is deprecated. Please use tf.math.log instead.\n",
            "\n",
            "W0821 10:06:36.895861 139937529837440 deprecation.py:323] From /usr/local/lib/python3.6/dist-packages/tensorflow/python/ops/math_grad.py:1250: add_dispatch_support.<locals>.wrapper (from tensorflow.python.ops.array_ops) is deprecated and will be removed in a future version.\n",
            "Instructions for updating:\n",
            "Use tf.where in 2.0, which has the same broadcast rule as np.where\n"
          ],
          "name": "stderr"
        },
        {
          "output_type": "stream",
          "text": [
            "Train on 972596 samples, validate on 243149 samples\n",
            "Epoch 1/20\n",
            "972596/972596 [==============================] - 340s 350us/step - loss: 0.5853 - acc: 0.7722 - val_loss: 0.4762 - val_acc: 0.7942\n",
            "Epoch 2/20\n",
            "972596/972596 [==============================] - 334s 343us/step - loss: 0.4770 - acc: 0.7993 - val_loss: 0.4215 - val_acc: 0.8201\n",
            "Epoch 3/20\n",
            "972596/972596 [==============================] - 336s 345us/step - loss: 0.4478 - acc: 0.8114 - val_loss: 0.4012 - val_acc: 0.8205\n",
            "Epoch 4/20\n",
            "972596/972596 [==============================] - 335s 344us/step - loss: 0.4323 - acc: 0.8170 - val_loss: 0.3876 - val_acc: 0.8311\n",
            "Epoch 5/20\n",
            "972596/972596 [==============================] - 333s 343us/step - loss: 0.4222 - acc: 0.8211 - val_loss: 0.3840 - val_acc: 0.8356\n",
            "Epoch 6/20\n",
            "972596/972596 [==============================] - 333s 342us/step - loss: 0.4143 - acc: 0.8247 - val_loss: 0.3713 - val_acc: 0.8392\n",
            "Epoch 7/20\n",
            "972596/972596 [==============================] - 332s 341us/step - loss: 0.4087 - acc: 0.8272 - val_loss: 0.3729 - val_acc: 0.8374\n",
            "Epoch 8/20\n",
            "972596/972596 [==============================] - 333s 342us/step - loss: 0.4048 - acc: 0.8287 - val_loss: 0.3654 - val_acc: 0.8418\n",
            "Epoch 9/20\n",
            "972596/972596 [==============================] - 330s 339us/step - loss: 0.4020 - acc: 0.8300 - val_loss: 0.3614 - val_acc: 0.8446\n",
            "Epoch 10/20\n",
            "972596/972596 [==============================] - 329s 338us/step - loss: 0.4005 - acc: 0.8307 - val_loss: 0.3591 - val_acc: 0.8452\n",
            "Epoch 11/20\n",
            "323648/972596 [========>.....................] - ETA: 3:24 - loss: 0.4009 - acc: 0.8312Buffered data was truncated after reaching the output size limit."
          ],
          "name": "stdout"
        }
      ]
    },
    {
      "cell_type": "code",
      "metadata": {
        "id": "8I7wuHoExcRn",
        "colab_type": "code",
        "colab": {
          "base_uri": "https://localhost:8080/",
          "height": 54
        },
        "outputId": "43acb990-46ff-469e-8d22-71bb80b48b2a"
      },
      "source": [
        "# print models layers\n",
        "print(model.layers)"
      ],
      "execution_count": null,
      "outputs": [
        {
          "output_type": "stream",
          "text": [
            "[<keras.engine.input_layer.InputLayer object at 0x7f4586c876d8>, <keras.layers.convolutional.SeparableConv1D object at 0x7f4586c876a0>, <keras.layers.pooling.MaxPooling1D object at 0x7f4586c87908>, <keras.layers.convolutional.SeparableConv1D object at 0x7f4586c87b00>, <keras.layers.pooling.MaxPooling1D object at 0x7f4586c87d30>, <keras.layers.core.Flatten object at 0x7f4586c51fd0>, <keras.layers.core.Dense object at 0x7f4586c66518>, <keras.layers.core.Dropout object at 0x7f4586c12fd0>, <keras.layers.core.Dense object at 0x7f4586bc6f98>, <keras.layers.core.Dropout object at 0x7f4586c2ad68>, <keras.layers.core.Dense object at 0x7f4586b93c18>, <keras.layers.core.Dense object at 0x7f4586bdc518>]\n"
          ],
          "name": "stdout"
        }
      ]
    },
    {
      "cell_type": "code",
      "metadata": {
        "id": "GyztM-Imxh_g",
        "colab_type": "code",
        "colab": {
          "base_uri": "https://localhost:8080/",
          "height": 34
        },
        "outputId": "ada2aac3-1d42-4e05-ff4d-54674ec97ce1"
      },
      "source": [
        "# print models input layer\n",
        "print(model.input)"
      ],
      "execution_count": null,
      "outputs": [
        {
          "output_type": "stream",
          "text": [
            "Tensor(\"input_1:0\", shape=(?, 23, 1), dtype=float32)\n"
          ],
          "name": "stdout"
        }
      ]
    },
    {
      "cell_type": "code",
      "metadata": {
        "id": "ElO57trXxjr4",
        "colab_type": "code",
        "colab": {
          "base_uri": "https://localhost:8080/",
          "height": 34
        },
        "outputId": "ca2490bc-9305-4955-98d5-c1744ea05dbe"
      },
      "source": [
        "# print models output layer\n",
        "print(model.outputs)"
      ],
      "execution_count": null,
      "outputs": [
        {
          "output_type": "stream",
          "text": [
            "[<tf.Tensor 'dense_4/Softmax:0' shape=(?, 13) dtype=float32>]\n"
          ],
          "name": "stdout"
        }
      ]
    },
    {
      "cell_type": "code",
      "metadata": {
        "id": "a3FEIYIUxlPP",
        "colab_type": "code",
        "colab": {
          "base_uri": "https://localhost:8080/",
          "height": 561
        },
        "outputId": "7c3c1774-9037-42ea-8b2d-699332552aad"
      },
      "source": [
        "# summary of the model\n",
        "print(model.summary())"
      ],
      "execution_count": null,
      "outputs": [
        {
          "output_type": "stream",
          "text": [
            "_________________________________________________________________\n",
            "Layer (type)                 Output Shape              Param #   \n",
            "=================================================================\n",
            "input_1 (InputLayer)         (None, 23, 1)             0         \n",
            "_________________________________________________________________\n",
            "separable_conv1d_1 (Separabl (None, 21, 64)            131       \n",
            "_________________________________________________________________\n",
            "max_pooling1d_1 (MaxPooling1 (None, 10, 64)            0         \n",
            "_________________________________________________________________\n",
            "separable_conv1d_2 (Separabl (None, 8, 128)            8512      \n",
            "_________________________________________________________________\n",
            "max_pooling1d_2 (MaxPooling1 (None, 4, 128)            0         \n",
            "_________________________________________________________________\n",
            "flatten_1 (Flatten)          (None, 512)               0         \n",
            "_________________________________________________________________\n",
            "dense_1 (Dense)              (None, 128)               65664     \n",
            "_________________________________________________________________\n",
            "dropout_1 (Dropout)          (None, 128)               0         \n",
            "_________________________________________________________________\n",
            "dense_2 (Dense)              (None, 256)               33024     \n",
            "_________________________________________________________________\n",
            "dropout_2 (Dropout)          (None, 256)               0         \n",
            "_________________________________________________________________\n",
            "dense_3 (Dense)              (None, 512)               131584    \n",
            "_________________________________________________________________\n",
            "dense_4 (Dense)              (None, 13)                6669      \n",
            "=================================================================\n",
            "Total params: 245,584\n",
            "Trainable params: 245,584\n",
            "Non-trainable params: 0\n",
            "_________________________________________________________________\n",
            "None\n"
          ],
          "name": "stdout"
        }
      ]
    },
    {
      "cell_type": "code",
      "metadata": {
        "id": "VR-7HsMexXx7",
        "colab_type": "code",
        "colab": {
          "base_uri": "https://localhost:8080/",
          "height": 295
        },
        "outputId": "8574f94d-4a43-4ec0-d625-079d71b58460"
      },
      "source": [
        "#  \"Accuracy\"\n",
        "plt.plot(history.history['acc'])\n",
        "plt.plot(history.history['val_acc'])\n",
        "plt.title('CNN accuracy')\n",
        "plt.ylabel('accuracy')\n",
        "plt.xlabel('epoch')\n",
        "plt.legend(['train', 'validation'], loc='upper left')\n",
        "plt.savefig(\"CNN-acc.png\")\n",
        "#plt.close()"
      ],
      "execution_count": null,
      "outputs": [
        {
          "output_type": "display_data",
          "data": {
            "image/png": "[encoded data removed]",
            "text/plain": [
              "<Figure size 432x288 with 1 Axes>"
            ]
          },
          "metadata": {
            "tags": []
          }
        }
      ]
    },
    {
      "cell_type": "code",
      "metadata": {
        "id": "eS80AvTuxZ_Q",
        "colab_type": "code",
        "colab": {
          "base_uri": "https://localhost:8080/",
          "height": 295
        },
        "outputId": "dd37c611-b076-40e0-c919-47eeaa0fd587"
      },
      "source": [
        "# \"Loss\"\n",
        "plt.plot(history.history['loss'])\n",
        "plt.plot(history.history['val_loss'])\n",
        "plt.title('CNN loss')\n",
        "plt.ylabel('loss')\n",
        "plt.xlabel('epoch')\n",
        "plt.legend(['train', 'validation'], loc='upper left')\n",
        "plt.savefig(\"CNN-loss.png\")\n",
        "\n",
        "with open(\"X_test-CNN\", 'wb') as fp:\n",
        "    pickle.dump(X_test, fp)\n",
        "\n",
        "with open(\"y_test_CNN\", 'wb') as fp:\n",
        "    pickle.dump(y_test, fp)"
      ],
      "execution_count": null,
      "outputs": [
        {
          "output_type": "display_data",
          "data": {
            "image/png": "[encoded data removed]",
            "text/plain": [
              "<Figure size 432x288 with 1 Axes>"
            ]
          },
          "metadata": {
            "tags": []
          }
        }
      ]
    },
    {
      "cell_type": "code",
      "metadata": {
        "id": "mKr0Ti_OErmf",
        "colab_type": "code",
        "colab": {
          "base_uri": "https://localhost:8080/",
          "height": 458
        },
        "outputId": "c044e702-3e72-4908-ab0f-18566333c0f0"
      },
      "source": [
        "# Working confusion matrix code\n",
        "\n",
        "import pickle\n",
        "import numpy as np\n",
        "import seaborn as sn\n",
        "import pandas as pd\n",
        "import matplotlib.pyplot as plt\n",
        "from keras.models import load_model\n",
        "from sklearn.metrics import confusion_matrix\n",
        "\n",
        "\n",
        "# getting data\n",
        "with open('X_test-CNN', 'rb') as fp:\n",
        "    X_test=pickle.load(fp)\n",
        "\n",
        "with open('y_test_CNN', 'rb') as fp:\n",
        "    y_test=pickle.load(fp)\n",
        "\n",
        "\n",
        "# load model whose conf matrix you want\n",
        "model=load_model('cnn.h5')\n",
        "\n",
        "# make predictions\n",
        "y_pred=model.predict(X_test)\n",
        "\n",
        "\n",
        "# 12 total classes\n",
        "labs=set()\n",
        "labs.add(0)\n",
        "labs.add(1)\n",
        "labs.add(2)\n",
        "labs.add(3)\n",
        "labs.add(4)\n",
        "labs.add(5)\n",
        "labs.add(6)\n",
        "labs.add(7)\n",
        "labs.add(8)\n",
        "labs.add(9)\n",
        "labs.add(10)\n",
        "labs.add(11)\n",
        "labs.add(12)\n",
        "\n",
        "preds=[]\n",
        "new_test=[]\n",
        "\n",
        "# converting one hot prediction and real label to single integer value\n",
        "for i,p in enumerate(y_pred):\n",
        "    preds.append(np.argmax(p))\n",
        "    new_test.append(np.argmax(y_test[i]))\n",
        "\n",
        "y_pred=preds\n",
        "y_test=new_test\n",
        "\n",
        "# making conf matrix\n",
        "array=confusion_matrix(y_test, y_pred)\n",
        "\n",
        "df_cm = pd.DataFrame(array, index = [i for i in list(labs)],\n",
        "                  columns = [i for i in list(labs)])\n",
        "plt.figure(figsize = (10,7))\n",
        "sn.heatmap(df_cm, annot=True,fmt='g')\n",
        "\n",
        "# saving matrix\n",
        "plt.title(\"Confusion Matrix: CNN\")\n",
        "plt.xlabel(\"Actual\")\n",
        "plt.ylabel(\"Predicted\")\n",
        "plt.savefig(\"CM-cnn.png\")"
      ],
      "execution_count": null,
      "outputs": [
        {
          "output_type": "display_data",
          "data": {
            "image/png": "[encoded data removed]",
            "text/plain": [
              "<Figure size 720x504 with 2 Axes>"
            ]
          },
          "metadata": {
            "tags": []
          }
        }
      ]
    },
    {
      "cell_type": "code",
      "metadata": {
        "id": "aG3J21hPhASd",
        "colab_type": "code",
        "colab": {
          "base_uri": "https://localhost:8080/",
          "height": 357
        },
        "outputId": "f0fe4a96-a3bd-42e2-a75c-3780d3f9731e"
      },
      "source": [
        "from sklearn.metrics import classification_report\n",
        "\n",
        "classes = [\"Null class\", \"Standing still\", \"Sitting and relaxing\",\"Lying down\", \"Walking\",\"Climbing stairs\", \"Waist bends forward\",\"Frontal elevation of arms\", \"Knees bending (crouching)\",\"Cycling\", \"Jogging\",\"Running\", \"Jump front & back\"]\n",
        "\n",
        "print(classification_report(y_test, y_pred, target_names=classes))"
      ],
      "execution_count": null,
      "outputs": [
        {
          "output_type": "stream",
          "text": [
            "                           precision    recall  f1-score   support\n",
            "\n",
            "               Null class       0.89      0.91      0.90    174531\n",
            "           Standing still       0.68      0.97      0.80      6081\n",
            "     Sitting and relaxing       0.72      1.00      0.83      6116\n",
            "               Lying down       0.75      1.00      0.86      6195\n",
            "                  Walking       0.75      0.46      0.57      6081\n",
            "          Climbing stairs       0.70      0.31      0.43      6168\n",
            "      Waist bends forward       0.73      0.63      0.67      5699\n",
            "Frontal elevation of arms       0.77      0.76      0.76      5829\n",
            "Knees bending (crouching)       0.81      0.40      0.54      5871\n",
            "                  Cycling       0.73      0.69      0.71      6109\n",
            "                  Jogging       0.64      0.71      0.67      6265\n",
            "                  Running       0.71      0.75      0.73      6116\n",
            "        Jump front & back       0.49      0.09      0.16      2088\n",
            "\n",
            "                 accuracy                           0.84    243149\n",
            "                macro avg       0.72      0.67      0.66    243149\n",
            "             weighted avg       0.84      0.84      0.83    243149\n",
            "\n"
          ],
          "name": "stdout"
        }
      ]
    },
    {
      "cell_type": "code",
      "metadata": {
        "id": "TyQ9ofZtFCFQ",
        "colab_type": "code",
        "colab": {
          "base_uri": "https://localhost:8080/",
          "height": 578
        },
        "outputId": "22ddacb5-707b-4f62-99b2-7aab4b4bb534"
      },
      "source": [
        "# Results: Precision, Recall, f1 score, Accuracy\n",
        "\n",
        "from sklearn import metrics\n",
        "from numpy import argmax\n",
        "from sklearn.metrics import accuracy_score\n",
        "\n",
        "print(\"CNN - Accuracy:{}%\".format(100*accuracy_score(y_test, y_pred)))\n",
        "\n",
        "print(\"\")\n",
        "print(\"CNN - Precision: {}%\".format(100*metrics.precision_score(y_test, y_pred, average=\"weighted\")))\n",
        "print(\"CNN - Recall: {}%\".format(100*metrics.recall_score(y_test, y_pred, average=\"weighted\")))\n",
        "print(\"CNN - f1_score: {}%\".format(100*metrics.f1_score(y_test, y_pred, average=\"weighted\")))\n",
        "\n",
        "print(\"\")\n",
        "print(\"Confusion Matrix:\")\n",
        "confusion_matrix = metrics.confusion_matrix(y_test, y_pred)\n",
        "print(confusion_matrix)"
      ],
      "execution_count": null,
      "outputs": [
        {
          "output_type": "stream",
          "text": [
            "CNN - Accuracy:84.1611522153083%\n",
            "\n",
            "CNN - Precision: 83.91359273796243%\n",
            "CNN - Recall: 84.1611522153083%\n",
            "CNN - f1_score: 83.28437195363148%\n",
            "\n",
            "Confusion Matrix:\n",
            "[[157979   2732   2419   2082    894    749   1287   1306    522   1530\n",
            "    1485   1364    182]\n",
            " [   174   5907      0      0      0      0      0      0      0      0\n",
            "       0      0      0]\n",
            " [    13      0   6103      0      0      0      0      0      0      0\n",
            "       0      0      0]\n",
            " [    14      0      0   6181      0      0      0      0      0      0\n",
            "       0      0      0]\n",
            " [  3253      0      0      0   2813     15      0      0      0      0\n",
            "       0      0      0]\n",
            " [  4224      0      0      0     28   1906      0      0     10      0\n",
            "       0      0      0]\n",
            " [  2124      2      0      0      0      1   3562      1      9      0\n",
            "       0      0      0]\n",
            " [  1418      5      0      0      0      0      0   4406      0      0\n",
            "       0      0      0]\n",
            " [  3432      0      0      0      3     46     18      0   2369      3\n",
            "       0      0      0]\n",
            " [  1900      0      0      0      0      0      0      0     10   4199\n",
            "       0      0      0]\n",
            " [  1370      0      0      0      0      1      0      0      0      0\n",
            "    4442    444      8]\n",
            " [   577      0      0      0      0      0      0      0      0      0\n",
            "     952   4577     10]\n",
            " [  1765      0      0      0      0      0      0      0      1      0\n",
            "      56     73    193]]\n"
          ],
          "name": "stdout"
        }
      ]
    },
    {
      "cell_type": "code",
      "metadata": {
        "id": "5JVymfkdBwud",
        "colab_type": "code",
        "colab": {
          "base_uri": "https://localhost:8080/",
          "height": 836
        },
        "outputId": "5e765e90-c294-4a70-80c1-6de9f11aeddd"
      },
      "source": [
        "# Confusion matrix code, referenced in thesis\n",
        "# http://rasbt.github.io/mlxtend/user_guide/plotting/plot_confusion_matrix/\n",
        "\n",
        "# Import libraries\n",
        "from mlxtend.plotting import plot_confusion_matrix\n",
        "import matplotlib.pyplot as plt\n",
        "import numpy as np\n",
        "\n",
        "confusion_matrix = metrics.confusion_matrix(y_test, y_pred)\n",
        "\n",
        "# Convert cm to array for multiclass cm\n",
        "normalised_confusion_matrix = np.array(confusion_matrix, dtype=np.float32)/np.sum(confusion_matrix)*100\n",
        "multiclass = normalised_confusion_matrix\n",
        "\n",
        "# labels (classes)\n",
        "classes = [\"Null class\", \"Standing still\", \"Sitting and relaxing\",\"Lying down\", \"Walking\",\"Climbing stairs\", \"Waist bends forward\",\"Frontal elevation of arms\", \"Knees bending (crouching)\",\"Cycling\", \"Jogging\",\"Running\", \"Jump front & back\"]\n",
        "\n",
        "# plot confusion matrix\n",
        "fig, ax = plot_confusion_matrix(conf_mat=multiclass,\n",
        "                                colorbar=True,\n",
        "                                show_absolute=False,\n",
        "                                show_normed=True,\n",
        "                               figsize = (12,12))\n",
        "\n",
        "# plot title, xaxis and yaxis, identify tickmarks, ensure tight layout\n",
        "plt.title('Confusion matrix: CNN \\n(normalised to % of total test data)')\n",
        "plt.xlabel(\"Actual\")\n",
        "plt.ylabel(\"Predicted\")\n",
        "tick_marks = np.arange(13)\n",
        "plt.xticks(tick_marks, classes, rotation=90)\n",
        "plt.yticks(tick_marks, classes)\n",
        "plt.tight_layout()\n",
        "plt.show()\n"
      ],
      "execution_count": null,
      "outputs": [
        {
          "output_type": "display_data",
          "data": {
            "image/png": "[encoded data removed]",
            "text/plain": [
              "<Figure size 864x864 with 2 Axes>"
            ]
          },
          "metadata": {
            "tags": []
          }
        }
      ]
    },
    {
      "cell_type": "code",
      "metadata": {
        "id": "NURUrLCCByIi",
        "colab_type": "code",
        "colab": {
          "base_uri": "https://localhost:8080/",
          "height": 591
        },
        "outputId": "18082107-6b79-4b8e-fef2-ff03e76dfe70"
      },
      "source": [
        "# Bar chart feature importance\n",
        "\n",
        "from sklearn.metrics import confusion_matrix as cm\n",
        "import pandas as pd\n",
        "\n",
        "# confusion matrix\n",
        "confusion_matrix=cm(y_test, y_pred)\n",
        "\n",
        "# Create list containing labels for dataframe below\n",
        "list1 = [\"Null class\",\"Standing still\", \"Sitting and relaxing\",\"Lying down\", \"Walking\",\"Climbing stairs\", \"Waist bends forward\",\"Frontal elevation of arms\", \"Knees bending (crouching)\",\"Cycling\", \"Jogging\",\"Running\", \"Jump front & back\"]\n",
        "list2 = [\"Null class\",\"Standing still\", \"Sitting and relaxing\",\"Lying down\", \"Walking\",\"Climbing stairs\", \"Waist bends forward\",\"Frontal elevation of arms\", \"Knees bending (crouching)\",\"Cycling\", \"Jogging\",\"Running\", \"Jump front & back\"]\n",
        "\n",
        "# convert to pandas dataframe\n",
        "pd.DataFrame(confusion_matrix, list1,list2)\n",
        "\n",
        "df = pd.DataFrame(confusion_matrix, list1,list2)\n",
        "df['Accuracy'] = ['90%','95%','100%','100%','45%','38%','81%','86%','68%','33%','75%','61%','12%']\n",
        "df=df[1:14]\n",
        "df"
      ],
      "execution_count": null,
      "outputs": [
        {
          "output_type": "execute_result",
          "data": {
            "text/html": [
              "<div>\n",
              "<style scoped>\n",
              "    .dataframe tbody tr th:only-of-type {\n",
              "        vertical-align: middle;\n",
              "    }\n",
              "\n",
              "    .dataframe tbody tr th {\n",
              "        vertical-align: top;\n",
              "    }\n",
              "\n",
              "    .dataframe thead th {\n",
              "        text-align: right;\n",
              "    }\n",
              "</style>\n",
              "<table border=\"1\" class=\"dataframe\">\n",
              "  <thead>\n",
              "    <tr style=\"text-align: right;\">\n",
              "      <th></th>\n",
              "      <th>Null class</th>\n",
              "      <th>Standing still</th>\n",
              "      <th>Sitting and relaxing</th>\n",
              "      <th>Lying down</th>\n",
              "      <th>Walking</th>\n",
              "      <th>Climbing stairs</th>\n",
              "      <th>Waist bends forward</th>\n",
              "      <th>Frontal elevation of arms</th>\n",
              "      <th>Knees bending (crouching)</th>\n",
              "      <th>Cycling</th>\n",
              "      <th>Jogging</th>\n",
              "      <th>Running</th>\n",
              "      <th>Jump front &amp; back</th>\n",
              "      <th>Accuracy</th>\n",
              "    </tr>\n",
              "  </thead>\n",
              "  <tbody>\n",
              "    <tr>\n",
              "      <th>Standing still</th>\n",
              "      <td>241</td>\n",
              "      <td>6057</td>\n",
              "      <td>0</td>\n",
              "      <td>0</td>\n",
              "      <td>0</td>\n",
              "      <td>0</td>\n",
              "      <td>0</td>\n",
              "      <td>0</td>\n",
              "      <td>0</td>\n",
              "      <td>0</td>\n",
              "      <td>0</td>\n",
              "      <td>0</td>\n",
              "      <td>0</td>\n",
              "      <td>95%</td>\n",
              "    </tr>\n",
              "    <tr>\n",
              "      <th>Sitting and relaxing</th>\n",
              "      <td>38</td>\n",
              "      <td>0</td>\n",
              "      <td>6052</td>\n",
              "      <td>0</td>\n",
              "      <td>0</td>\n",
              "      <td>0</td>\n",
              "      <td>0</td>\n",
              "      <td>0</td>\n",
              "      <td>0</td>\n",
              "      <td>0</td>\n",
              "      <td>0</td>\n",
              "      <td>0</td>\n",
              "      <td>0</td>\n",
              "      <td>100%</td>\n",
              "    </tr>\n",
              "    <tr>\n",
              "      <th>Lying down</th>\n",
              "      <td>6</td>\n",
              "      <td>0</td>\n",
              "      <td>0</td>\n",
              "      <td>6084</td>\n",
              "      <td>0</td>\n",
              "      <td>0</td>\n",
              "      <td>0</td>\n",
              "      <td>0</td>\n",
              "      <td>0</td>\n",
              "      <td>0</td>\n",
              "      <td>0</td>\n",
              "      <td>0</td>\n",
              "      <td>0</td>\n",
              "      <td>100%</td>\n",
              "    </tr>\n",
              "    <tr>\n",
              "      <th>Walking</th>\n",
              "      <td>2916</td>\n",
              "      <td>0</td>\n",
              "      <td>0</td>\n",
              "      <td>0</td>\n",
              "      <td>3222</td>\n",
              "      <td>0</td>\n",
              "      <td>0</td>\n",
              "      <td>0</td>\n",
              "      <td>0</td>\n",
              "      <td>0</td>\n",
              "      <td>0</td>\n",
              "      <td>0</td>\n",
              "      <td>0</td>\n",
              "      <td>45%</td>\n",
              "    </tr>\n",
              "    <tr>\n",
              "      <th>Climbing stairs</th>\n",
              "      <td>4856</td>\n",
              "      <td>0</td>\n",
              "      <td>0</td>\n",
              "      <td>0</td>\n",
              "      <td>23</td>\n",
              "      <td>1293</td>\n",
              "      <td>2</td>\n",
              "      <td>0</td>\n",
              "      <td>20</td>\n",
              "      <td>0</td>\n",
              "      <td>0</td>\n",
              "      <td>0</td>\n",
              "      <td>0</td>\n",
              "      <td>38%</td>\n",
              "    </tr>\n",
              "    <tr>\n",
              "      <th>Waist bends forward</th>\n",
              "      <td>1537</td>\n",
              "      <td>5</td>\n",
              "      <td>0</td>\n",
              "      <td>0</td>\n",
              "      <td>0</td>\n",
              "      <td>0</td>\n",
              "      <td>3940</td>\n",
              "      <td>12</td>\n",
              "      <td>16</td>\n",
              "      <td>0</td>\n",
              "      <td>0</td>\n",
              "      <td>0</td>\n",
              "      <td>0</td>\n",
              "      <td>81%</td>\n",
              "    </tr>\n",
              "    <tr>\n",
              "      <th>Frontal elevation of arms</th>\n",
              "      <td>589</td>\n",
              "      <td>3</td>\n",
              "      <td>0</td>\n",
              "      <td>0</td>\n",
              "      <td>0</td>\n",
              "      <td>0</td>\n",
              "      <td>0</td>\n",
              "      <td>5251</td>\n",
              "      <td>0</td>\n",
              "      <td>0</td>\n",
              "      <td>0</td>\n",
              "      <td>0</td>\n",
              "      <td>0</td>\n",
              "      <td>86%</td>\n",
              "    </tr>\n",
              "    <tr>\n",
              "      <th>Knees bending (crouching)</th>\n",
              "      <td>2384</td>\n",
              "      <td>1</td>\n",
              "      <td>0</td>\n",
              "      <td>0</td>\n",
              "      <td>15</td>\n",
              "      <td>9</td>\n",
              "      <td>35</td>\n",
              "      <td>6</td>\n",
              "      <td>3557</td>\n",
              "      <td>1</td>\n",
              "      <td>0</td>\n",
              "      <td>0</td>\n",
              "      <td>0</td>\n",
              "      <td>68%</td>\n",
              "    </tr>\n",
              "    <tr>\n",
              "      <th>Cycling</th>\n",
              "      <td>1096</td>\n",
              "      <td>0</td>\n",
              "      <td>0</td>\n",
              "      <td>0</td>\n",
              "      <td>0</td>\n",
              "      <td>0</td>\n",
              "      <td>0</td>\n",
              "      <td>0</td>\n",
              "      <td>2</td>\n",
              "      <td>4983</td>\n",
              "      <td>0</td>\n",
              "      <td>0</td>\n",
              "      <td>0</td>\n",
              "      <td>33%</td>\n",
              "    </tr>\n",
              "    <tr>\n",
              "      <th>Jogging</th>\n",
              "      <td>786</td>\n",
              "      <td>0</td>\n",
              "      <td>0</td>\n",
              "      <td>0</td>\n",
              "      <td>1</td>\n",
              "      <td>0</td>\n",
              "      <td>0</td>\n",
              "      <td>0</td>\n",
              "      <td>0</td>\n",
              "      <td>0</td>\n",
              "      <td>4646</td>\n",
              "      <td>633</td>\n",
              "      <td>1</td>\n",
              "      <td>75%</td>\n",
              "    </tr>\n",
              "    <tr>\n",
              "      <th>Running</th>\n",
              "      <td>315</td>\n",
              "      <td>0</td>\n",
              "      <td>0</td>\n",
              "      <td>0</td>\n",
              "      <td>0</td>\n",
              "      <td>0</td>\n",
              "      <td>0</td>\n",
              "      <td>0</td>\n",
              "      <td>0</td>\n",
              "      <td>0</td>\n",
              "      <td>419</td>\n",
              "      <td>5400</td>\n",
              "      <td>0</td>\n",
              "      <td>61%</td>\n",
              "    </tr>\n",
              "    <tr>\n",
              "      <th>Jump front &amp; back</th>\n",
              "      <td>1932</td>\n",
              "      <td>0</td>\n",
              "      <td>0</td>\n",
              "      <td>0</td>\n",
              "      <td>0</td>\n",
              "      <td>0</td>\n",
              "      <td>0</td>\n",
              "      <td>0</td>\n",
              "      <td>0</td>\n",
              "      <td>0</td>\n",
              "      <td>125</td>\n",
              "      <td>81</td>\n",
              "      <td>28</td>\n",
              "      <td>12%</td>\n",
              "    </tr>\n",
              "  </tbody>\n",
              "</table>\n",
              "</div>"
            ],
            "text/plain": [
              "                           Null class  ...  Accuracy\n",
              "Standing still                    241  ...       95%\n",
              "Sitting and relaxing               38  ...      100%\n",
              "Lying down                          6  ...      100%\n",
              "Walking                          2916  ...       45%\n",
              "Climbing stairs                  4856  ...       38%\n",
              "Waist bends forward              1537  ...       81%\n",
              "Frontal elevation of arms         589  ...       86%\n",
              "Knees bending (crouching)        2384  ...       68%\n",
              "Cycling                          1096  ...       33%\n",
              "Jogging                           786  ...       75%\n",
              "Running                           315  ...       61%\n",
              "Jump front & back                1932  ...       12%\n",
              "\n",
              "[12 rows x 14 columns]"
            ]
          },
          "metadata": {
            "tags": []
          },
          "execution_count": 16
        }
      ]
    },
    {
      "cell_type": "code",
      "metadata": {
        "id": "5ad0FsR3k1FV",
        "colab_type": "code",
        "colab": {
          "base_uri": "https://localhost:8080/",
          "height": 1000
        },
        "outputId": "09adf835-b08b-4188-8543-2f4cce08a406"
      },
      "source": [
        "# The following feature importance code is taken from this link. \n",
        "# Referenced in thesis\n",
        "# https://www.oipapio.com/question-3935333\n",
        "\n",
        "# import libraries\n",
        "from xgboost import plot_importance,XGBClassifier\n",
        "from sklearn.model_selection import train_test_split\n",
        "from sklearn import model_selection\n",
        "\n",
        "# import libraries\n",
        "import numpy as np \n",
        "from xgboost import XGBClassifier \n",
        "\n",
        "# Set number of estimators\n",
        "xgb = XGBClassifier(n_estimators=100) \n",
        "\n",
        "# feature importance train test split\n",
        "X_train,X_test,y_train,y_test=model_selection.train_test_split(features,labels,test_size=0.2)\n",
        "\n",
        "# fit the model, set evaluation set and early stopping rounds\n",
        "xgb = xgb.fit(X_train,y_train,early_stopping_rounds=5,eval_set=[(X_test,y_test)])"
      ],
      "execution_count": null,
      "outputs": [
        {
          "output_type": "stream",
          "text": [
            "[0]\tvalidation_0-merror:0.252771\n",
            "Will train until validation_0-merror hasn't improved in 5 rounds.\n",
            "[1]\tvalidation_0-merror:0.25245\n",
            "[2]\tvalidation_0-merror:0.252035\n",
            "[3]\tvalidation_0-merror:0.251858\n",
            "[4]\tvalidation_0-merror:0.25185\n",
            "[5]\tvalidation_0-merror:0.251167\n",
            "[6]\tvalidation_0-merror:0.251171\n",
            "[7]\tvalidation_0-merror:0.251035\n",
            "[8]\tvalidation_0-merror:0.251052\n",
            "[9]\tvalidation_0-merror:0.250583\n",
            "[10]\tvalidation_0-merror:0.250155\n",
            "[11]\tvalidation_0-merror:0.249654\n",
            "[12]\tvalidation_0-merror:0.249008\n",
            "[13]\tvalidation_0-merror:0.247614\n",
            "[14]\tvalidation_0-merror:0.246495\n",
            "[15]\tvalidation_0-merror:0.244184\n",
            "[16]\tvalidation_0-merror:0.241551\n",
            "[17]\tvalidation_0-merror:0.240791\n",
            "[18]\tvalidation_0-merror:0.240034\n",
            "[19]\tvalidation_0-merror:0.239569\n",
            "[20]\tvalidation_0-merror:0.239104\n",
            "[21]\tvalidation_0-merror:0.238315\n",
            "[22]\tvalidation_0-merror:0.236456\n",
            "[23]\tvalidation_0-merror:0.236135\n",
            "[24]\tvalidation_0-merror:0.235679\n",
            "[25]\tvalidation_0-merror:0.234942\n",
            "[26]\tvalidation_0-merror:0.234515\n",
            "[27]\tvalidation_0-merror:0.234317\n",
            "[28]\tvalidation_0-merror:0.233935\n",
            "[29]\tvalidation_0-merror:0.233375\n",
            "[30]\tvalidation_0-merror:0.23229\n",
            "[31]\tvalidation_0-merror:0.231878\n",
            "[32]\tvalidation_0-merror:0.231299\n",
            "[33]\tvalidation_0-merror:0.230418\n",
            "[34]\tvalidation_0-merror:0.230118\n",
            "[35]\tvalidation_0-merror:0.229608\n",
            "[36]\tvalidation_0-merror:0.228572\n",
            "[37]\tvalidation_0-merror:0.228078\n",
            "[38]\tvalidation_0-merror:0.227465\n",
            "[39]\tvalidation_0-merror:0.225171\n",
            "[40]\tvalidation_0-merror:0.224093\n",
            "[41]\tvalidation_0-merror:0.221321\n",
            "[42]\tvalidation_0-merror:0.220157\n",
            "[43]\tvalidation_0-merror:0.21836\n",
            "[44]\tvalidation_0-merror:0.217295\n",
            "[45]\tvalidation_0-merror:0.215613\n",
            "[46]\tvalidation_0-merror:0.215082\n",
            "[47]\tvalidation_0-merror:0.214116\n",
            "[48]\tvalidation_0-merror:0.212372\n",
            "[49]\tvalidation_0-merror:0.211344\n",
            "[50]\tvalidation_0-merror:0.210727\n",
            "[51]\tvalidation_0-merror:0.209267\n",
            "[52]\tvalidation_0-merror:0.208498\n",
            "[53]\tvalidation_0-merror:0.207687\n",
            "[54]\tvalidation_0-merror:0.206997\n",
            "[55]\tvalidation_0-merror:0.206252\n",
            "[56]\tvalidation_0-merror:0.205631\n",
            "[57]\tvalidation_0-merror:0.20501\n",
            "[58]\tvalidation_0-merror:0.20304\n",
            "[59]\tvalidation_0-merror:0.200675\n",
            "[60]\tvalidation_0-merror:0.199836\n",
            "[61]\tvalidation_0-merror:0.199137\n",
            "[62]\tvalidation_0-merror:0.198389\n",
            "[63]\tvalidation_0-merror:0.197525\n",
            "[64]\tvalidation_0-merror:0.196423\n",
            "[65]\tvalidation_0-merror:0.195588\n",
            "[66]\tvalidation_0-merror:0.194955\n",
            "[67]\tvalidation_0-merror:0.194292\n",
            "[68]\tvalidation_0-merror:0.193511\n",
            "[69]\tvalidation_0-merror:0.19303\n",
            "[70]\tvalidation_0-merror:0.192639\n",
            "[71]\tvalidation_0-merror:0.191878\n",
            "[72]\tvalidation_0-merror:0.190496\n",
            "[73]\tvalidation_0-merror:0.189608\n",
            "[74]\tvalidation_0-merror:0.188424\n",
            "[75]\tvalidation_0-merror:0.18888\n",
            "[76]\tvalidation_0-merror:0.18821\n",
            "[77]\tvalidation_0-merror:0.186622\n",
            "[78]\tvalidation_0-merror:0.186063\n",
            "[79]\tvalidation_0-merror:0.185166\n",
            "[80]\tvalidation_0-merror:0.183752\n",
            "[81]\tvalidation_0-merror:0.183246\n",
            "[82]\tvalidation_0-merror:0.182871\n",
            "[83]\tvalidation_0-merror:0.18149\n",
            "[84]\tvalidation_0-merror:0.18091\n",
            "[85]\tvalidation_0-merror:0.180194\n",
            "[86]\tvalidation_0-merror:0.179569\n",
            "[87]\tvalidation_0-merror:0.178816\n",
            "[88]\tvalidation_0-merror:0.178648\n",
            "[89]\tvalidation_0-merror:0.176813\n",
            "[90]\tvalidation_0-merror:0.176308\n",
            "[91]\tvalidation_0-merror:0.175789\n",
            "[92]\tvalidation_0-merror:0.175427\n",
            "[93]\tvalidation_0-merror:0.174843\n",
            "[94]\tvalidation_0-merror:0.174091\n",
            "[95]\tvalidation_0-merror:0.173486\n",
            "[96]\tvalidation_0-merror:0.173001\n",
            "[97]\tvalidation_0-merror:0.172405\n",
            "[98]\tvalidation_0-merror:0.171944\n",
            "[99]\tvalidation_0-merror:0.171418\n"
          ],
          "name": "stdout"
        }
      ]
    },
    {
      "cell_type": "code",
      "metadata": {
        "id": "dtQZfW8zk5xs",
        "colab_type": "code",
        "colab": {
          "base_uri": "https://localhost:8080/",
          "height": 720
        },
        "outputId": "e5fab5ac-3e12-4386-be77-a1fcced8acf3"
      },
      "source": [
        "# import library\n",
        "import pandas as pd\n",
        "\n",
        "# fit model\n",
        "xgb_model=xgb.fit(X_train,y_train)\n",
        "\n",
        "# convert to pandas dataframe. assign 'feature' and 'importance columns'\n",
        "xgb_fea_imp=pd.DataFrame(list(xgb_model.get_booster().get_fscore().items()),\n",
        "                                           \n",
        "columns=['feature','importance']).sort_values('importance', ascending=False)\n",
        "\n",
        "# print feature importance for each attribute\n",
        "print('',xgb_fea_imp)\n",
        "\n",
        "# plot importance\n",
        "from xgboost import plot_importance\n",
        "plot_importance(xgb_model, )"
      ],
      "execution_count": null,
      "outputs": [
        {
          "output_type": "stream",
          "text": [
            "    feature  importance\n",
            "3       f8         769\n",
            "4      f18         714\n",
            "5      f15         673\n",
            "1      f17         614\n",
            "10      f2         594\n",
            "8      f19         541\n",
            "9      f11         515\n",
            "0       f0         480\n",
            "2      f14         470\n",
            "7       f7         450\n",
            "6      f10         421\n",
            "11      f9         389\n",
            "13     f16         370\n",
            "15     f22         338\n",
            "12     f20         266\n",
            "16      f6         257\n",
            "18     f13         251\n",
            "20     f12         177\n",
            "14      f1         165\n",
            "17     f21         157\n",
            "19      f5         142\n",
            "21      f4         103\n",
            "22      f3          48\n"
          ],
          "name": "stdout"
        },
        {
          "output_type": "execute_result",
          "data": {
            "text/plain": [
              "<matplotlib.axes._subplots.AxesSubplot at 0x7f725a30f588>"
            ]
          },
          "metadata": {
            "tags": []
          },
          "execution_count": 24
        },
        {
          "output_type": "display_data",
          "data": {
            "image/png": "[encoded data removed]",
            "text/plain": [
              "<Figure size 432x288 with 1 Axes>"
            ]
          },
          "metadata": {
            "tags": []
          }
        }
      ]
    }
  ]
}
