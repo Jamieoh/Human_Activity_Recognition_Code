{
  "nbformat": 4,
  "nbformat_minor": 0,
  "metadata": {
    "colab": {
      "name": "MLP.ipynb",
      "provenance": []
    },
    "kernelspec": {
      "name": "python3",
      "display_name": "Python 3"
    },
    "accelerator": "GPU"
  },
  "cells": [
    {
      "cell_type": "code",
      "metadata": {
        "id": "z7uYDtEgp5qq",
        "colab_type": "code",
        "colab": {
          "base_uri": "https://localhost:8080/",
          "height": 34
        },
        "outputId": "c5c9bdfb-6339-45f0-f2a1-4fa66a4d4c91"
      },
      "source": [
        "# Import relevant libraries\n",
        "import numpy as np\n",
        "import matplotlib.pyplot as plt\n",
        "from tqdm import tqdm\n",
        "import csv\n",
        "from matplotlib import style\n",
        "import string\n",
        "from collections import Counter\n",
        "import sys\n",
        "import pickle\n",
        "import glob\n",
        "from keras.layers import Dense\n",
        "from keras.layers import LSTM\n",
        "from keras.models import Model\n",
        "from keras.layers import Input, Dense, Flatten, Dropout\n",
        "from keras.optimizers import Adam\n",
        "from keras.preprocessing.sequence import pad_sequences\n",
        "from sklearn.model_selection import train_test_split\n",
        "from sklearn.preprocessing import OneHotEncoder"
      ],
      "execution_count": null,
      "outputs": [
        {
          "output_type": "stream",
          "text": [
            "Using TensorFlow backend.\n"
          ],
          "name": "stderr"
        }
      ]
    },
    {
      "cell_type": "code",
      "metadata": {
        "id": "S283PD9J0bjK",
        "colab_type": "code",
        "colab": {
          "resources": {
            "http://localhost:8080/nbextensions/google.colab/files.js": {
              "data": "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",
              "ok": true,
              "headers": [
                [
                  "content-type",
                  "application/javascript"
                ]
              ],
              "status": 200,
              "status_text": ""
            }
          },
          "base_uri": "https://localhost:8080/",
          "height": 74
        },
        "outputId": "4bfa3a49-60a9-46c3-f36d-6693fec0ded9"
      },
      "source": [
        "# Import files from google drive\n",
        "from google.colab import files\n",
        "uploaded = files.upload()"
      ],
      "execution_count": null,
      "outputs": [
        {
          "output_type": "display_data",
          "data": {
            "text/html": [
              "\n",
              "     <input type=\"file\" id=\"files-794a8d1c-bc34-44fc-8337-6fe69fa1edae\" name=\"files[]\" multiple disabled />\n",
              "     <output id=\"result-794a8d1c-bc34-44fc-8337-6fe69fa1edae\">\n",
              "      Upload widget is only available when the cell has been executed in the\n",
              "      current browser session. Please rerun this cell to enable.\n",
              "      </output>\n",
              "      <script src=\"/nbextensions/google.colab/files.js\"></script> "
            ],
            "text/plain": [
              "<IPython.core.display.HTML object>"
            ]
          },
          "metadata": {
            "tags": []
          }
        },
        {
          "output_type": "stream",
          "text": [
            "Saving Dataset.zip to Dataset.zip\n"
          ],
          "name": "stdout"
        }
      ]
    },
    {
      "cell_type": "code",
      "metadata": {
        "id": "cyx8iTfAOfOI",
        "colab_type": "code",
        "colab": {
          "base_uri": "https://localhost:8080/",
          "height": 204
        },
        "outputId": "f489a9bc-b9f6-4835-b6ed-5986eecee08a"
      },
      "source": [
        "# Unzip dataset\n",
        "!unzip Dataset"
      ],
      "execution_count": null,
      "outputs": [
        {
          "output_type": "stream",
          "text": [
            "Archive:  Dataset.zip\n",
            "  inflating: Dataset/mHealth_subject1.log  \n",
            "  inflating: Dataset/mHealth_subject10.log  \n",
            "  inflating: Dataset/mHealth_subject2.log  \n",
            "  inflating: Dataset/mHealth_subject3.log  \n",
            "  inflating: Dataset/mHealth_subject4.log  \n",
            "  inflating: Dataset/mHealth_subject5.log  \n",
            "  inflating: Dataset/mHealth_subject6.log  \n",
            "  inflating: Dataset/mHealth_subject7.log  \n",
            "  inflating: Dataset/mHealth_subject8.log  \n",
            "  inflating: Dataset/mHealth_subject9.log  \n"
          ],
          "name": "stdout"
        }
      ]
    },
    {
      "cell_type": "code",
      "metadata": {
        "id": "dYcC3yo_0cTC",
        "colab_type": "code",
        "colab": {}
      },
      "source": [
        "# Import relevant libraries\n",
        "import numpy as np\n",
        "import pandas as pd\n",
        "from tqdm import tqdm\n",
        "import _pickle as cPickle\n",
        "from sklearn.preprocessing import LabelEncoder\n",
        "from sklearn.model_selection import train_test_split\n",
        "from sklearn import preprocessing\n",
        "import pickle\n",
        "import sys\n",
        "import os\n",
        "\n",
        "files=os.listdir(\"Dataset/\")\n",
        "folder=\"Dataset/\""
      ],
      "execution_count": null,
      "outputs": []
    },
    {
      "cell_type": "code",
      "metadata": {
        "id": "8AW5FLSa0egy",
        "colab_type": "code",
        "colab": {
          "base_uri": "https://localhost:8080/",
          "height": 85
        },
        "outputId": "0f6329ea-24b0-4e31-9347-31074a091c40"
      },
      "source": [
        "features=[]\n",
        "labels=[]\n",
        "\n",
        "# loop over all files to get features and labels\n",
        "with tqdm(total=len(files)) as pbar:\n",
        "    for f1 in files:\n",
        "        name=folder+f1\n",
        "        f = open(name, 'r')\n",
        "        x=f.readline()\n",
        "        while(x):\n",
        "            x=x.split()\n",
        "            labels.append(int(x[-1]))\n",
        "            del x[-1]\n",
        "            sublist=[]\n",
        "            for val in x:\n",
        "                sublist.append(val)\n",
        "            features.append(np.array(sublist))\n",
        "            x=f.readline()\n",
        "        pbar.update(1)\n",
        "\n",
        "# Convert to an array\n",
        "features=np.array(features)\n",
        "labels=np.array(labels)\n",
        "\n",
        "# Print shape of features and labels\n",
        "print(features.shape)\n",
        "print(labels.shape)\n",
        "\n",
        "# Print unique labels\n",
        "print(np.unique(labels))\n",
        "\n",
        "# saving for future use\n",
        "with open(\"features\", 'wb') as fp:\n",
        "    pickle.dump(features, fp)\n",
        "\n",
        "with open(\"labels\", 'wb') as fp:\n",
        "    pickle.dump(labels, fp)"
      ],
      "execution_count": null,
      "outputs": [
        {
          "output_type": "stream",
          "text": [
            "100%|██████████| 10/10 [00:12<00:00,  1.32s/it]\n"
          ],
          "name": "stderr"
        },
        {
          "output_type": "stream",
          "text": [
            "(1215745, 23)\n",
            "(1215745,)\n",
            "[ 0  1  2  3  4  5  6  7  8  9 10 11 12]\n"
          ],
          "name": "stdout"
        }
      ]
    },
    {
      "cell_type": "code",
      "metadata": {
        "id": "EvxiQ2SdqAWU",
        "colab_type": "code",
        "colab": {}
      },
      "source": [
        "# getting data\n",
        "with open('features', 'rb') as fp:\n",
        "    X=pickle.load(fp)\n",
        "\n",
        "with open('labels', 'rb') as fp:\n",
        "    y=pickle.load(fp)"
      ],
      "execution_count": null,
      "outputs": []
    },
    {
      "cell_type": "code",
      "metadata": {
        "id": "LYF--nueqDEV",
        "colab_type": "code",
        "colab": {
          "base_uri": "https://localhost:8080/",
          "height": 105
        },
        "outputId": "22599ccc-71aa-40ae-b9f2-77b44321fa0b"
      },
      "source": [
        "# encoding labels to one hot form\n",
        "oh=OneHotEncoder()\n",
        "y=oh.fit_transform(np.reshape(y,(-1,1)))"
      ],
      "execution_count": null,
      "outputs": [
        {
          "output_type": "stream",
          "text": [
            "/usr/local/lib/python3.6/dist-packages/sklearn/preprocessing/_encoders.py:415: FutureWarning: The handling of integer data will change in version 0.22. Currently, the categories are determined based on the range [0, max(values)], while in the future they will be determined based on the unique values.\n",
            "If you want the future behaviour and silence this warning, you can specify \"categories='auto'\".\n",
            "In case you used a LabelEncoder before this OneHotEncoder to convert the categories to integers, then you can now use the OneHotEncoder directly.\n",
            "  warnings.warn(msg, FutureWarning)\n"
          ],
          "name": "stderr"
        }
      ]
    },
    {
      "cell_type": "code",
      "metadata": {
        "id": "AxAYSAcBqD5t",
        "colab_type": "code",
        "colab": {}
      },
      "source": [
        "# Split data in training and testing\n",
        "X_train, X_test, y_train, y_test=train_test_split(X,y,test_size=0.2, random_state=42, shuffle=True)\n",
        "\n",
        "#X_train=np.expand_dims(X_train,axis=2)\n",
        "#X_test=np.expand_dims(X_test,axis=2)"
      ],
      "execution_count": null,
      "outputs": []
    },
    {
      "cell_type": "code",
      "metadata": {
        "id": "R5IBtea2qFtl",
        "colab_type": "code",
        "colab": {
          "base_uri": "https://localhost:8080/",
          "height": 853
        },
        "outputId": "de3fe5f6-09e9-43a7-c35b-df60e169c424"
      },
      "source": [
        "# MLP Network\n",
        "input = Input(shape=(23,))\n",
        "\n",
        "# Build layers\n",
        "\n",
        "# Rectified linear unit\n",
        "d=Dense(128, activation='relu')(input)\n",
        "d=Dense(256, activation='relu')(d)\n",
        "\n",
        "d=Dense(512, activation='relu')(d)\n",
        "# Reduce overfitting with droput regularisation\n",
        "d=Dropout(0.4)(d)\n",
        "\n",
        "d=Dense(1024, activation='relu')(d)\n",
        "\n",
        "# Reduce overfitting with droput regularisation\n",
        "d=Dropout(0.4)(d)\n",
        "\n",
        "# softmax activation function\n",
        "output = Dense(13, activation='softmax')(d)\n",
        "\n",
        "# define input and output of model\n",
        "model = Model(inputs=input, outputs=output)\n",
        "\n",
        "# learning rate\n",
        "adam=Adam(lr=0.0001)\n",
        "\n",
        "# configuring the model for training\n",
        "model.compile(optimizer=adam, loss='categorical_crossentropy', metrics=['accuracy'])\n",
        "\n",
        "# fit model, define batch size and number of epochs\n",
        "history=model.fit(X_train,y_train,batch_size=32, epochs=20,validation_data=(X_test,y_test))\n",
        "\n",
        "# save the model\n",
        "model.save('mlp.h5')\n",
        "\n",
        "with open(\"OH\", 'wb') as fp:\n",
        "    pickle.dump(oh, fp)\n",
        "\n",
        "# print stats of model\n",
        "print(history.history.keys())"
      ],
      "execution_count": null,
      "outputs": [
        {
          "output_type": "stream",
          "text": [
            "WARNING: Logging before flag parsing goes to stderr.\n",
            "W0815 11:43:46.672540 139854869505920 deprecation_wrapper.py:119] From /usr/local/lib/python3.6/dist-packages/keras/backend/tensorflow_backend.py:74: The name tf.get_default_graph is deprecated. Please use tf.compat.v1.get_default_graph instead.\n",
            "\n",
            "W0815 11:43:46.719300 139854869505920 deprecation_wrapper.py:119] From /usr/local/lib/python3.6/dist-packages/keras/backend/tensorflow_backend.py:517: The name tf.placeholder is deprecated. Please use tf.compat.v1.placeholder instead.\n",
            "\n",
            "W0815 11:43:46.727280 139854869505920 deprecation_wrapper.py:119] From /usr/local/lib/python3.6/dist-packages/keras/backend/tensorflow_backend.py:4138: The name tf.random_uniform is deprecated. Please use tf.random.uniform instead.\n",
            "\n",
            "W0815 11:43:46.773563 139854869505920 deprecation_wrapper.py:119] From /usr/local/lib/python3.6/dist-packages/keras/backend/tensorflow_backend.py:133: The name tf.placeholder_with_default is deprecated. Please use tf.compat.v1.placeholder_with_default instead.\n",
            "\n",
            "W0815 11:43:46.785584 139854869505920 deprecation.py:506] From /usr/local/lib/python3.6/dist-packages/keras/backend/tensorflow_backend.py:3445: calling dropout (from tensorflow.python.ops.nn_ops) with keep_prob is deprecated and will be removed in a future version.\n",
            "Instructions for updating:\n",
            "Please use `rate` instead of `keep_prob`. Rate should be set to `rate = 1 - keep_prob`.\n",
            "W0815 11:43:46.871035 139854869505920 deprecation_wrapper.py:119] From /usr/local/lib/python3.6/dist-packages/keras/optimizers.py:790: The name tf.train.Optimizer is deprecated. Please use tf.compat.v1.train.Optimizer instead.\n",
            "\n",
            "W0815 11:43:46.884852 139854869505920 deprecation_wrapper.py:119] From /usr/local/lib/python3.6/dist-packages/keras/backend/tensorflow_backend.py:3295: The name tf.log is deprecated. Please use tf.math.log instead.\n",
            "\n",
            "W0815 11:43:47.024898 139854869505920 deprecation.py:323] From /usr/local/lib/python3.6/dist-packages/tensorflow/python/ops/math_grad.py:1250: add_dispatch_support.<locals>.wrapper (from tensorflow.python.ops.array_ops) is deprecated and will be removed in a future version.\n",
            "Instructions for updating:\n",
            "Use tf.where in 2.0, which has the same broadcast rule as np.where\n"
          ],
          "name": "stderr"
        },
        {
          "output_type": "stream",
          "text": [
            "Train on 972596 samples, validate on 243149 samples\n",
            "Epoch 1/20\n",
            "972596/972596 [==============================] - 266s 274us/step - loss: 0.5807 - acc: 0.7844 - val_loss: 0.4100 - val_acc: 0.8309\n",
            "Epoch 2/20\n",
            "972596/972596 [==============================] - 265s 272us/step - loss: 0.4021 - acc: 0.8321 - val_loss: 0.3438 - val_acc: 0.8557\n",
            "Epoch 3/20\n",
            "972596/972596 [==============================] - 264s 272us/step - loss: 0.3505 - acc: 0.8518 - val_loss: 0.3161 - val_acc: 0.8672\n",
            "Epoch 4/20\n",
            "972596/972596 [==============================] - 265s 272us/step - loss: 0.3211 - acc: 0.8632 - val_loss: 0.2931 - val_acc: 0.8751\n",
            "Epoch 5/20\n",
            "972596/972596 [==============================] - 266s 273us/step - loss: 0.3019 - acc: 0.8713 - val_loss: 0.2772 - val_acc: 0.8811\n",
            "Epoch 6/20\n",
            "972596/972596 [==============================] - 266s 273us/step - loss: 0.2878 - acc: 0.8772 - val_loss: 0.2642 - val_acc: 0.8874\n",
            "Epoch 7/20\n",
            "972596/972596 [==============================] - 264s 271us/step - loss: 0.2767 - acc: 0.8823 - val_loss: 0.2569 - val_acc: 0.8898\n",
            "Epoch 8/20\n",
            "972596/972596 [==============================] - 261s 269us/step - loss: 0.2687 - acc: 0.8859 - val_loss: 0.2500 - val_acc: 0.8933\n",
            "Epoch 9/20\n",
            "972596/972596 [==============================] - 257s 265us/step - loss: 0.2614 - acc: 0.8890 - val_loss: 0.2443 - val_acc: 0.8959\n",
            "Epoch 10/20\n",
            "972596/972596 [==============================] - 254s 261us/step - loss: 0.2563 - acc: 0.8917 - val_loss: 0.2446 - val_acc: 0.8942\n",
            "Epoch 11/20\n",
            "972596/972596 [==============================] - 256s 263us/step - loss: 0.2523 - acc: 0.8929 - val_loss: 0.2381 - val_acc: 0.8979\n",
            "Epoch 12/20\n",
            "972596/972596 [==============================] - 253s 260us/step - loss: 0.2481 - acc: 0.8951 - val_loss: 0.2344 - val_acc: 0.9002\n",
            "Epoch 13/20\n",
            "972596/972596 [==============================] - 252s 260us/step - loss: 0.2454 - acc: 0.8962 - val_loss: 0.2360 - val_acc: 0.8986\n",
            "Epoch 14/20\n",
            " 62208/972596 [>.............................] - ETA: 3:40 - loss: 0.2390 - acc: 0.8985Buffered data was truncated after reaching the output size limit."
          ],
          "name": "stdout"
        }
      ]
    },
    {
      "cell_type": "code",
      "metadata": {
        "id": "5kyovmwhuHHY",
        "colab_type": "code",
        "colab": {
          "base_uri": "https://localhost:8080/",
          "height": 54
        },
        "outputId": "43a0ada1-54ab-4d8b-bddf-9c7564743eda"
      },
      "source": [
        "print(model.layers)"
      ],
      "execution_count": null,
      "outputs": [
        {
          "output_type": "stream",
          "text": [
            "[<keras.engine.input_layer.InputLayer object at 0x7f3220731668>, <keras.layers.core.Dense object at 0x7f325c330e10>, <keras.layers.core.Dense object at 0x7f325c330a58>, <keras.layers.core.Dense object at 0x7f325c330be0>, <keras.layers.core.Dropout object at 0x7f32207550f0>, <keras.layers.core.Dense object at 0x7f322bff2da0>, <keras.layers.core.Dropout object at 0x7f322bff2668>, <keras.layers.core.Dense object at 0x7f322c019390>]\n"
          ],
          "name": "stdout"
        }
      ]
    },
    {
      "cell_type": "code",
      "metadata": {
        "id": "bnnZrf1iwKLZ",
        "colab_type": "code",
        "colab": {
          "base_uri": "https://localhost:8080/",
          "height": 34
        },
        "outputId": "23092588-4527-4f19-bf68-7e4f9531a60c"
      },
      "source": [
        "print(model.input)"
      ],
      "execution_count": null,
      "outputs": [
        {
          "output_type": "stream",
          "text": [
            "Tensor(\"input_1:0\", shape=(?, 23), dtype=float32)\n"
          ],
          "name": "stdout"
        }
      ]
    },
    {
      "cell_type": "code",
      "metadata": {
        "id": "BygFJSI9wMzR",
        "colab_type": "code",
        "colab": {
          "base_uri": "https://localhost:8080/",
          "height": 34
        },
        "outputId": "5313cea5-0eee-47dd-c357-eec0edb9078a"
      },
      "source": [
        "print(model.outputs)"
      ],
      "execution_count": null,
      "outputs": [
        {
          "output_type": "stream",
          "text": [
            "[<tf.Tensor 'dense_5/Softmax:0' shape=(?, 13) dtype=float32>]\n"
          ],
          "name": "stdout"
        }
      ]
    },
    {
      "cell_type": "code",
      "metadata": {
        "id": "XhnvSU6EwFfW",
        "colab_type": "code",
        "colab": {
          "base_uri": "https://localhost:8080/",
          "height": 425
        },
        "outputId": "d9227a1d-2f27-4d51-aa95-50aa179ba912"
      },
      "source": [
        "print(model.summary())"
      ],
      "execution_count": null,
      "outputs": [
        {
          "output_type": "stream",
          "text": [
            "_________________________________________________________________\n",
            "Layer (type)                 Output Shape              Param #   \n",
            "=================================================================\n",
            "input_1 (InputLayer)         (None, 23)                0         \n",
            "_________________________________________________________________\n",
            "dense_1 (Dense)              (None, 128)               3072      \n",
            "_________________________________________________________________\n",
            "dense_2 (Dense)              (None, 256)               33024     \n",
            "_________________________________________________________________\n",
            "dense_3 (Dense)              (None, 512)               131584    \n",
            "_________________________________________________________________\n",
            "dropout_1 (Dropout)          (None, 512)               0         \n",
            "_________________________________________________________________\n",
            "dense_4 (Dense)              (None, 1024)              525312    \n",
            "_________________________________________________________________\n",
            "dropout_2 (Dropout)          (None, 1024)              0         \n",
            "_________________________________________________________________\n",
            "dense_5 (Dense)              (None, 13)                13325     \n",
            "=================================================================\n",
            "Total params: 706,317\n",
            "Trainable params: 706,317\n",
            "Non-trainable params: 0\n",
            "_________________________________________________________________\n",
            "None\n"
          ],
          "name": "stdout"
        }
      ]
    },
    {
      "cell_type": "code",
      "metadata": {
        "id": "p-sx4Y3-p7gu",
        "colab_type": "code",
        "colab": {
          "base_uri": "https://localhost:8080/",
          "height": 295
        },
        "outputId": "37ad1424-4224-4b3b-9e11-b2c13f934b69"
      },
      "source": [
        "#  \"Accuracy\"\n",
        "plt.plot(history.history['acc'])\n",
        "plt.plot(history.history['val_acc'])\n",
        "plt.title('MLP accuracy')\n",
        "plt.ylabel('accuracy')\n",
        "plt.xlabel('epoch')\n",
        "plt.legend(['train', 'validation'], loc='upper left')\n",
        "plt.savefig(\"MLP-acc.png\")\n",
        "#plt.close()"
      ],
      "execution_count": null,
      "outputs": [
        {
          "output_type": "display_data",
          "data": {
            "image/png": "[encoded data removed]",
            "text/plain": [
              "<Figure size 432x288 with 1 Axes>"
            ]
          },
          "metadata": {
            "tags": []
          }
        }
      ]
    },
    {
      "cell_type": "code",
      "metadata": {
        "id": "JkkZg1wBB5nB",
        "colab_type": "code",
        "colab": {
          "base_uri": "https://localhost:8080/",
          "height": 295
        },
        "outputId": "c0f92154-f0c9-4b58-d42f-1885961a65e4"
      },
      "source": [
        "# \"Loss\"\n",
        "plt.plot(history.history['loss'])\n",
        "plt.plot(history.history['val_loss'])\n",
        "plt.title('MLP loss')\n",
        "plt.ylabel('loss')\n",
        "plt.xlabel('epoch')\n",
        "plt.legend(['train', 'validation'], loc='upper left')\n",
        "plt.savefig(\"MLP-loss.png\")\n",
        "\n",
        "with open(\"X_test-MLP\", 'wb') as fp:\n",
        "    pickle.dump(X_test, fp)\n",
        "\n",
        "with open(\"y_test_MLP\", 'wb') as fp:\n",
        "    pickle.dump(y_test, fp)"
      ],
      "execution_count": null,
      "outputs": [
        {
          "output_type": "display_data",
          "data": {
            "image/png": "[encoded data removed]",
            "text/plain": [
              "<Figure size 432x288 with 1 Axes>"
            ]
          },
          "metadata": {
            "tags": []
          }
        }
      ]
    },
    {
      "cell_type": "code",
      "metadata": {
        "id": "heCCcOF_CSPN",
        "colab_type": "code",
        "colab": {
          "base_uri": "https://localhost:8080/",
          "height": 583
        },
        "outputId": "4eaa2549-dbb5-4d1c-ed87-4bcdde0b9e8a"
      },
      "source": [
        "import pickle\n",
        "import numpy as np\n",
        "import seaborn as sn\n",
        "import pandas as pd\n",
        "import matplotlib.pyplot as plt\n",
        "from keras.models import load_model\n",
        "from sklearn.metrics import confusion_matrix\n",
        "\n",
        "\n",
        "# getting data\n",
        "with open('X_test-MLP', 'rb') as fp:\n",
        "    X_test=pickle.load(fp)\n",
        "\n",
        "with open('y_test_MLP', 'rb') as fp:\n",
        "    y_test=pickle.load(fp)\n",
        "\n",
        "\n",
        "# load model whose conf matrix you want\n",
        "model=load_model('mlp.h5')\n",
        "\n",
        "# make predictions\n",
        "y_pred=model.predict(X_test)\n",
        "\n",
        "# name labels\n",
        "labs = [\"Null class\",\"Standing still\", \"Sitting and relaxing\",\"Lying down\", \"Walking\",\"Climbing stairs\", \"Waist bends forward\",\"Frontal elevation of arms\", \"Knees bending (crouching)\",\"Cycling\", \"Jogging\",\"Running\", \"Jump front & back\"]\n",
        "\n",
        "preds=[]\n",
        "new_test=[]\n",
        "\n",
        "# converting one hot prediction and real label to single integer value\n",
        "for i,p in enumerate(y_pred):\n",
        "    preds.append(np.argmax(p))\n",
        "    new_test.append(np.argmax(y_test[i]))\n",
        "\n",
        "y_pred=preds\n",
        "y_test=new_test\n",
        "\n",
        "# making conf matrix\n",
        "array=confusion_matrix(y_test, y_pred)\n",
        "\n",
        "df_cm = pd.DataFrame(array, index = [i for i in list(labs)],\n",
        "                  columns = [i for i in list(labs)])\n",
        "plt.figure(figsize = (10,7))\n",
        "sn.heatmap(df_cm, annot=True,fmt='g')\n",
        "\n",
        "# saving matrix\n",
        "plt.title(\"Confusion Matrix: \")\n",
        "plt.xlabel(\"Actual\")\n",
        "plt.ylabel(\"Predicted\")\n",
        "plt.savefig(\"CM-mlp.png\")"
      ],
      "execution_count": null,
      "outputs": [
        {
          "output_type": "display_data",
          "data": {
            "image/png": "[encoded data removed]",
            "text/plain": [
              "<Figure size 720x504 with 2 Axes>"
            ]
          },
          "metadata": {
            "tags": []
          }
        }
      ]
    },
    {
      "cell_type": "code",
      "metadata": {
        "id": "-p9C3U3CeclN",
        "colab_type": "code",
        "colab": {
          "base_uri": "https://localhost:8080/",
          "height": 357
        },
        "outputId": "51f097c1-97a6-42a4-97da-dfccf0459f1b"
      },
      "source": [
        "from sklearn.metrics import classification_report\n",
        "\n",
        "classes = [\"Null class\", \"Standing still\", \"Sitting and relaxing\",\"Lying down\", \"Walking\",\"Climbing stairs\", \"Waist bends forward\",\"Frontal elevation of arms\", \"Knees bending (crouching)\",\"Cycling\", \"Jogging\",\"Running\", \"Jump front & back\"]\n",
        "\n",
        "print(classification_report(y_test, y_pred, target_names=classes))"
      ],
      "execution_count": null,
      "outputs": [
        {
          "output_type": "stream",
          "text": [
            "                           precision    recall  f1-score   support\n",
            "\n",
            "               Null class       0.97      0.90      0.93    174852\n",
            "           Standing still       0.79      0.96      0.87      6172\n",
            "     Sitting and relaxing       0.76      0.97      0.85      6101\n",
            "               Lying down       0.79      1.00      0.88      6152\n",
            "                  Walking       0.79      0.93      0.85      6219\n",
            "          Climbing stairs       0.78      0.86      0.81      6014\n",
            "      Waist bends forward       0.75      0.97      0.84      5558\n",
            "Frontal elevation of arms       0.77      0.96      0.86      5782\n",
            "Knees bending (crouching)       0.80      0.94      0.86      5866\n",
            "                  Cycling       0.76      0.96      0.85      6184\n",
            "                  Jogging       0.74      0.98      0.84      6128\n",
            "                  Running       0.82      0.80      0.81      6077\n",
            "        Jump front & back       0.62      0.66      0.64      2044\n",
            "\n",
            "                 accuracy                           0.91    243149\n",
            "                macro avg       0.78      0.91      0.84    243149\n",
            "             weighted avg       0.92      0.91      0.91    243149\n",
            "\n"
          ],
          "name": "stdout"
        }
      ]
    },
    {
      "cell_type": "code",
      "metadata": {
        "id": "2OK6-WHbFh8K",
        "colab_type": "code",
        "colab": {
          "base_uri": "https://localhost:8080/",
          "height": 553
        },
        "outputId": "115537c2-2cfa-40ed-8ac7-5e4a044ffd42"
      },
      "source": [
        "# Results: Precision, Recall, f1 score, Accuracy\n",
        "\n",
        "from sklearn import metrics\n",
        "from numpy import argmax\n",
        "from sklearn.metrics import accuracy_score\n",
        "\n",
        "print(\"MLP - Accuracy:{}%\".format(100*accuracy_score(y_test, y_pred)))\n",
        "\n",
        "print(\"\")\n",
        "print(\"MLP - Precision: {}%\".format(100*metrics.precision_score(y_test, y_pred, average=\"weighted\")))\n",
        "print(\"MLP - Recall: {}%\".format(100*metrics.recall_score(y_test, y_pred, average=\"weighted\")))\n",
        "print(\"MLP - f1_score: {}%\".format(100*metrics.f1_score(y_test, y_pred, average=\"weighted\")))\n",
        "\n",
        "print(\"\")\n",
        "print(\"Confusion Matrix:\")\n",
        "confusion_matrix = metrics.confusion_matrix(y_test, y_pred)\n",
        "print(confusion_matrix)"
      ],
      "execution_count": null,
      "outputs": [
        {
          "output_type": "stream",
          "text": [
            "MLP - Accuracy:90.53090903108793%\n",
            "\n",
            "MLP - Precision: 91.71019874934807%\n",
            "MLP - Recall: 90.53090903108793%\n",
            "MLP - f1_score: 90.7625871656464%\n",
            "\n",
            "Confusion Matrix:\n",
            "[[156669   1588   1845   1631   1528   1468   1771   1617   1346   1877\n",
            "    1697    990    825]\n",
            " [   231   5938      0      0      0      0      3      0      0      0\n",
            "       0      0      0]\n",
            " [   173      0   5928      0      0      0      0      0      0      0\n",
            "       0      0      0]\n",
            " [    12      0      0   6140      0      0      0      0      0      0\n",
            "       0      0      0]\n",
            " [   445      0      0      0   5768      6      0      0      0      0\n",
            "       0      0      0]\n",
            " [   837      0      0      0      9   5144      2      0     21      0\n",
            "       1      0      0]\n",
            " [   181      0      0      0      0      0   5372      5      0      0\n",
            "       0      0      0]\n",
            " [   239      0      0      0      0      0      6   5534      3      0\n",
            "       0      0      0]\n",
            " [   354      0      0      0      0     11     12      1   5487      1\n",
            "       0      0      0]\n",
            " [   241      0      0      0      0      1      1      0      2   5939\n",
            "       0      0      0]\n",
            " [    92      0      0      0      0      0      0      0      0      0\n",
            "    5985     49      2]\n",
            " [   821      0      0      0      1      0      0      0      0      0\n",
            "     376   4873      6]\n",
            " [   641      0      0      0      0      1      0      0      0      0\n",
            "      44     10   1348]]\n"
          ],
          "name": "stdout"
        }
      ]
    },
    {
      "cell_type": "code",
      "metadata": {
        "id": "tNjDO8ewCXu-",
        "colab_type": "code",
        "colab": {
          "base_uri": "https://localhost:8080/",
          "height": 836
        },
        "outputId": "47b30ae0-e3bb-4eb4-b0e9-f4222b4a601d"
      },
      "source": [
        "# Confusion matrix code, referenced in thesis\n",
        "# http://rasbt.github.io/mlxtend/user_guide/plotting/plot_confusion_matrix/\n",
        "\n",
        "# Import libraries\n",
        "from mlxtend.plotting import plot_confusion_matrix\n",
        "import matplotlib.pyplot as plt\n",
        "import numpy as np\n",
        "\n",
        "confusion_matrix = metrics.confusion_matrix(y_test, y_pred)\n",
        "\n",
        "# Convert cm to array for multiclass cm\n",
        "normalised_confusion_matrix = np.array(confusion_matrix, dtype=np.float32)/np.sum(confusion_matrix)*100\n",
        "multiclass = normalised_confusion_matrix\n",
        "\n",
        "# labels (classes)\n",
        "classes = [\"Null class\", \"Standing still\", \"Sitting and relaxing\",\"Lying down\", \"Walking\",\"Climbing stairs\", \"Waist bends forward\",\"Frontal elevation of arms\", \"Knees bending (crouching)\",\"Cycling\", \"Jogging\",\"Running\", \"Jump front & back\"]\n",
        "\n",
        "# plot confusion matrix\n",
        "fig, ax = plot_confusion_matrix(conf_mat=multiclass,\n",
        "                                colorbar=True,\n",
        "                                show_absolute=False,\n",
        "                                show_normed=True,\n",
        "                               figsize = (12,12))\n",
        "\n",
        "# plot title, xaxis and yaxis, identify tickmarks, ensure tight layout\n",
        "plt.title('Confusion matrix: MLP \\n(normalised to % of total test data)')\n",
        "plt.xlabel(\"Actual\")\n",
        "plt.ylabel(\"Predicted\")\n",
        "tick_marks = np.arange(13)\n",
        "plt.xticks(tick_marks, classes, rotation=90)\n",
        "plt.yticks(tick_marks, classes)\n",
        "plt.tight_layout()\n",
        "plt.show()"
      ],
      "execution_count": null,
      "outputs": [
        {
          "output_type": "display_data",
          "data": {
            "image/png": "[encoded data removed]",
            "text/plain": [
              "<Figure size 864x864 with 2 Axes>"
            ]
          },
          "metadata": {
            "tags": []
          }
        }
      ]
    },
    {
      "cell_type": "code",
      "metadata": {
        "id": "NYpPSE1MCaSD",
        "colab_type": "code",
        "colab": {
          "base_uri": "https://localhost:8080/",
          "height": 591
        },
        "outputId": "e87ed4c0-8196-40b1-a3a8-f0bcb3e27bba"
      },
      "source": [
        "# Bar chart feature importance\n",
        "\n",
        "from sklearn.metrics import confusion_matrix as cm\n",
        "import pandas as pd\n",
        "\n",
        "# confusion matrix\n",
        "confusion_matrix=cm(y_test, y_pred)\n",
        "\n",
        "# Create list containing labels for dataframe below\n",
        "list1 = [\"Null class\",\"Standing still\", \"Sitting and relaxing\",\"Lying down\", \"Walking\",\"Climbing stairs\", \"Waist bends forward\",\"Frontal elevation of arms\", \"Knees bending (crouching)\",\"Cycling\", \"Jogging\",\"Running\", \"Jump front & back\"]\n",
        "list2 = [\"Null class\",\"Standing still\", \"Sitting and relaxing\",\"Lying down\", \"Walking\",\"Climbing stairs\", \"Waist bends forward\",\"Frontal elevation of arms\", \"Knees bending (crouching)\",\"Cycling\", \"Jogging\",\"Running\", \"Jump front & back\"]\n",
        "\n",
        "# convert to pandas dataframe\n",
        "pd.DataFrame(confusion_matrix, list1,list2)\n",
        "\n",
        "df = pd.DataFrame(confusion_matrix, list1,list2)\n",
        "# Hard code in accuracy\n",
        "df['Accuracy'] = ['90%','98%','97%','99%','93%','86%','94%','96%','95%','98%','97%','87%','39%']\n",
        "df = df[1:14]\n",
        "df"
      ],
      "execution_count": null,
      "outputs": [
        {
          "output_type": "execute_result",
          "data": {
            "text/html": [
              "<div>\n",
              "<style scoped>\n",
              "    .dataframe tbody tr th:only-of-type {\n",
              "        vertical-align: middle;\n",
              "    }\n",
              "\n",
              "    .dataframe tbody tr th {\n",
              "        vertical-align: top;\n",
              "    }\n",
              "\n",
              "    .dataframe thead th {\n",
              "        text-align: right;\n",
              "    }\n",
              "</style>\n",
              "<table border=\"1\" class=\"dataframe\">\n",
              "  <thead>\n",
              "    <tr style=\"text-align: right;\">\n",
              "      <th></th>\n",
              "      <th>Null class</th>\n",
              "      <th>Standing still</th>\n",
              "      <th>Sitting and relaxing</th>\n",
              "      <th>Lying down</th>\n",
              "      <th>Walking</th>\n",
              "      <th>Climbing stairs</th>\n",
              "      <th>Waist bends forward</th>\n",
              "      <th>Frontal elevation of arms</th>\n",
              "      <th>Knees bending (crouching)</th>\n",
              "      <th>Cycling</th>\n",
              "      <th>Jogging</th>\n",
              "      <th>Running</th>\n",
              "      <th>Jump front &amp; back</th>\n",
              "      <th>Accuracy</th>\n",
              "    </tr>\n",
              "  </thead>\n",
              "  <tbody>\n",
              "    <tr>\n",
              "      <th>Standing still</th>\n",
              "      <td>231</td>\n",
              "      <td>5938</td>\n",
              "      <td>0</td>\n",
              "      <td>0</td>\n",
              "      <td>0</td>\n",
              "      <td>0</td>\n",
              "      <td>3</td>\n",
              "      <td>0</td>\n",
              "      <td>0</td>\n",
              "      <td>0</td>\n",
              "      <td>0</td>\n",
              "      <td>0</td>\n",
              "      <td>0</td>\n",
              "      <td>98%</td>\n",
              "    </tr>\n",
              "    <tr>\n",
              "      <th>Sitting and relaxing</th>\n",
              "      <td>173</td>\n",
              "      <td>0</td>\n",
              "      <td>5928</td>\n",
              "      <td>0</td>\n",
              "      <td>0</td>\n",
              "      <td>0</td>\n",
              "      <td>0</td>\n",
              "      <td>0</td>\n",
              "      <td>0</td>\n",
              "      <td>0</td>\n",
              "      <td>0</td>\n",
              "      <td>0</td>\n",
              "      <td>0</td>\n",
              "      <td>97%</td>\n",
              "    </tr>\n",
              "    <tr>\n",
              "      <th>Lying down</th>\n",
              "      <td>12</td>\n",
              "      <td>0</td>\n",
              "      <td>0</td>\n",
              "      <td>6140</td>\n",
              "      <td>0</td>\n",
              "      <td>0</td>\n",
              "      <td>0</td>\n",
              "      <td>0</td>\n",
              "      <td>0</td>\n",
              "      <td>0</td>\n",
              "      <td>0</td>\n",
              "      <td>0</td>\n",
              "      <td>0</td>\n",
              "      <td>99%</td>\n",
              "    </tr>\n",
              "    <tr>\n",
              "      <th>Walking</th>\n",
              "      <td>445</td>\n",
              "      <td>0</td>\n",
              "      <td>0</td>\n",
              "      <td>0</td>\n",
              "      <td>5768</td>\n",
              "      <td>6</td>\n",
              "      <td>0</td>\n",
              "      <td>0</td>\n",
              "      <td>0</td>\n",
              "      <td>0</td>\n",
              "      <td>0</td>\n",
              "      <td>0</td>\n",
              "      <td>0</td>\n",
              "      <td>93%</td>\n",
              "    </tr>\n",
              "    <tr>\n",
              "      <th>Climbing stairs</th>\n",
              "      <td>837</td>\n",
              "      <td>0</td>\n",
              "      <td>0</td>\n",
              "      <td>0</td>\n",
              "      <td>9</td>\n",
              "      <td>5144</td>\n",
              "      <td>2</td>\n",
              "      <td>0</td>\n",
              "      <td>21</td>\n",
              "      <td>0</td>\n",
              "      <td>1</td>\n",
              "      <td>0</td>\n",
              "      <td>0</td>\n",
              "      <td>86%</td>\n",
              "    </tr>\n",
              "    <tr>\n",
              "      <th>Waist bends forward</th>\n",
              "      <td>181</td>\n",
              "      <td>0</td>\n",
              "      <td>0</td>\n",
              "      <td>0</td>\n",
              "      <td>0</td>\n",
              "      <td>0</td>\n",
              "      <td>5372</td>\n",
              "      <td>5</td>\n",
              "      <td>0</td>\n",
              "      <td>0</td>\n",
              "      <td>0</td>\n",
              "      <td>0</td>\n",
              "      <td>0</td>\n",
              "      <td>94%</td>\n",
              "    </tr>\n",
              "    <tr>\n",
              "      <th>Frontal elevation of arms</th>\n",
              "      <td>239</td>\n",
              "      <td>0</td>\n",
              "      <td>0</td>\n",
              "      <td>0</td>\n",
              "      <td>0</td>\n",
              "      <td>0</td>\n",
              "      <td>6</td>\n",
              "      <td>5534</td>\n",
              "      <td>3</td>\n",
              "      <td>0</td>\n",
              "      <td>0</td>\n",
              "      <td>0</td>\n",
              "      <td>0</td>\n",
              "      <td>96%</td>\n",
              "    </tr>\n",
              "    <tr>\n",
              "      <th>Knees bending (crouching)</th>\n",
              "      <td>354</td>\n",
              "      <td>0</td>\n",
              "      <td>0</td>\n",
              "      <td>0</td>\n",
              "      <td>0</td>\n",
              "      <td>11</td>\n",
              "      <td>12</td>\n",
              "      <td>1</td>\n",
              "      <td>5487</td>\n",
              "      <td>1</td>\n",
              "      <td>0</td>\n",
              "      <td>0</td>\n",
              "      <td>0</td>\n",
              "      <td>95%</td>\n",
              "    </tr>\n",
              "    <tr>\n",
              "      <th>Cycling</th>\n",
              "      <td>241</td>\n",
              "      <td>0</td>\n",
              "      <td>0</td>\n",
              "      <td>0</td>\n",
              "      <td>0</td>\n",
              "      <td>1</td>\n",
              "      <td>1</td>\n",
              "      <td>0</td>\n",
              "      <td>2</td>\n",
              "      <td>5939</td>\n",
              "      <td>0</td>\n",
              "      <td>0</td>\n",
              "      <td>0</td>\n",
              "      <td>98%</td>\n",
              "    </tr>\n",
              "    <tr>\n",
              "      <th>Jogging</th>\n",
              "      <td>92</td>\n",
              "      <td>0</td>\n",
              "      <td>0</td>\n",
              "      <td>0</td>\n",
              "      <td>0</td>\n",
              "      <td>0</td>\n",
              "      <td>0</td>\n",
              "      <td>0</td>\n",
              "      <td>0</td>\n",
              "      <td>0</td>\n",
              "      <td>5985</td>\n",
              "      <td>49</td>\n",
              "      <td>2</td>\n",
              "      <td>97%</td>\n",
              "    </tr>\n",
              "    <tr>\n",
              "      <th>Running</th>\n",
              "      <td>821</td>\n",
              "      <td>0</td>\n",
              "      <td>0</td>\n",
              "      <td>0</td>\n",
              "      <td>1</td>\n",
              "      <td>0</td>\n",
              "      <td>0</td>\n",
              "      <td>0</td>\n",
              "      <td>0</td>\n",
              "      <td>0</td>\n",
              "      <td>376</td>\n",
              "      <td>4873</td>\n",
              "      <td>6</td>\n",
              "      <td>87%</td>\n",
              "    </tr>\n",
              "    <tr>\n",
              "      <th>Jump front &amp; back</th>\n",
              "      <td>641</td>\n",
              "      <td>0</td>\n",
              "      <td>0</td>\n",
              "      <td>0</td>\n",
              "      <td>0</td>\n",
              "      <td>1</td>\n",
              "      <td>0</td>\n",
              "      <td>0</td>\n",
              "      <td>0</td>\n",
              "      <td>0</td>\n",
              "      <td>44</td>\n",
              "      <td>10</td>\n",
              "      <td>1348</td>\n",
              "      <td>39%</td>\n",
              "    </tr>\n",
              "  </tbody>\n",
              "</table>\n",
              "</div>"
            ],
            "text/plain": [
              "                           Null class  ...  Accuracy\n",
              "Standing still                    231  ...       98%\n",
              "Sitting and relaxing              173  ...       97%\n",
              "Lying down                         12  ...       99%\n",
              "Walking                           445  ...       93%\n",
              "Climbing stairs                   837  ...       86%\n",
              "Waist bends forward               181  ...       94%\n",
              "Frontal elevation of arms         239  ...       96%\n",
              "Knees bending (crouching)         354  ...       95%\n",
              "Cycling                           241  ...       98%\n",
              "Jogging                            92  ...       97%\n",
              "Running                           821  ...       87%\n",
              "Jump front & back                 641  ...       39%\n",
              "\n",
              "[12 rows x 14 columns]"
            ]
          },
          "metadata": {
            "tags": []
          },
          "execution_count": 21
        }
      ]
    },
    {
      "cell_type": "code",
      "metadata": {
        "id": "ssAtMEpXbpvx",
        "colab_type": "code",
        "colab": {
          "base_uri": "https://localhost:8080/",
          "height": 1000
        },
        "outputId": "896ce026-5a44-42b5-d235-0633063f916f"
      },
      "source": [
        "# The following feature importance code is taken from this link. \n",
        "# Referenced in thesis\n",
        "# https://www.oipapio.com/question-3935333\n",
        "\n",
        "# import libraries\n",
        "from xgboost import plot_importance,XGBClassifier\n",
        "from sklearn.model_selection import train_test_split\n",
        "from sklearn import model_selection\n",
        "\n",
        "# import libraries\n",
        "import numpy as np \n",
        "from xgboost import XGBClassifier \n",
        "\n",
        "# Set number of estimators\n",
        "xgb = XGBClassifier(n_estimators=100) \n",
        "\n",
        "# feature importance train test split\n",
        "X_train,X_test,y_train,y_test=model_selection.train_test_split(features,labels,test_size=0.2)\n",
        "\n",
        "# fit the model, set evaluation set and early stopping rounds\n",
        "xgb = xgb.fit(X_train,y_train,early_stopping_rounds=5,eval_set=[(X_test,y_test)])\n"
      ],
      "execution_count": null,
      "outputs": [
        {
          "output_type": "stream",
          "text": [
            "[0]\tvalidation_0-merror:0.253524\n",
            "Will train until validation_0-merror hasn't improved in 5 rounds.\n",
            "[1]\tvalidation_0-merror:0.253252\n",
            "[2]\tvalidation_0-merror:0.252512\n",
            "[3]\tvalidation_0-merror:0.251644\n",
            "[4]\tvalidation_0-merror:0.25164\n",
            "[5]\tvalidation_0-merror:0.251237\n",
            "[6]\tvalidation_0-merror:0.251146\n",
            "[7]\tvalidation_0-merror:0.251142\n",
            "[8]\tvalidation_0-merror:0.250472\n",
            "[9]\tvalidation_0-merror:0.250324\n",
            "[10]\tvalidation_0-merror:0.250246\n",
            "[11]\tvalidation_0-merror:0.249711\n",
            "[12]\tvalidation_0-merror:0.249345\n",
            "[13]\tvalidation_0-merror:0.249144\n",
            "[14]\tvalidation_0-merror:0.247651\n",
            "[15]\tvalidation_0-merror:0.245422\n",
            "[16]\tvalidation_0-merror:0.244689\n",
            "[17]\tvalidation_0-merror:0.241227\n",
            "[18]\tvalidation_0-merror:0.240207\n",
            "[19]\tvalidation_0-merror:0.239643\n",
            "[20]\tvalidation_0-merror:0.239022\n",
            "[21]\tvalidation_0-merror:0.238549\n",
            "[22]\tvalidation_0-merror:0.236604\n",
            "[23]\tvalidation_0-merror:0.23611\n",
            "[24]\tvalidation_0-merror:0.235662\n",
            "[25]\tvalidation_0-merror:0.235226\n",
            "[26]\tvalidation_0-merror:0.234564\n",
            "[27]\tvalidation_0-merror:0.233947\n",
            "[28]\tvalidation_0-merror:0.233807\n",
            "[29]\tvalidation_0-merror:0.233096\n",
            "[30]\tvalidation_0-merror:0.232483\n",
            "[31]\tvalidation_0-merror:0.231644\n",
            "[32]\tvalidation_0-merror:0.231118\n",
            "[33]\tvalidation_0-merror:0.230488\n",
            "[34]\tvalidation_0-merror:0.230229\n",
            "[35]\tvalidation_0-merror:0.229074\n",
            "[36]\tvalidation_0-merror:0.228629\n",
            "[37]\tvalidation_0-merror:0.227992\n",
            "[38]\tvalidation_0-merror:0.227659\n",
            "[39]\tvalidation_0-merror:0.225134\n",
            "[40]\tvalidation_0-merror:0.224159\n",
            "[41]\tvalidation_0-merror:0.223053\n",
            "[42]\tvalidation_0-merror:0.220079\n",
            "[43]\tvalidation_0-merror:0.221148\n",
            "[44]\tvalidation_0-merror:0.21889\n",
            "[45]\tvalidation_0-merror:0.21597\n",
            "[46]\tvalidation_0-merror:0.21521\n",
            "[47]\tvalidation_0-merror:0.214292\n",
            "[48]\tvalidation_0-merror:0.213922\n",
            "[49]\tvalidation_0-merror:0.212216\n",
            "[50]\tvalidation_0-merror:0.210533\n",
            "[51]\tvalidation_0-merror:0.210052\n",
            "[52]\tvalidation_0-merror:0.209004\n",
            "[53]\tvalidation_0-merror:0.208292\n",
            "[54]\tvalidation_0-merror:0.207823\n",
            "[55]\tvalidation_0-merror:0.20721\n",
            "[56]\tvalidation_0-merror:0.206643\n",
            "[57]\tvalidation_0-merror:0.205898\n",
            "[58]\tvalidation_0-merror:0.204257\n",
            "[59]\tvalidation_0-merror:0.203163\n",
            "[60]\tvalidation_0-merror:0.20105\n",
            "[61]\tvalidation_0-merror:0.200297\n",
            "[62]\tvalidation_0-merror:0.199454\n",
            "[63]\tvalidation_0-merror:0.198565\n",
            "[64]\tvalidation_0-merror:0.198027\n",
            "[65]\tvalidation_0-merror:0.197344\n",
            "[66]\tvalidation_0-merror:0.196641\n",
            "[67]\tvalidation_0-merror:0.195699\n",
            "[68]\tvalidation_0-merror:0.19495\n",
            "[69]\tvalidation_0-merror:0.19407\n",
            "[70]\tvalidation_0-merror:0.193437\n",
            "[71]\tvalidation_0-merror:0.192429\n",
            "[72]\tvalidation_0-merror:0.191993\n",
            "[73]\tvalidation_0-merror:0.19127\n",
            "[74]\tvalidation_0-merror:0.190077\n",
            "[75]\tvalidation_0-merror:0.18853\n",
            "[76]\tvalidation_0-merror:0.187798\n",
            "[77]\tvalidation_0-merror:0.187457\n",
            "[78]\tvalidation_0-merror:0.187009\n",
            "[79]\tvalidation_0-merror:0.185298\n",
            "[80]\tvalidation_0-merror:0.184817\n",
            "[81]\tvalidation_0-merror:0.184282\n",
            "[82]\tvalidation_0-merror:0.183488\n",
            "[83]\tvalidation_0-merror:0.181909\n",
            "[84]\tvalidation_0-merror:0.181119\n",
            "[85]\tvalidation_0-merror:0.180317\n",
            "[86]\tvalidation_0-merror:0.179606\n",
            "[87]\tvalidation_0-merror:0.178273\n",
            "[88]\tvalidation_0-merror:0.177525\n",
            "[89]\tvalidation_0-merror:0.177142\n",
            "[90]\tvalidation_0-merror:0.176419\n",
            "[91]\tvalidation_0-merror:0.175917\n",
            "[92]\tvalidation_0-merror:0.175345\n",
            "[93]\tvalidation_0-merror:0.174675\n",
            "[94]\tvalidation_0-merror:0.174227\n",
            "[95]\tvalidation_0-merror:0.173568\n",
            "[96]\tvalidation_0-merror:0.1731\n",
            "[97]\tvalidation_0-merror:0.172697\n",
            "[98]\tvalidation_0-merror:0.171878\n",
            "[99]\tvalidation_0-merror:0.171446\n"
          ],
          "name": "stdout"
        }
      ]
    },
    {
      "cell_type": "code",
      "metadata": {
        "id": "_NGgiSH_gbmj",
        "colab_type": "code",
        "colab": {
          "base_uri": "https://localhost:8080/",
          "height": 720
        },
        "outputId": "94cdd99b-04f1-43af-c2f8-2b00b5db183c"
      },
      "source": [
        "# import library\n",
        "import pandas as pd\n",
        "\n",
        "# fit model\n",
        "xgb_model=xgb.fit(X_train,y_train)\n",
        "\n",
        "# convert to pandas dataframe. assign 'feature' and 'importance columns'\n",
        "xgb_fea_imp=pd.DataFrame(list(xgb_model.get_booster().get_fscore().items()),\n",
        "                                           \n",
        "columns=['feature','importance']).sort_values('importance', ascending=False)\n",
        "\n",
        "# print feature importance for each attribute\n",
        "print('',xgb_fea_imp)\n",
        "\n",
        "# plot importance\n",
        "from xgboost import plot_importance\n",
        "plot_importance(xgb_model, )"
      ],
      "execution_count": null,
      "outputs": [
        {
          "output_type": "stream",
          "text": [
            "    feature  importance\n",
            "3       f8         785\n",
            "4      f18         715\n",
            "5      f15         694\n",
            "1      f17         618\n",
            "10      f2         578\n",
            "8      f19         562\n",
            "9      f11         522\n",
            "2      f14         467\n",
            "0       f0         461\n",
            "6      f10         440\n",
            "7       f7         428\n",
            "13      f9         386\n",
            "16     f16         362\n",
            "15     f22         338\n",
            "12     f20         268\n",
            "17      f6         246\n",
            "21     f13         224\n",
            "19     f12         192\n",
            "14      f1         166\n",
            "11      f5         151\n",
            "18     f21         148\n",
            "20      f4         111\n",
            "22      f3          45\n"
          ],
          "name": "stdout"
        },
        {
          "output_type": "execute_result",
          "data": {
            "text/plain": [
              "<matplotlib.axes._subplots.AxesSubplot at 0x7f730680e470>"
            ]
          },
          "metadata": {
            "tags": []
          },
          "execution_count": 23
        },
        {
          "output_type": "display_data",
          "data": {
            "image/png": "[encoded data removed]",
            "text/plain": [
              "<Figure size 432x288 with 1 Axes>"
            ]
          },
          "metadata": {
            "tags": []
          }
        }
      ]
    }
  ]
}