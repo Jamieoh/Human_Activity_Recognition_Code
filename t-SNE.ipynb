{
  "nbformat": 4,
  "nbformat_minor": 0,
  "metadata": {
    "colab": {
      "name": "tsne_proper.ipynb",
      "provenance": []
    },
    "kernelspec": {
      "name": "python3",
      "display_name": "Python 3"
    }
  },
  "cells": [
    {
      "cell_type": "code",
      "metadata": {
        "id": "Rf-iVFBBAmsH",
        "colab_type": "code",
        "colab": {
          "base_uri": "https://localhost:8080/",
          "height": 34
        },
        "outputId": "5db9211d-6e2e-48fd-d758-1428530ee325"
      },
      "source": [
        "import numpy as np\n",
        "import matplotlib.pyplot as plt\n",
        "from tqdm import tqdm\n",
        "import csv\n",
        "from matplotlib import style\n",
        "import string\n",
        "from collections import Counter\n",
        "import sys\n",
        "import pickle\n",
        "import glob\n",
        "from keras.layers import Dense\n",
        "from keras.layers import SeparableConv1D,MaxPooling1D, LSTM\n",
        "from keras.models import Model\n",
        "from keras.layers import Input, Dense, Flatten, Dropout\n",
        "from keras.optimizers import Adam\n",
        "from keras.preprocessing.sequence import pad_sequences\n",
        "from sklearn.model_selection import train_test_split\n",
        "from sklearn.preprocessing import OneHotEncoder"
      ],
      "execution_count": null,
      "outputs": [
        {
          "output_type": "stream",
          "text": [
            "Using TensorFlow backend.\n"
          ],
          "name": "stderr"
        }
      ]
    },
    {
      "cell_type": "code",
      "metadata": {
        "colab_type": "code",
        "id": "tv8vSXAba_dP",
        "colab": {
          "resources": {
            "http://localhost:8080/nbextensions/google.colab/files.js": {
              "data": "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",
              "ok": true,
              "headers": [
                [
                  "content-type",
                  "application/javascript"
                ]
              ],
              "status": 200,
              "status_text": ""
            }
          },
          "base_uri": "https://localhost:8080/",
          "height": 380
        },
        "outputId": "d9805d87-4a16-47a6-ae1e-136deea9a93b"
      },
      "source": [
        "# Import files from google drive\n",
        "from google.colab import files\n",
        "uploaded = files.upload()"
      ],
      "execution_count": null,
      "outputs": [
        {
          "output_type": "display_data",
          "data": {
            "text/html": [
              "\n",
              "     <input type=\"file\" id=\"files-025a68ab-f1a2-44f6-bb47-a227bb18b2ee\" name=\"files[]\" multiple disabled />\n",
              "     <output id=\"result-025a68ab-f1a2-44f6-bb47-a227bb18b2ee\">\n",
              "      Upload widget is only available when the cell has been executed in the\n",
              "      current browser session. Please rerun this cell to enable.\n",
              "      </output>\n",
              "      <script src=\"/nbextensions/google.colab/files.js\"></script> "
            ],
            "text/plain": [
              "<IPython.core.display.HTML object>"
            ]
          },
          "metadata": {
            "tags": []
          }
        },
        {
          "output_type": "stream",
          "text": [
            "Saving Dataset1.zip to Dataset1.zip\n",
            "Saving Dataset2.zip to Dataset2.zip\n",
            "Saving Dataset3.zip to Dataset3.zip\n",
            "Saving Dataset4.zip to Dataset4.zip\n",
            "Saving Dataset5.zip to Dataset5.zip\n",
            "Saving Dataset6.zip to Dataset6.zip\n",
            "Saving Dataset7.zip to Dataset7.zip\n",
            "Saving Dataset8.zip to Dataset8.zip\n",
            "Saving Dataset9.zip to Dataset9.zip\n",
            "Saving Dataset10.zip to Dataset10.zip\n"
          ],
          "name": "stdout"
        }
      ]
    },
    {
      "cell_type": "code",
      "metadata": {
        "id": "_GRnO1I6bB_u",
        "colab_type": "code",
        "colab": {
          "base_uri": "https://localhost:8080/",
          "height": 357
        },
        "outputId": "ab34b082-84ce-4c94-b846-c594db02ac19"
      },
      "source": [
        "# Unzip each subject dataset individually\n",
        "!unzip Dataset1\n",
        "!unzip Dataset2\n",
        "!unzip Dataset3\n",
        "!unzip Dataset4\n",
        "!unzip Dataset5\n",
        "!unzip Dataset6\n",
        "!unzip Dataset7\n",
        "!unzip Dataset8\n",
        "!unzip Dataset9\n",
        "!unzip Dataset10"
      ],
      "execution_count": null,
      "outputs": [
        {
          "output_type": "stream",
          "text": [
            "Archive:  Dataset1.zip\n",
            "  inflating: Datasett/mHealth_subject1.log  \n",
            "Archive:  Dataset2.zip\n",
            "  inflating: Dataset2/mHealth_subject2.log  \n",
            "Archive:  Dataset3.zip\n",
            "  inflating: Dataset3/mHealth_subject3.log  \n",
            "Archive:  Dataset4.zip\n",
            "  inflating: Dataset4/mHealth_subject4.log  \n",
            "Archive:  Dataset5.zip\n",
            "  inflating: Dataset5/mHealth_subject5.log  \n",
            "Archive:  Dataset6.zip\n",
            "  inflating: Dataset6/mHealth_subject6.log  \n",
            "Archive:  Dataset7.zip\n",
            "  inflating: Dataset7/mHealth_subject7.log  \n",
            "Archive:  Dataset8.zip\n",
            "  inflating: Dataset8/mHealth_subject8.log  \n",
            "Archive:  Dataset9.zip\n",
            "  inflating: Dataset9/mHealth_subject9.log  \n",
            "Archive:  Dataset10.zip\n",
            "  inflating: Dataset10/mHealth_subject10.log  \n"
          ],
          "name": "stdout"
        }
      ]
    },
    {
      "cell_type": "code",
      "metadata": {
        "id": "YXC3AG1hbDFt",
        "colab_type": "code",
        "colab": {}
      },
      "source": [
        "# Import relevant libraries\n",
        "import numpy as np\n",
        "import pandas as pd\n",
        "from tqdm import tqdm\n",
        "import _pickle as cPickle\n",
        "from sklearn.preprocessing import LabelEncoder\n",
        "from sklearn.model_selection import train_test_split\n",
        "from sklearn import preprocessing\n",
        "import pickle\n",
        "import sys\n",
        "import os\n",
        "\n",
        "# Load file and folder of each dataset individually\n",
        "# Comment out the other 9 when you want to use one subjects data\n",
        "\n",
        "#files=os.listdir(\"Datasett/\")\n",
        "#folder=\"Datasett/\"\n",
        "\n",
        "#files=os.listdir(\"Dataset2/\")\n",
        "#folder=\"Dataset2/\"\n",
        "\n",
        "#files=os.listdir(\"Dataset3/\")\n",
        "#folder=\"Dataset3/\"\n",
        "\n",
        "#files=os.listdir(\"Dataset4/\")\n",
        "#folder=\"Dataset4/\"\n",
        "\n",
        "#files=os.listdir(\"Dataset5/\")\n",
        "#folder=\"Dataset5/\"\n",
        "\n",
        "#files=os.listdir(\"Dataset6/\")\n",
        "#folder=\"Dataset6/\"\n",
        "\n",
        "#files=os.listdir(\"Dataset7/\")\n",
        "#folder=\"Dataset7/\"\n",
        "\n",
        "#files=os.listdir(\"Dataset8/\")\n",
        "#folder=\"Dataset8/\"\n",
        "\n",
        "#files=os.listdir(\"Dataset9/\")\n",
        "#folder=\"Dataset9/\"\n",
        "\n",
        "files=os.listdir(\"Dataset10/\")\n",
        "folder=\"Dataset10/\""
      ],
      "execution_count": null,
      "outputs": []
    },
    {
      "cell_type": "code",
      "metadata": {
        "id": "B_xu7W8rbEQV",
        "colab_type": "code",
        "colab": {
          "base_uri": "https://localhost:8080/",
          "height": 85
        },
        "outputId": "c454366f-13ea-4dba-9725-12908024b13e"
      },
      "source": [
        "features=[]\n",
        "labels=[]\n",
        "\n",
        "# loop over all files to get features and labels\n",
        "with tqdm(total=len(files)) as pbar:\n",
        "    for f1 in files:\n",
        "        name=folder+f1\n",
        "        f = open(name, 'r')\n",
        "        x=f.readline()\n",
        "        while(x):\n",
        "            x=x.split()\n",
        "            labels.append(int(x[-1]))\n",
        "            del x[-1]\n",
        "            sublist=[]\n",
        "            for val in x:\n",
        "                sublist.append(val)\n",
        "            features.append(np.array(sublist))\n",
        "            x=f.readline()\n",
        "        pbar.update(1)\n",
        "\n",
        "# Convert to an array\n",
        "features=np.array(features)\n",
        "labels=np.array(labels)\n",
        "\n",
        "# Print shape of features and labels\n",
        "print(features.shape)\n",
        "print(labels.shape)\n",
        "\n",
        "# Print unique labels\n",
        "print(np.unique(labels))\n",
        "\n",
        "# saving for future use\n",
        "with open(\"features\", 'wb') as fp:\n",
        "    pickle.dump(features, fp)\n",
        "\n",
        "with open(\"labels\", 'wb') as fp:\n",
        "    pickle.dump(labels, fp)"
      ],
      "execution_count": null,
      "outputs": [
        {
          "output_type": "stream",
          "text": [
            "100%|██████████| 1/1 [00:01<00:00,  1.12s/it]\n"
          ],
          "name": "stderr"
        },
        {
          "output_type": "stream",
          "text": [
            "(98304, 23)\n",
            "(98304,)\n",
            "[ 0  1  2  3  4  5  6  7  8  9 10 11 12]\n"
          ],
          "name": "stdout"
        }
      ]
    },
    {
      "cell_type": "code",
      "metadata": {
        "id": "JaUTV-3xbF0M",
        "colab_type": "code",
        "colab": {}
      },
      "source": [
        "# getting data\n",
        "with open('features', 'rb') as fp:\n",
        "    X=pickle.load(fp)\n",
        "\n",
        "with open('labels', 'rb') as fp:\n",
        "    y=pickle.load(fp)"
      ],
      "execution_count": null,
      "outputs": []
    },
    {
      "cell_type": "code",
      "metadata": {
        "id": "k4j_DSgxbHF9",
        "colab_type": "code",
        "colab": {
          "base_uri": "https://localhost:8080/",
          "height": 105
        },
        "outputId": "3de1f4fb-c0c3-4395-abe5-86574d0e9675"
      },
      "source": [
        "# encoding labels to one hot form\n",
        "oh=OneHotEncoder()\n",
        "y=oh.fit_transform(np.reshape(y,(-1,1)))"
      ],
      "execution_count": null,
      "outputs": [
        {
          "output_type": "stream",
          "text": [
            "/usr/local/lib/python3.6/dist-packages/sklearn/preprocessing/_encoders.py:415: FutureWarning: The handling of integer data will change in version 0.22. Currently, the categories are determined based on the range [0, max(values)], while in the future they will be determined based on the unique values.\n",
            "If you want the future behaviour and silence this warning, you can specify \"categories='auto'\".\n",
            "In case you used a LabelEncoder before this OneHotEncoder to convert the categories to integers, then you can now use the OneHotEncoder directly.\n",
            "  warnings.warn(msg, FutureWarning)\n"
          ],
          "name": "stderr"
        }
      ]
    },
    {
      "cell_type": "code",
      "metadata": {
        "id": "1lD86nFMbIa9",
        "colab_type": "code",
        "colab": {}
      },
      "source": [
        "# splitting data into training and testing\n",
        "X_train, X_test, y_train, y_test=train_test_split(X,y,test_size=0.2, random_state=42, shuffle=True)\n",
        "\n",
        "# X_train=np.expand_dims(X_train,axis=2)\n",
        "# X_test=np.expand_dims(X_test,axis=2)"
      ],
      "execution_count": null,
      "outputs": []
    },
    {
      "cell_type": "code",
      "metadata": {
        "id": "_QzGJJqybJzl",
        "colab_type": "code",
        "colab": {
          "base_uri": "https://localhost:8080/",
          "height": 1000
        },
        "outputId": "f956c156-c7a5-47fc-9d7a-4a66a5f2959a"
      },
      "source": [
        "# Autoencoder\n",
        "input = Input(shape=(23,))\n",
        "\n",
        "d=Dense(128, activation='relu')(input)\n",
        "d=Dense(64, activation='relu')(d)\n",
        "\n",
        "# learn a representation (encoding) for a set of data\n",
        "d=Dense(8, activation='relu',name='encoding')(d)\n",
        "\n",
        "d=Dense(64, activation='relu')(d)\n",
        "d=Dense(128, activation='relu')(d)\n",
        "\n",
        "# Linear (i.e. identity) activation function\n",
        "d=Dense(23, activation='linear')(d)\n",
        "\n",
        "model = Model(inputs=input, outputs=d)\n",
        "\n",
        "# defining learning rate and optimizer\n",
        "adam=Adam(lr=0.0005)\n",
        "\n",
        "# compiling model\n",
        "model.compile(optimizer=adam, loss='mse')\n",
        "\n",
        "# fit model, define batch size and number of epochs\n",
        "history=model.fit(X_train,X_train,batch_size=32, epochs=20,validation_data=(X_test,X_test))\n",
        "\n",
        "# saving model\n",
        "model.save('ae.h5')\n",
        "\n",
        "with open(\"OH\", 'wb') as fp:\n",
        "    pickle.dump(oh, fp)\n",
        "\n",
        "# plotting stats of model\n",
        "print(history.history.keys())\n",
        "\n",
        "# \"Loss\"\n",
        "plt.plot(history.history['loss'])\n",
        "plt.plot(history.history['val_loss'])\n",
        "plt.title('Autoencoder loss')\n",
        "plt.ylabel('loss')\n",
        "plt.xlabel('epoch')\n",
        "plt.legend(['train', 'validation'], loc='upper left')\n",
        "plt.savefig(\"ae-loss.png\")\n",
        "\n",
        "with open(\"X_test-AE\", 'wb') as fp:\n",
        "    pickle.dump(X_test, fp)\n",
        "\n",
        "with open(\"y_test-AE\", 'wb') as fp:\n",
        "    pickle.dump(y_test, fp)"
      ],
      "execution_count": null,
      "outputs": [
        {
          "output_type": "stream",
          "text": [
            "Train on 78643 samples, validate on 19661 samples\n",
            "Epoch 1/20\n",
            "78643/78643 [==============================] - 8s 98us/step - loss: 26.7882 - val_loss: 5.8226\n",
            "Epoch 2/20\n",
            "78643/78643 [==============================] - 7s 87us/step - loss: 5.6470 - val_loss: 5.1128\n",
            "Epoch 3/20\n",
            "78643/78643 [==============================] - 7s 89us/step - loss: 5.1506 - val_loss: 4.9288\n",
            "Epoch 4/20\n",
            "78643/78643 [==============================] - 7s 86us/step - loss: 4.9251 - val_loss: 4.5909\n",
            "Epoch 5/20\n",
            "78643/78643 [==============================] - 7s 88us/step - loss: 4.6868 - val_loss: 4.4962\n",
            "Epoch 6/20\n",
            "78643/78643 [==============================] - 7s 87us/step - loss: 4.4594 - val_loss: 4.1393\n",
            "Epoch 7/20\n",
            "78643/78643 [==============================] - 7s 89us/step - loss: 4.2478 - val_loss: 4.0013\n",
            "Epoch 8/20\n",
            "78643/78643 [==============================] - 7s 88us/step - loss: 4.1359 - val_loss: 4.0161\n",
            "Epoch 9/20\n",
            "78643/78643 [==============================] - 7s 88us/step - loss: 4.0713 - val_loss: 3.8875\n",
            "Epoch 10/20\n",
            "78643/78643 [==============================] - 7s 86us/step - loss: 3.9536 - val_loss: 3.8352\n",
            "Epoch 11/20\n",
            "78643/78643 [==============================] - 7s 89us/step - loss: 3.8308 - val_loss: 3.6086\n",
            "Epoch 12/20\n",
            "78643/78643 [==============================] - 7s 87us/step - loss: 3.7759 - val_loss: 3.5734\n",
            "Epoch 13/20\n",
            "78643/78643 [==============================] - 7s 88us/step - loss: 3.6807 - val_loss: 3.5226\n",
            "Epoch 14/20\n",
            "78643/78643 [==============================] - 8s 95us/step - loss: 3.5982 - val_loss: 3.3950\n",
            "Epoch 15/20\n",
            "78643/78643 [==============================] - 7s 92us/step - loss: 3.5536 - val_loss: 3.3785\n",
            "Epoch 16/20\n",
            "78643/78643 [==============================] - 7s 88us/step - loss: 3.5060 - val_loss: 3.4365\n",
            "Epoch 17/20\n",
            "78643/78643 [==============================] - 7s 90us/step - loss: 3.4586 - val_loss: 3.9898\n",
            "Epoch 18/20\n",
            "78643/78643 [==============================] - 7s 90us/step - loss: 3.3826 - val_loss: 3.2601\n",
            "Epoch 19/20\n",
            "78643/78643 [==============================] - 7s 91us/step - loss: 3.4043 - val_loss: 3.2864\n",
            "Epoch 20/20\n",
            "78643/78643 [==============================] - 7s 91us/step - loss: 3.2855 - val_loss: 3.4981\n",
            "dict_keys(['val_loss', 'loss'])\n"
          ],
          "name": "stdout"
        },
        {
          "output_type": "display_data",
          "data": {
            "image/png": "[encoded data removed]",
            "text/plain": [
              "<Figure size 432x288 with 1 Axes>"
            ]
          },
          "metadata": {
            "tags": []
          }
        }
      ]
    },
    {
      "cell_type": "code",
      "metadata": {
        "id": "_5xZJSIQbNid",
        "colab_type": "code",
        "colab": {
          "base_uri": "https://localhost:8080/",
          "height": 425
        },
        "outputId": "9393003e-7bea-4532-99c6-02c1cc233dcc"
      },
      "source": [
        "# Print model inputs, outputs and model summary.\n",
        "print(model.input)\n",
        "print(model.outputs)\n",
        "print(model.summary())"
      ],
      "execution_count": null,
      "outputs": [
        {
          "output_type": "stream",
          "text": [
            "Tensor(\"input_3:0\", shape=(?, 23), dtype=float32)\n",
            "[<tf.Tensor 'dense_15/BiasAdd:0' shape=(?, 23) dtype=float32>]\n",
            "_________________________________________________________________\n",
            "Layer (type)                 Output Shape              Param #   \n",
            "=================================================================\n",
            "input_3 (InputLayer)         (None, 23)                0         \n",
            "_________________________________________________________________\n",
            "dense_11 (Dense)             (None, 128)               3072      \n",
            "_________________________________________________________________\n",
            "dense_12 (Dense)             (None, 64)                8256      \n",
            "_________________________________________________________________\n",
            "encoding (Dense)             (None, 8)                 520       \n",
            "_________________________________________________________________\n",
            "dense_13 (Dense)             (None, 64)                576       \n",
            "_________________________________________________________________\n",
            "dense_14 (Dense)             (None, 128)               8320      \n",
            "_________________________________________________________________\n",
            "dense_15 (Dense)             (None, 23)                2967      \n",
            "=================================================================\n",
            "Total params: 23,711\n",
            "Trainable params: 23,711\n",
            "Non-trainable params: 0\n",
            "_________________________________________________________________\n",
            "None\n"
          ],
          "name": "stdout"
        }
      ]
    },
    {
      "cell_type": "code",
      "metadata": {
        "id": "5D4GcFhDbTds",
        "colab_type": "code",
        "colab": {}
      },
      "source": [
        "#getting data\n",
        "with open('features', 'rb') as fp:\n",
        "    X=pickle.load(fp)\n",
        "\n",
        "with open('labels', 'rb') as fp:\n",
        "    y=pickle.load(fp)"
      ],
      "execution_count": null,
      "outputs": []
    },
    {
      "cell_type": "code",
      "metadata": {
        "id": "R9OQht9JbV3t",
        "colab_type": "code",
        "colab": {
          "base_uri": "https://localhost:8080/",
          "height": 68
        },
        "outputId": "4a94e954-82f7-4466-a8e0-5363cce79719"
      },
      "source": [
        "# Get features from the AutoEncoder model\n",
        "\n",
        "# call previous model\n",
        "#model=load_model('ae.h5')\n",
        "layer_name = 'encoding'\n",
        "intermediate_layer_model = Model(inputs=model.input,\n",
        "                            outputs=model.get_layer(layer_name).output)\n",
        "\n",
        "# convert predicted model to an array to identify features\n",
        "newfeatures=np.array(intermediate_layer_model.predict(X))\n",
        "\n",
        "# print shape of predicted new features\n",
        "print(newfeatures.shape)\n",
        "\n",
        "# splitting predicted new features into training and testing\n",
        "X_train, X_test, y_train, y_test=train_test_split(newfeatures,y,test_size=0.2, random_state=42, shuffle=True)\n",
        "\n",
        "print(y_train.shape)\n",
        "\n",
        "# Write a pickled representation of new features to ae_features.\n",
        "with open(\"ae_features\", 'wb') as fp:\n",
        "    pickle.dump(newfeatures, fp)\n",
        "\n",
        "# Import\n",
        "from sklearn.ensemble import RandomForestClassifier\n",
        "\n",
        "# Random Forest Classifier - identify number of trees (40) + no. of processors (4) allowed to use\n",
        "clf=RandomForestClassifier(n_estimators=40,n_jobs=4)\n",
        "\n",
        "# fit the training data\n",
        "clf.fit(X_train,y_train)\n",
        "\n",
        "# Print Accuracy\n",
        "print(\"Testing Accuracy after AutoEncoder and Random Forest: {}%\".format(100*clf.score(X_test,y_test)))"
      ],
      "execution_count": null,
      "outputs": [
        {
          "output_type": "stream",
          "text": [
            "(98304, 8)\n",
            "(78643,)\n",
            "Testing Accuracy after AutoEncoder and Random Forest: 83.25110625095367%\n"
          ],
          "name": "stdout"
        }
      ]
    },
    {
      "cell_type": "code",
      "metadata": {
        "id": "EseiSUI0bYxV",
        "colab_type": "code",
        "colab": {}
      },
      "source": [
        "# import relevant libraries\n",
        "import numpy as np\n",
        "import matplotlib.pyplot as plt\n",
        "from tqdm import tqdm\n",
        "import csv\n",
        "from matplotlib import style\n",
        "import string\n",
        "from collections import Counter\n",
        "import sys\n",
        "import pickle\n",
        "import glob\n",
        "from keras.layers import Dense\n",
        "from keras.layers import LSTM\n",
        "from keras.models import Model\n",
        "from keras.layers import Input, Dense, Flatten, Dropout\n",
        "from keras.optimizers import Adam\n",
        "from keras.preprocessing.sequence import pad_sequences\n",
        "from sklearn.model_selection import train_test_split\n",
        "from sklearn.preprocessing import OneHotEncoder\n",
        "from keras.models import load_model"
      ],
      "execution_count": null,
      "outputs": []
    },
    {
      "cell_type": "code",
      "metadata": {
        "id": "yYMfqgIibagU",
        "colab_type": "code",
        "colab": {
          "base_uri": "https://localhost:8080/",
          "height": 51
        },
        "outputId": "64d0f011-bc47-44a7-b77e-f389fa33a655"
      },
      "source": [
        "# ADDED\n",
        "\n",
        "# Load previous auto encoder model\n",
        "model=load_model('ae.h5')\n",
        "# learn a representation (encoding) for a set of data\n",
        "layer_name = 'encoding'\n",
        "\n",
        "# build intermediate layer model\n",
        "intermediate_layer_model = Model(inputs=model.input,\n",
        "                            outputs=model.get_layer(layer_name).output)\n",
        "\n",
        "# convert models predicted feats to array\n",
        "newfeatures=np.array(intermediate_layer_model.predict(X))\n",
        "\n",
        "# print shape of new features\n",
        "print(newfeatures.shape)\n",
        "\n",
        "# split train/test\n",
        "X_train, X_test, y_train, y_test=train_test_split(newfeatures,y,test_size=0.2, random_state=42, shuffle=True)\n",
        "\n",
        "# print y_train shaoe\n",
        "print(y_train.shape)\n",
        "\n",
        "with open(\"ae_features\", 'wb') as fp:\n",
        "    pickle.dump(newfeatures, fp)"
      ],
      "execution_count": null,
      "outputs": [
        {
          "output_type": "stream",
          "text": [
            "(98304, 8)\n",
            "(78643,)\n"
          ],
          "name": "stdout"
        }
      ]
    },
    {
      "cell_type": "code",
      "metadata": {
        "id": "ACAAB87oiLEQ",
        "colab_type": "code",
        "colab": {
          "base_uri": "https://localhost:8080/",
          "height": 346
        },
        "outputId": "01773bc2-8afd-43e5-d031-0ccc63b1f3b5"
      },
      "source": [
        "from time import time\n",
        "import numpy as np\n",
        "import matplotlib.pyplot as plt\n",
        "from matplotlib import offsetbox\n",
        "from sklearn import manifold, datasets, decomposition, ensemble,discriminant_analysis, random_projection\n",
        "from sklearn.manifold import TSNE\n",
        "\n",
        "tsne = TSNE(n_components=2, random_state=0,perplexity=30,learning_rate=150,n_iter=500)\n",
        "X_tsne = tsne.fit_transform(X)\n",
        "\n",
        "plt.title('t-SNE: Subject 10')\n",
        "plt.scatter(X_tsne[:, 0], X_tsne[:, 1], c=y, cmap=plt.cm.get_cmap(\"jet\", 13), label='Centroids')\n",
        "plt.colorbar(ticks=range(13))\n",
        "plt.clim(0, 13)\n",
        "plt.ylabel('Iterations = 500')\n",
        "plt.xlabel('Perplexity = 30')\n",
        "plt.rc('grid', linestyle=\"-\", color='black')\n",
        "plt.grid(True)\n",
        "plt.show()\n",
        "\n",
        "## ORIGINAL DATA DIMENSIONS\n",
        "print('Original Data Dimension: Subject 10',np.array(X).shape)\n",
        "\n",
        "## DIMENSIONS AFTER t-SNE\n",
        "print('Dimensions after t-SNE: Subject 10',np.array(X_tsne).shape)\n",
        "\n",
        "## KL-divergence\n",
        "print(\"KL-divergence for subject 10: \", tsne.kl_divergence_)\n"
      ],
      "execution_count": null,
      "outputs": [
        {
          "output_type": "display_data",
          "data": {
            "image/png": "[encoded data removed]",
            "text/plain": [
              "<Figure size 432x288 with 2 Axes>"
            ]
          },
          "metadata": {
            "tags": []
          }
        },
        {
          "output_type": "stream",
          "text": [
            "Original Data Dimension: Subject 10 (98304, 23)\n",
            "Dimensions after t-SNE: Subject 10 (98304, 2)\n",
            "KL-divergence for subject 10:  4.203800678253174\n"
          ],
          "name": "stdout"
        }
      ]
    }
  ]
}
